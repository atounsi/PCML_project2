{
 "cells": [
  {
   "cell_type": "code",
   "execution_count": 1,
   "metadata": {
    "collapsed": false
   },
   "outputs": [],
   "source": [
    "# Useful starting lines\n",
    "%matplotlib inline\n",
    "\n",
    "import numpy as np\n",
    "import scipy\n",
    "import scipy.io\n",
    "import scipy.sparse as sp\n",
    "import matplotlib.pyplot as plt\n",
    "from helpers import calculate_mse\n",
    "%load_ext autoreload\n",
    "%autoreload 2\u001c"
   ]
  },
  {
   "cell_type": "markdown",
   "metadata": {},
   "source": [
    "## Load Data"
   ]
  },
  {
   "cell_type": "code",
   "execution_count": 2,
   "metadata": {
    "collapsed": false
   },
   "outputs": [
    {
     "name": "stdout",
     "output_type": "stream",
     "text": [
      "number of items: 10000, number of users: 1000\n"
     ]
    }
   ],
   "source": [
    "from helpers import load_data, preprocess_data\n",
    "\n",
    "path_dataset = \"../data/data_train.csv\"\n",
    "ratings = load_data(path_dataset)"
   ]
  },
  {
   "cell_type": "code",
   "execution_count": 3,
   "metadata": {
    "collapsed": false
   },
   "outputs": [
    {
     "data": {
      "image/png": "[encoded data removed]",
      "text/plain": [
       "<matplotlib.figure.Figure at 0x1ea3157f240>"
      ]
     },
     "metadata": {},
     "output_type": "display_data"
    },
    {
     "name": "stdout",
     "output_type": "stream",
     "text": [
      "min # of items per user = 8, min # of users per item = 3.\n"
     ]
    }
   ],
   "source": [
    "from plots import plot_raw_data\n",
    "\n",
    "num_items_per_user, num_users_per_item = plot_raw_data(ratings)\n",
    "\n",
    "print(\"min # of items per user = {}, min # of users per item = {}.\".format(\n",
    "        min(num_items_per_user), min(num_users_per_item)))"
   ]
  },
  {
   "cell_type": "markdown",
   "metadata": {},
   "source": [
    "## Split data into training and test set"
   ]
  },
  {
   "cell_type": "code",
   "execution_count": 4,
   "metadata": {
    "collapsed": true
   },
   "outputs": [],
   "source": [
    "def split_data(ratings, num_items_per_user, num_users_per_item,\n",
    "               min_num_ratings, p_test=0.1):\n",
    "    \"\"\"split the ratings to training data and test data.\n",
    "    Args:\n",
    "        min_num_ratings: \n",
    "            all users and items we keep must have at least min_num_ratings per user and per item. \n",
    "    \"\"\"\n",
    "    # set seed\n",
    "    np.random.seed(988)\n",
    "    \n",
    "    # select user and item based on the condition.\n",
    "    valid_users = np.where(num_items_per_user >= min_num_ratings)[0]\n",
    "    valid_items = np.where(num_users_per_item >= min_num_ratings)[0]\n",
    "    valid_ratings = ratings[valid_items, :][: , valid_users]\n",
    "    \n",
    "    # ***************************************************\n",
    "    # INSERT YOUR CODE HERE\n",
    "    # split the data and return train and test data. TODO\n",
    "    # NOTE: we only consider users and movies that have more\n",
    "    # than 10 ratings\n",
    "    # generate random indices\n",
    "    train = sp.lil_matrix((len(valid_items), len(valid_users)))\n",
    "    test = sp.lil_matrix((len(valid_items), len(valid_users)))\n",
    "    index_row,index_col = valid_ratings.nonzero()\n",
    "    for i in np.arange(len(index_row)):\n",
    "        # train or test\n",
    "        choice = np.random.choice(a=[1, 2],p=[0.1,0.9])\n",
    "        if(choice == 1):\n",
    "            test[index_row[i],index_col[i]] = valid_ratings[index_row[i],index_col[i]]\n",
    "        else:\n",
    "            train[index_row[i],index_col[i]] = valid_ratings[index_row[i],index_col[i]]\n",
    "    # ***************************************************\n",
    "    #print(\"Total number of nonzero elements in origial data:{v}\".format(v=ratings.nnz))\n",
    "    #print(\"Total number of nonzero elements in train data:{v}\".format(v=train.nnz))\n",
    "    #print(\"Total number of nonzero elements in test data:{v}\".format(v=test.nnz))\n",
    "    return valid_ratings, train, test"
   ]
  },
  {
   "cell_type": "code",
   "execution_count": 5,
   "metadata": {
    "collapsed": false
   },
   "outputs": [],
   "source": [
    "from plots import plot_train_test_data\n",
    "\n",
    "valid_ratings, train_validation, test = split_data(\n",
    "    ratings, num_items_per_user, num_users_per_item, min_num_ratings=0, p_test=0.1)\n",
    "#plot_train_test_data(train_validation, test)"
   ]
  },
  {
   "cell_type": "code",
   "execution_count": 6,
   "metadata": {
    "collapsed": false
   },
   "outputs": [
    {
     "name": "stdout",
     "output_type": "stream",
     "text": [
      "(10000, 1000)\n",
      "(10000, 1000)\n"
     ]
    }
   ],
   "source": [
    "print(ratings.shape)\n",
    "print(test.shape)"
   ]
  },
  {
   "cell_type": "markdown",
   "metadata": {},
   "source": [
    "## Matrix factorisation using SGD-b"
   ]
  },
  {
   "cell_type": "code",
   "execution_count": 7,
   "metadata": {
    "collapsed": true
   },
   "outputs": [],
   "source": [
    "def init_MF(train, num_features):\n",
    "    \"\"\"init the parameter for matrix factorization.\"\"\"\n",
    "    num_items, num_users = train.shape\n",
    "    \n",
    "    user_features = 0.1* np.ones ((num_features, num_users)) \n",
    "    item_features = 0.1*np.ones ((num_features, num_items)) \n",
    "\n",
    "    return user_features, item_features\n",
    "def compute_error_b(data, user_features, item_features, nz, b_u, b_i, b_g):\n",
    "\n",
    "        # ***************************************************\n",
    "    real_label = np.array([data[d,n] for (d,n) in nz])\n",
    "    pred_array = np.dot(item_features.T,user_features) + b_u + b_i + b_g\n",
    "    prediction = np.array([pred_array[d,n] for (d,n) in nz])\n",
    "    rmse = np.sqrt((1/len(nz))*calculate_mse(real_label,prediction))\n",
    "    # ***************************************************\n",
    "    return rmse\n",
    "\n",
    "def mean_user(train,test):  \n",
    "    num_items, num_users = train.shape\n",
    "    mean =  np.array(train.sum(axis=0)/train.getnnz(axis=0))[0]   \n",
    "    mean_u = np.ones((num_items,num_users))*mean.T\n",
    "    return mean_u\n",
    "\n",
    "def mean_item(train,test):  \n",
    "    num_items, num_users = train.shape\n",
    "    mean =  np.array(train.sum(axis=1).T/train.getnnz(axis=1))[0]   \n",
    "    mean_i = (np.ones((num_items,num_users)).T*mean).T\n",
    "    return mean_i\n",
    "\n",
    "def mean_global(train,test):\n",
    "    num_items, num_users = train.shape\n",
    "    mean = (train.sum())/train.nnz\n",
    "    mean_g = np.ones((num_items,num_users))*mean\n",
    "    return mean_g"
   ]
  },
  {
   "cell_type": "code",
   "execution_count": 8,
   "metadata": {
    "collapsed": true
   },
   "outputs": [],
   "source": [
    "def matrix_factorization_SGD_b(train, test):\n",
    "    \"\"\"matrix factorization by SGD.\"\"\"\n",
    "    # define parameters\n",
    "    gamma = 0.01\n",
    "    num_features = 8   # K in the lecture notes =20\n",
    "    lambda_user = 0.05\n",
    "    lambda_item = 0.10\n",
    "    it = 0    # number of full passes through the train set # use test rmse\n",
    "    errors = [0]\n",
    "    \n",
    "    # set seed\n",
    "    np.random.seed(988)\n",
    "\n",
    "    # init matrix\n",
    "    user_features, item_features = init_MF(train, num_features)\n",
    "    \n",
    "    # find the non-zero ratings indices \n",
    "    nz_row, nz_col = train.nonzero()\n",
    "    nz_train = list(zip(nz_row, nz_col))\n",
    "    nz_row, nz_col = test.nonzero()\n",
    "    nz_test = list(zip(nz_row, nz_col))\n",
    "    \n",
    "    \n",
    "    b_u = mean_user(train,test)\n",
    "    b_i = mean_item(train,test)\n",
    "    b_g = mean_global(train,test)\n",
    "    \n",
    "\n",
    "    errors[0] = compute_error_b(train, user_features, item_features, nz_train, b_u, b_i, b_g)\n",
    "    \n",
    "    \n",
    "    num_items, num_users = train.shape\n",
    "    \n",
    "    error = 100.5\n",
    "    error_new = 90.5\n",
    "\n",
    "    \n",
    "        \n",
    "    print(\"learn the matrix factorization using SGD...\")\n",
    "    while ( error > error_new and it < 10):        \n",
    "        # shuffle the training rating indices\n",
    "        np.random.shuffle(nz_train)\n",
    "        \n",
    "        error = error_new\n",
    "        \n",
    "        # decrease step size\n",
    "        gamma /= 1.2\n",
    "        \n",
    "\n",
    "        #diff = train.toarray() - item_features.T.dot(user_features)\n",
    "\n",
    "        for d, n in nz_train:\n",
    "            \n",
    "            prediction = item_features[:,d].dot(user_features[:,n])\n",
    "            #gradient\n",
    "            prediction_error = (train[d,n] - b_u[d,n] - b_i[d,n] - b_g[d,n] - prediction )\n",
    "            #print(prediction_error)\n",
    "            \n",
    "            \n",
    "            #gradient entries for W\n",
    "            gradient_w= -(prediction_error)*(user_features[:,n].T) + lambda_item * (item_features[:,d].T)\n",
    "            #gradient entries for Z\n",
    "            gradient_z = -(prediction_error)*(item_features[:,d]) + lambda_user * (user_features[:,n].T)\n",
    "            \n",
    "            \n",
    "            b_u[d,n] += gamma*(prediction_error - lambda_user*b_u[d,n])\n",
    "            b_i[d,n] += gamma*(prediction_error - lambda_item*b_i[d,n])\n",
    "            #b_g[d,n] += gamma*(prediction_error - lambda_item*lambda_user*b_g[d,n])\n",
    "            \n",
    "            #update\n",
    "            item_features[:,d] -=  gamma*gradient_w.T\n",
    "            user_features[:,n] -=  gamma*gradient_z.T\n",
    "\n",
    "        \n",
    "        rmse = compute_error_b(train, user_features, item_features, nz_train, b_u, b_i, b_g)\n",
    "\n",
    "        print(\"iter: {}, RMSE on training set: {}.\".format(it, rmse))\n",
    "        \n",
    "        \n",
    "        error_new = compute_error_b(test, user_features, item_features, nz_test, b_u, b_i, b_g)\n",
    "        print(\"iter: {}, RMSE on testing set: {}.\".format(it, error_new))\n",
    "        it += 1\n",
    "        errors.append(rmse)\n",
    "    rmse = compute_error_b(test, user_features, item_features, nz_test, b_u, b_i, b_g)\n",
    "    print(\"RMSE on test data: {}.\".format(rmse))\n",
    "    pred = item_features.T.dot(user_features)+b_u+b_i+b_g\n",
    "    return pred,nz_train,nz_test\n",
    "\n",
    " "
   ]
  },
  {
   "cell_type": "code",
   "execution_count": 9,
   "metadata": {
    "collapsed": false
   },
   "outputs": [
    {
     "name": "stdout",
     "output_type": "stream",
     "text": [
      "learn the matrix factorization using SGD...\n",
      "iter: 0, RMSE on training set: 1.025554320994228.\n",
      "iter: 0, RMSE on testing set: 1.0525105297104802.\n",
      "iter: 1, RMSE on training set: 0.9929783387076588.\n",
      "iter: 1, RMSE on testing set: 1.0347986363443002.\n",
      "iter: 2, RMSE on training set: 0.9745832570709049.\n",
      "iter: 2, RMSE on testing set: 1.0276846366100527.\n",
      "iter: 3, RMSE on training set: 0.9592558219297654.\n",
      "iter: 3, RMSE on testing set: 1.0230819646897855.\n",
      "iter: 4, RMSE on training set: 0.947057829474969.\n",
      "iter: 4, RMSE on testing set: 1.018272404140875.\n",
      "iter: 5, RMSE on training set: 0.9385803977848219.\n",
      "iter: 5, RMSE on testing set: 1.0168919218843726.\n",
      "iter: 6, RMSE on training set: 0.9303823958459199.\n",
      "iter: 6, RMSE on testing set: 1.014087180214594.\n",
      "iter: 7, RMSE on training set: 0.9246874088009948.\n",
      "iter: 7, RMSE on testing set: 1.0127758768314847.\n",
      "iter: 8, RMSE on training set: 0.9197812961343997.\n",
      "iter: 8, RMSE on testing set: 1.0121174671459385.\n",
      "iter: 9, RMSE on training set: 0.9156110500996683.\n",
      "iter: 9, RMSE on testing set: 1.0104297127268524.\n",
      "RMSE on test data: 1.0104297127268524.\n"
     ]
    }
   ],
   "source": [
    "pred,nz_train,nz_test = matrix_factorization_SGD_b(train_validation, test)"
   ]
  },
  {
   "cell_type": "code",
   "execution_count": 10,
   "metadata": {
    "collapsed": true
   },
   "outputs": [],
   "source": [
    "def feature_adding(train, test, pred):\n",
    "    \"\"\"\n",
    "    built y = real_labels  tx = (pred, #user ratings, #movie ratings, mean rate per user, mean rate per movie)\n",
    "    May be also add std deviation\n",
    "    \n",
    "    \"\"\"\n",
    "    \n",
    "    num_u = train.getnnz(axis=0)\n",
    "    num_i = train.getnnz(axis=1)   \n",
    "    mean_u = np.array(train.sum(axis=0)/num_u)[0]\n",
    "    mean_i = np.array(train.sum(axis=1).T/num_i)[0]\n",
    "    \n",
    "    train_a = train.toarray()\n",
    "    \n",
    "    std_u = np.std(train_a, axis=0)\n",
    "    std_i = np.std(train_a, axis=1)\n",
    "    \n",
    "    y = np.array([train[d,n] for (d,n) in nz_train])\n",
    "    y_test = np.array([test[d,n] for (d,n) in nz_test])\n",
    "    \n",
    "    \n",
    "    tX = np.array([[pred[d,n],num_u[n],num_i[d],mean_u[n],mean_i[d],std_u[n],std_i[d]] for (d,n) in nz_train])\n",
    "    tX_test = np.array([[pred[d,n],num_u[n],num_i[d],mean_u[n],mean_i[d],std_u[n],std_i[d]] for (d,n) in nz_test])\n",
    "   \n",
    "    return y, y_test, tX, tX_test"
   ]
  },
  {
   "cell_type": "code",
   "execution_count": 11,
   "metadata": {
    "collapsed": true
   },
   "outputs": [],
   "source": [
    "#least square\n",
    "def least_squares(y, tx):\n",
    "    \"\"\"\n",
    "    Least squares using normal equations.\n",
    "    \"\"\"\n",
    "    w = np.linalg.solve(tx.T.dot(tx), tx.T.dot(y))\n",
    "    return w\n",
    "\n",
    "def error_mse(y, tx, w):\n",
    "    rmse = np.sqrt((1/len(y))*calculate_mse(y,tx.dot(w)))\n",
    "    return rmse\n",
    "def ridge_regression(y, tx):\n",
    "    \"\"\"\n",
    "    Least squares using normal equations (with L2 regularization)\n",
    "    \"\"\"\n",
    "    lambda_ = 0.1\n",
    "    reg = 2 * y.size * lambda_ * np.identity(tx.shape[1]) # L2 regularization term\n",
    "    w = np.linalg.solve(tx.T.dot(tx) + reg, tx.T.dot(y))\n",
    "    return w"
   ]
  },
  {
   "cell_type": "code",
   "execution_count": 12,
   "metadata": {
    "collapsed": false
   },
   "outputs": [],
   "source": [
    "def sigmoid(t):\n",
    "    \"\"\"\n",
    "    Apply sigmoid function on t.\n",
    "    \"\"\"\n",
    "    # Here the exp-normalize trick is used to improve numerical stability.\n",
    "    # See: https://timvieira.github.io/blog/post/2014/02/11/exp-normalize-trick/\n",
    "    # The code has been adapted to work with vector notation (i.e. parallel).\n",
    "    signs = t >= 0\n",
    "    z = np.exp((1 - signs*2) * t)\n",
    "    return (z * (1 - signs) + signs) / (1 + z)\n",
    "    \n",
    "    \n",
    "def compute_loss_logistic(y, tx, w):\n",
    "    \"\"\"\n",
    "    Compute the cost by negative log likelihood (for logistic regression).\n",
    "    \"\"\"\n",
    "    # Compute log(1 + exp(tx w)) in a numerically stable way\n",
    "    a = np.logaddexp(0, tx.dot(w)) # This is equal to log(exp(0) + exp(tx w))\n",
    "    b = y * tx.dot(w)\n",
    "    return np.sum(a - b)\n",
    "\n",
    "def compute_gradient_logistic(y, tx, w):\n",
    "    \"\"\"\n",
    "    Compute the gradient of loss (for logistic regression).\n",
    "    \"\"\"\n",
    "    return tx.T.dot(sigmoid(tx.dot(w)) - y)\n",
    "\n",
    "def logistic_regression(y, tx, initial_w, max_iters, gamma):\n",
    "    \"\"\"\n",
    "    Logistic regression using batch gradient descent.\n",
    "    \"\"\"\n",
    "    w = initial_w\n",
    "    threshold = 1e-10 # Threshold for convergence detection\n",
    "    prev_loss = compute_loss_logistic(y, tx, w)\n",
    "    for i in range(max_iters):\n",
    "        w = w - gamma * compute_gradient_logistic(y, tx, w)\n",
    "        loss = compute_loss_logistic(y, tx, w)\n",
    "        if prev_loss - loss < threshold:\n",
    "            break # Convergence detected\n",
    "        prev_loss = loss\n",
    "    \n",
    "    return w"
   ]
  },
  {
   "cell_type": "code",
   "execution_count": 13,
   "metadata": {
    "collapsed": true
   },
   "outputs": [],
   "source": [
    "y, y_test, tX, tX_test = feature_adding(train_validation, test, pred)"
   ]
  },
  {
   "cell_type": "code",
   "execution_count": 22,
   "metadata": {
    "collapsed": false
   },
   "outputs": [
    {
     "name": "stdout",
     "output_type": "stream",
     "text": [
      "0.947502524938\n",
      "1.0023662484\n"
     ]
    }
   ],
   "source": [
    "w = ridge_regression(y, tX)\n",
    "print(error_mse(y, tX, w))\n",
    "print(error_mse(y_test, tX_test, w))\n"
   ]
  },
  {
   "cell_type": "code",
   "execution_count": null,
   "metadata": {
    "collapsed": false
   },
   "outputs": [],
   "source": []
  },
  {
   "cell_type": "code",
   "execution_count": 23,
   "metadata": {
    "collapsed": false
   },
   "outputs": [],
   "source": [
    "import itertools\n",
    "def feature_adding_all(train, test, pred):\n",
    "    num_u = train.getnnz(axis=0)\n",
    "    num_i = train.getnnz(axis=1)   \n",
    "    mean_u = np.array(train.sum(axis=0)/num_u)[0]\n",
    "    mean_i = np.array(train.sum(axis=1).T/num_i)[0]\n",
    "    \n",
    "    train_a = train.toarray()\n",
    "    \n",
    "    std_u = np.std(train_a, axis=0)\n",
    "    std_i = np.std(train_a, axis=1)\n",
    "    \n",
    "    ind =  itertools.product(np.arange(train.shape[0]), np.arange(train.shape[1]))\n",
    "    \n",
    "    tX = np.array([[pred[d,n],num_u[n],num_i[d],mean_u[n],mean_i[d],std_u[n],std_i[d]] for (d,n) in ind])\n",
    "   \n",
    "    return tX"
   ]
  },
  {
   "cell_type": "code",
   "execution_count": 24,
   "metadata": {
    "collapsed": false
   },
   "outputs": [],
   "source": [
    "tX_all = feature_adding_all(train_validation, test, pred)"
   ]
  },
  {
   "cell_type": "code",
   "execution_count": 25,
   "metadata": {
    "collapsed": true
   },
   "outputs": [],
   "source": [
    "def pred_all(tX_all, w):\n",
    "    return tX_all.dot(w)\n",
    "\n",
    "w_nth = np.array([1,0,0,0,0,0,0])\n",
    "pred_all = pred_all(tX_all, w_nth)\n"
   ]
  },
  {
   "cell_type": "code",
   "execution_count": 26,
   "metadata": {
    "collapsed": false
   },
   "outputs": [
    {
     "name": "stdout",
     "output_type": "stream",
     "text": [
      "(10000, 1000)\n",
      "(10000, 1000)\n",
      "(10000, 1000)\n",
      "(10000000,)\n"
     ]
    }
   ],
   "source": [
    "print(pred.shape)\n",
    "print(ratings.shape)\n",
    "print(test.shape)\n",
    "print(pred_all.shape)"
   ]
  },
  {
   "cell_type": "code",
   "execution_count": 27,
   "metadata": {
    "collapsed": false
   },
   "outputs": [
    {
     "name": "stdout",
     "output_type": "stream",
     "text": [
      "(10000, 1000)\n"
     ]
    }
   ],
   "source": [
    "pred_ready = pred_all.reshape((pred.shape[0], pred.shape[1]))\n",
    "print(pred_ready.shape)\n",
    "#print(pred)\n",
    "#print(pred_ready)"
   ]
  },
  {
   "cell_type": "code",
   "execution_count": 36,
   "metadata": {
    "collapsed": false
   },
   "outputs": [],
   "source": [
    "def submit_predictions(prediction, outputFilename, sampleSubmissionFilename):\n",
    "    import csv\n",
    "    \n",
    "    ## Read the indices \n",
    "    with open(sampleSubmissionFilename,'r') as csvinput:\n",
    "        reader = csvinput.read().splitlines()\n",
    "        i=-1\n",
    "        ind = []\n",
    "        for row in reader:\n",
    "            if i != -1:\n",
    "                pos, rating = row.split(',')\n",
    "                ind.append(pos)\n",
    "            i+=1\n",
    "    ## Create rows to be written\n",
    "    rows = zip(ind, prediction)\n",
    "\n",
    "    ## Write prediction with indices\n",
    "    import csv\n",
    "    with open(outputFilename, 'w', newline='\\n') as f:\n",
    "        writer = csv.writer(f)\n",
    "        writer.writerow(['Id','Prediction'])\n",
    "        for row in rows:\n",
    "            writer.writerow(row)"
   ]
  },
  {
   "cell_type": "code",
   "execution_count": 38,
   "metadata": {
    "collapsed": false
   },
   "outputs": [
    {
     "name": "stdout",
     "output_type": "stream",
     "text": [
      "Loading test data\n",
      "number of items: 10000, number of users: 1000\n"
     ]
    }
   ],
   "source": [
    "##===Load test data====##\n",
    "print(\"Loading test data\")\n",
    "path_dataset = \"../data/sampleSubmission.csv\"\n",
    "submission_ratings = load_data(path_dataset)\n",
    "\n"
   ]
  },
  {
   "cell_type": "code",
   "execution_count": 39,
   "metadata": {
    "collapsed": false
   },
   "outputs": [
    {
     "name": "stdout",
     "output_type": "stream",
     "text": [
      "Generate predictions\n"
     ]
    }
   ],
   "source": [
    "\n",
    "##====Generate predictions for test data====##\n",
    "print(\"Generate predictions\")\n",
    "##all nnz since ==3 \n",
    "nz_row, nz_col = submission_ratings.nonzero()\n",
    "nz = list(zip(nz_row, nz_col))\n",
    "prediction = [pred_ready[d,n] for (d,n) in nz]\n",
    "prediction = np.round(prediction,10)\n",
    "\n",
    "\n"
   ]
  },
  {
   "cell_type": "code",
   "execution_count": 40,
   "metadata": {
    "collapsed": false
   },
   "outputs": [
    {
     "name": "stdout",
     "output_type": "stream",
     "text": [
      "Creating submission file\n"
     ]
    }
   ],
   "source": [
    "##==== Create submission file=====##\n",
    "print(\"Creating submission file\")\n",
    "sampleSubmissionFilename = '../data/sampleSubmission.csv'\n",
    "outputFilename = 'submit_real.csv'\n",
    "submit_predictions(prediction, outputFilename, sampleSubmissionFilename)"
   ]
  },
  {
   "cell_type": "markdown",
   "metadata": {
    "collapsed": true
   },
   "source": []
  },
  {
   "cell_type": "code",
   "execution_count": null,
   "metadata": {
    "collapsed": true
   },
   "outputs": [],
   "source": []
  },
  {
   "cell_type": "code",
   "execution_count": null,
   "metadata": {
    "collapsed": false
   },
   "outputs": [],
   "source": []
  },
  {
   "cell_type": "markdown",
   "metadata": {},
   "source": []
  },
  {
   "cell_type": "code",
   "execution_count": null,
   "metadata": {
    "collapsed": true
   },
   "outputs": [],
   "source": []
  },
  {
   "cell_type": "code",
   "execution_count": null,
   "metadata": {
    "collapsed": true
   },
   "outputs": [],
   "source": []
  },
  {
   "cell_type": "code",
   "execution_count": null,
   "metadata": {
    "collapsed": false
   },
   "outputs": [],
   "source": []
  },
  {
   "cell_type": "markdown",
   "metadata": {},
   "source": []
  },
  {
   "cell_type": "code",
   "execution_count": null,
   "metadata": {
    "collapsed": true
   },
   "outputs": [],
   "source": []
  },
  {
   "cell_type": "code",
   "execution_count": null,
   "metadata": {
    "collapsed": true
   },
   "outputs": [],
   "source": []
  },
  {
   "cell_type": "code",
   "execution_count": null,
   "metadata": {
    "collapsed": true
   },
   "outputs": [],
   "source": []
  },
  {
   "cell_type": "code",
   "execution_count": null,
   "metadata": {
    "collapsed": true
   },
   "outputs": [],
   "source": []
  },
  {
   "cell_type": "code",
   "execution_count": null,
   "metadata": {
    "collapsed": false
   },
   "outputs": [],
   "source": []
  },
  {
   "cell_type": "markdown",
   "metadata": {},
   "source": []
  },
  {
   "cell_type": "markdown",
   "metadata": {},
   "source": []
  },
  {
   "cell_type": "code",
   "execution_count": null,
   "metadata": {
    "collapsed": false
   },
   "outputs": [],
   "source": []
  },
  {
   "cell_type": "markdown",
   "metadata": {},
   "source": []
  },
  {
   "cell_type": "code",
   "execution_count": null,
   "metadata": {
    "collapsed": true
   },
   "outputs": [],
   "source": []
  },
  {
   "cell_type": "markdown",
   "metadata": {},
   "source": []
  },
  {
   "cell_type": "code",
   "execution_count": null,
   "metadata": {
    "collapsed": true
   },
   "outputs": [],
   "source": []
  },
  {
   "cell_type": "markdown",
   "metadata": {},
   "source": []
  },
  {
   "cell_type": "code",
   "execution_count": null,
   "metadata": {
    "collapsed": true
   },
   "outputs": [],
   "source": []
  },
  {
   "cell_type": "markdown",
   "metadata": {},
   "source": []
  },
  {
   "cell_type": "code",
   "execution_count": null,
   "metadata": {
    "collapsed": true
   },
   "outputs": [],
   "source": []
  }
 ],
 "metadata": {
  "anaconda-cloud": {},
  "kernelspec": {
   "display_name": "Python [Root]",
   "language": "python",
   "name": "Python [Root]"
  },
  "language_info": {
   "codemirror_mode": {
    "name": "ipython",
    "version": 3
   },
   "file_extension": ".py",
   "mimetype": "text/x-python",
   "name": "python",
   "nbconvert_exporter": "python",
   "pygments_lexer": "ipython3",
   "version": "3.5.2"
  }
 },
 "nbformat": 4,
 "nbformat_minor": 0
}
