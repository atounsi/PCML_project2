{
 "cells": [
  {
   "cell_type": "code",
   "execution_count": 1,
   "metadata": {
    "collapsed": false
   },
   "outputs": [],
   "source": [
    "# Useful starting lines\n",
    "%matplotlib inline\n",
    "\n",
    "import numpy as np\n",
    "import scipy\n",
    "import scipy.io\n",
    "import scipy.sparse as sp\n",
    "import matplotlib.pyplot as plt\n",
    "from helpers import *\n",
    "from plots import *\n",
    "from split_data import *\n",
    "from recommender import *\n",
    "from cross_validation import *\n",
    "%load_ext autoreload\n",
    "%autoreload 2\u001c"
   ]
  },
  {
   "cell_type": "markdown",
   "metadata": {},
   "source": [
    "## Load Data"
   ]
  },
  {
   "cell_type": "code",
   "execution_count": 2,
   "metadata": {
    "collapsed": false
   },
   "outputs": [
    {
     "name": "stdout",
     "output_type": "stream",
     "text": [
      "number of items: 10000, number of users: 1000\n"
     ]
    }
   ],
   "source": [
    "path_dataset = \"../data/data_train.csv\"\n",
    "ratings = load_data(path_dataset)"
   ]
  },
  {
   "cell_type": "markdown",
   "metadata": {},
   "source": [
    "## Split data into training and test set"
   ]
  },
  {
   "cell_type": "code",
   "execution_count": null,
   "metadata": {
    "collapsed": false
   },
   "outputs": [],
   "source": []
  },
  {
   "cell_type": "code",
   "execution_count": 3,
   "metadata": {
    "collapsed": false
   },
   "outputs": [
    {
     "name": "stdout",
     "output_type": "stream",
     "text": [
      "function 'compiled'\n"
     ]
    }
   ],
   "source": [
    "def split_data(ratings, p_test=0.1, seed=45):\n",
    "    \n",
    "    # set seed\n",
    "    np.random.seed(seed)\n",
    "    \n",
    "    # generate random indices\n",
    "    row = ratings.shape[0]\n",
    "    col = ratings.shape[1]\n",
    "    num = row*col\n",
    "    \n",
    "    indices = np.random.permutation(num)\n",
    "    index_split = int(np.floor(p_test * num))\n",
    "    \n",
    "    index_tr_n = indices[: index_split]\n",
    "    index_te_n = indices[index_split:]\n",
    "    \n",
    "    \n",
    "    \n",
    "    rat_arr = ratings.toarray()\n",
    "    \n",
    "    # reshaping\n",
    "    valid_array_te = np.copy(rat_arr).reshape((num,1))\n",
    "    valid_array_tr = np.copy(rat_arr).reshape((num,1))  \n",
    "    \n",
    "    # create split\n",
    "    train = valid_array_tr\n",
    "    train[index_tr_n] = 0\n",
    "    train = train.reshape((row,col))\n",
    "    \n",
    "    test = valid_array_te\n",
    "    test[index_te_n] = 0\n",
    "    test = test.reshape((row,col))\n",
    "    \n",
    "    # ***************************************************\n",
    "    \n",
    "    #print (valid_ratings, train, test)\n",
    "    return rat_arr, train, test\n",
    "print(\"function 'compiled'\")"
   ]
  },
  {
   "cell_type": "code",
   "execution_count": 4,
   "metadata": {
    "collapsed": false
   },
   "outputs": [
    {
     "name": "stdout",
     "output_type": "stream",
     "text": [
      "done\n"
     ]
    }
   ],
   "source": [
    "rats, train, test = split_data(ratings, p_test=0.1, seed=46)\n",
    "print(\"done\")#2:10 much quicker than that :)\n"
   ]
  },
  {
   "cell_type": "code",
   "execution_count": 5,
   "metadata": {
    "collapsed": false
   },
   "outputs": [
    {
     "name": "stdout",
     "output_type": "stream",
     "text": [
      "functions 'compiled'\n"
     ]
    }
   ],
   "source": [
    "def user_mean(data):\n",
    "    nnz_u = np.copy(data)\n",
    "    nnz_u[np.where( data > 0 )] = 1\n",
    "    return train.sum(axis=0) / nnz_u.sum(axis=0)\n",
    "\n",
    "def item_mean(data):\n",
    "    \n",
    "    nnz_i = np.copy(data)\n",
    "    nnz_i[np.where( data >1 )] = 1\n",
    "    return train.sum(axis=1) / nnz_i.sum(axis=1)\n",
    "    \n",
    "print(\"functions 'compiled'\")"
   ]
  },
  {
   "cell_type": "code",
   "execution_count": 6,
   "metadata": {
    "collapsed": false
   },
   "outputs": [
    {
     "name": "stdout",
     "output_type": "stream",
     "text": [
      "function 'compiled'\n"
     ]
    }
   ],
   "source": [
    "def init_MF_ALS_biased(train, num_features, factor_features=0.1, factor_biases=1):\n",
    "    num_items, num_users = train.shape\n",
    "    user_features = factor_features*np.ones((num_users,num_features))\n",
    "    item_features = factor_features*np.ones((num_items,num_features))\n",
    "    user_biases = factor_biases*np.ones(num_users)\n",
    "    item_biases = factor_biases*np.ones(num_items)\n",
    "    return user_features, item_features, user_biases, item_biases\n",
    "print(\"function 'compiled'\")"
   ]
  },
  {
   "cell_type": "code",
   "execution_count": 7,
   "metadata": {
    "collapsed": false
   },
   "outputs": [
    {
     "name": "stdout",
     "output_type": "stream",
     "text": [
      "function 'compiled'\n"
     ]
    }
   ],
   "source": [
    "def init_MF_ALS(train, num_features, factor_features=0.1):\n",
    "    num_items, num_users = train.shape\n",
    "    user_features = factor_features*np.ones((num_users,num_features))\n",
    "    item_features = factor_features*np.ones((num_items,num_features))\n",
    "    return user_features, item_features\n",
    "print(\"function 'compiled'\")   "
   ]
  },
  {
   "cell_type": "code",
   "execution_count": 8,
   "metadata": {
    "collapsed": false
   },
   "outputs": [
    {
     "name": "stdout",
     "output_type": "stream",
     "text": [
      "functions 'compiled'\n"
     ]
    }
   ],
   "source": [
    "def data_user_biased(data, user_biases):\n",
    "    data_user_biased = data - user_biases\n",
    "    return data_user_biased\n",
    "def data_item_biased(data, item_biases):\n",
    "    data_item_biased = (data.T - item_biases).T\n",
    "    return  data_item_biased\n",
    "print(\"functions 'compiled'\")"
   ]
  },
  {
   "cell_type": "code",
   "execution_count": 9,
   "metadata": {
    "collapsed": false
   },
   "outputs": [
    {
     "name": "stdout",
     "output_type": "stream",
     "text": [
      "function 'compiled'\n"
     ]
    }
   ],
   "source": [
    "def compute_error_prediction(data, prediction, nz):\n",
    "    real_label = np.array([data[d,n] for (d,n) in nz])\n",
    "    prediction_label = np.array([prediction[d,n] for (d,n) in nz])\n",
    "    rmse = np.sqrt((1/len(nz))*calculate_mse(real_label,prediction_label))\n",
    "    return rmse\n",
    "print(\"function 'compiled'\")"
   ]
  },
  {
   "cell_type": "code",
   "execution_count": 10,
   "metadata": {
    "collapsed": false
   },
   "outputs": [
    {
     "name": "stdout",
     "output_type": "stream",
     "text": [
      "function 'compiled'\n"
     ]
    }
   ],
   "source": [
    "def prediction_biased(item_features, item_biases, user_features, user_biases):    \n",
    "    prediction_data =    user_features.dot(item_features.T).T\n",
    "    prediction = ((prediction_data + user_biases).T + item_biases).T       \n",
    "    return prediction\n",
    "print(\"function 'compiled'\")"
   ]
  },
  {
   "cell_type": "code",
   "execution_count": 11,
   "metadata": {
    "collapsed": false
   },
   "outputs": [
    {
     "name": "stdout",
     "output_type": "stream",
     "text": [
      "functions 'compiled'\n"
     ]
    }
   ],
   "source": [
    "def update_item_biased_feature(train, user_features, user_biases, lambda_item, nnz_users_per_item, nz_item_userindices):\n",
    "    \n",
    "    num_users, num_features = user_features.shape\n",
    "    num_items = train.shape[0]\n",
    "    ones_biases = np.array([np.ones(num_users)])\n",
    "    item_biases = np.zeros(num_items)\n",
    "    item_features = np.zeros((num_items,num_features))         \n",
    "        \n",
    "    for item in np.arange(num_items): \n",
    "        nnz_users = nnz_users_per_item[item]\n",
    "        nz_userindices = nz_item_userindices[item]\n",
    "        nz_userfeatures = user_features[nz_userindices,:]\n",
    "        nz_onesbiases = ones_biases[:,nz_userindices]\n",
    "        nz_userbiases = user_biases[nz_userindices]\n",
    "    \n",
    "    \n",
    "        Xt = np.concatenate((nz_onesbiases, nz_userfeatures.T), axis=0)\n",
    "        A = Xt.dot(Xt.T) + lambda_item*nnz_users*np.eye(num_features+1)  \n",
    "        train_item = (train[item,nz_userindices])\n",
    "        b = Xt.dot(data_user_biased(train_item, nz_userbiases).T) \n",
    "\n",
    "        Yt = np.linalg.solve(A,b)\n",
    "        \n",
    "        item_features[item,:] = Yt[1:num_features+1]\n",
    "        item_biases[item] = Yt[0]\n",
    "\n",
    "    return item_features, item_biases\n",
    "\n",
    "def update_user_biased_feature(train, item_features, item_biases, lambda_user, nnz_items_per_user, nz_user_itemindices):\n",
    "    \n",
    "    num_users = train.shape[1]\n",
    "    num_items, num_features = item_features.shape\n",
    "    ones_biases = np.array([np.ones(num_items)])\n",
    "    user_biases = np.zeros(num_users)\n",
    "    user_features = np.zeros((num_users,num_features))\n",
    "    \n",
    "    for user in np.arange(num_users):        \n",
    "        nnz_items = nnz_items_per_user[user]\n",
    "        nz_itemindices = nz_user_itemindices[user]\n",
    "        nz_itemfeatures = item_features[nz_itemindices,:]\n",
    "        nz_onesbiases = ones_biases[:,nz_itemindices]\n",
    "        nz_itembiases = item_biases[nz_itemindices]\n",
    "        \n",
    "    \n",
    "        Yt = np.concatenate((nz_onesbiases, nz_itemfeatures.T), axis=0)\n",
    "        A = Yt.dot(Yt.T) + lambda_user*nnz_items*np.eye(num_features+1)  \n",
    "        train_user = train[nz_itemindices,user]\n",
    "        b = Yt.dot(data_item_biased(train_user, nz_itembiases)) \n",
    "        Xt = np.linalg.solve(A,b)\n",
    "        \n",
    "        user_features[user,:] = Xt[1:num_features+1]\n",
    "        user_biases[user] = Xt[0]\n",
    "\n",
    "    return user_features, user_biases\n",
    "\n",
    "print(\"functions 'compiled'\")"
   ]
  },
  {
   "cell_type": "code",
   "execution_count": 13,
   "metadata": {
    "collapsed": false,
    "scrolled": true
   },
   "outputs": [
    {
     "name": "stdout",
     "output_type": "stream",
     "text": [
      "learn the matrix factorization using ALS...\n",
      "iter: 0, RMSE on training set: 0.9992039618771512.\n",
      "iter: 1, RMSE on training set: 0.9876753791248908.\n",
      "iter: 2, RMSE on training set: 0.9864005907408453.\n",
      "iter: 3, RMSE on training set: 0.9867920781431252.\n",
      "Best iter: 2, with RMSE on test data: 1.0004500614216185. \n"
     ]
    },
    {
     "data": {
      "text/plain": [
       "1.0004500614216185"
      ]
     },
     "execution_count": 13,
     "metadata": {},
     "output_type": "execute_result"
    }
   ],
   "source": [
    "def ALS_biased(train, test, num_features = 10, lambda_user = 0.1, lambda_item = 0.1, seed=552):\n",
    "    \n",
    "    stop_criterion = 1e-7\n",
    "\n",
    "    error_list = [0, 0]\n",
    "    max_it = 10 \n",
    "    \n",
    "    error_old = 10\n",
    "    error_new = 5\n",
    "    \n",
    "    # set seed\n",
    "    np.random.seed(seed)\n",
    "\n",
    "    # init ALS\n",
    "    user_features, item_features, user_biases, item_biases = init_MF_ALS_biased(train, num_features)\n",
    "    \n",
    "    # ***************************************************\n",
    "    \n",
    "    nz_row, nz_col = train.nonzero()\n",
    "    nz_train = list(zip(nz_row, nz_col))    \n",
    "    \n",
    "    nz_row, nz_col = test.nonzero()\n",
    "    nz_test = list(zip(nz_row, nz_col))\n",
    "    \n",
    "    nz_train, nz_row_colindices, nz_col_rowindices = build_index_groups(train)\n",
    "    _,nz_user_itemindices = map(list,zip(*nz_col_rowindices))\n",
    "    nnz_items_per_user = [len(i) for i in nz_user_itemindices]\n",
    "    _,nz_item_userindices = map(list,zip(*nz_row_colindices))\n",
    "    nnz_users_per_item = [len(i) for i in nz_item_userindices]\n",
    "\n",
    "    print(\"learn the matrix factorization using ALS...\")\n",
    "\n",
    "    for it in np.arange(max_it):\n",
    "        \n",
    "        \n",
    "        item_features, item_biases = update_item_biased_feature(train, user_features, user_biases, lambda_item, nnz_users_per_item, nz_item_userindices)\n",
    "        user_features, user_biases = update_user_biased_feature(train, item_features, item_biases, lambda_user, nnz_items_per_user, nz_user_itemindices)\n",
    "        \n",
    "        prediction = prediction_biased(item_features, item_biases, user_features, user_biases)        \n",
    "        rmse = compute_error_prediction(train, prediction, nz_train)        \n",
    "        print(\"iter: {}, RMSE on training set: {}.\".format(it, rmse))\n",
    "        \n",
    "        error_new = compute_error_prediction(test, prediction, nz_test)\n",
    "        \n",
    "        error_list.append(rmse)\n",
    "        if abs(error_list[-1]-error_list[-2])<stop_criterion:\n",
    "            break\n",
    "        if error_new>error_old:\n",
    "            print(\"Best iter: {}, with RMSE on test data: {}. \".format(it-1,error_old))\n",
    "            break\n",
    "        error_old = error_new\n",
    "\n",
    "    prediction = prediction_biased(item_features, item_biases, user_features, user_biases)\n",
    "    rmse = compute_error_prediction(test, prediction, nz_test)\n",
    "    #print(\"RMSE on test data: {}.\".format(rmse))\n",
    "    #print(\"done\")\n",
    "    return error_old\n",
    "    \n",
    "    # ***************************************************\n",
    "\n",
    "ALS_biased(train, test)"
   ]
  },
  {
   "cell_type": "code",
   "execution_count": 12,
   "metadata": {
    "collapsed": false
   },
   "outputs": [
    {
     "name": "stdout",
     "output_type": "stream",
     "text": [
      "function 'compiled'\n"
     ]
    }
   ],
   "source": [
    "def prediction_non_biased(item_features, user_features):    \n",
    "    prediction = user_features.dot(item_features.T).T    \n",
    "    return prediction\n",
    "print(\"function 'compiled'\")"
   ]
  },
  {
   "cell_type": "code",
   "execution_count": 13,
   "metadata": {
    "collapsed": false
   },
   "outputs": [
    {
     "name": "stdout",
     "output_type": "stream",
     "text": [
      "functions 'compiled'\n"
     ]
    }
   ],
   "source": [
    "def update_user_feature(\n",
    "        train, item_features, lambda_user,\n",
    "        nnz_items_per_user, nz_user_itemindices):\n",
    "    \"\"\"update user feature matrix.\"\"\"\n",
    "    # ***************************************************\n",
    "    num_items,num_users = train.shape\n",
    "    num_features = item_features.shape[1]\n",
    "    user_feature = np.zeros((num_users,num_features))\n",
    "    for user in np.arange(num_users):\n",
    "        nnz_items = nnz_items_per_user[user]\n",
    "        nz_itemindices = nz_user_itemindices[user]\n",
    "        nz_itemfeatures = item_features[nz_itemindices,:]\n",
    "        A = ((nz_itemfeatures.T).dot(nz_itemfeatures)+lambda_user*nnz_items*np.eye(num_features))\n",
    "        train_user = train[nz_itemindices,user]\n",
    "        b = ((nz_itemfeatures.T).dot(train_user))\n",
    "        user_feature[user,:] = np.linalg.solve(A,b)\n",
    "    # ***************************************************\n",
    "    return user_feature\n",
    "\n",
    "def update_item_feature(\n",
    "        train, user_features, lambda_item,\n",
    "        nnz_users_per_item, nz_item_userindices):\n",
    "    \"\"\"update item feature matrix.\"\"\"\n",
    "    # ***************************************************\n",
    "    num_items,num_users = train.shape\n",
    "    num_features = user_features.shape[1]\n",
    "    item_feature = np.zeros((num_items,num_features))\n",
    "    for item in np.arange(num_items):\n",
    "        nnz_users = nnz_users_per_item[item]\n",
    "        nz_userindices = nz_item_userindices[item]\n",
    "        nz_userfeatures = user_features[nz_userindices,:]\n",
    "        A = ((nz_userfeatures.T).dot(nz_userfeatures)+lambda_item*nnz_users*np.eye(num_features))\n",
    "        train_item = (train[item,nz_userindices])\n",
    "        b = ((nz_userfeatures.T).dot(train_item))\n",
    "        item_feature[item,:] = np.linalg.solve(A,b)\n",
    "    # ***************************************************\n",
    "    return item_feature\n",
    "print(\"functions 'compiled'\")"
   ]
  },
  {
   "cell_type": "code",
   "execution_count": 16,
   "metadata": {
    "collapsed": false
   },
   "outputs": [
    {
     "name": "stdout",
     "output_type": "stream",
     "text": [
      "learn the matrix factorization using ALS...\n",
      "iter: 0, RMSE on training set: 0.9959192861108764.\n",
      "iter: 1, RMSE on training set: 0.9912939750943721.\n",
      "iter: 2, RMSE on training set: 0.9908659304261874.\n",
      "iter: 3, RMSE on training set: 0.990810472982908.\n",
      "iter: 4, RMSE on training set: 0.9908690709872654.\n",
      "Best iter: 3, with RMSE on test data: 1.002509533585753. \n"
     ]
    },
    {
     "data": {
      "text/plain": [
       "1.002509533585753"
      ]
     },
     "execution_count": 16,
     "metadata": {},
     "output_type": "execute_result"
    }
   ],
   "source": [
    "def ALS(train, test, num_features = 10, lambda_user = 0.1, lambda_item = 0.1, seed=552):\n",
    "    \n",
    "    stop_criterion = 1e-7\n",
    "\n",
    "    error_list = [0, 0]\n",
    "    max_it = 10 \n",
    "    \n",
    "    error_old = 10\n",
    "    error_new = 5\n",
    "    \n",
    "    # set seed\n",
    "    np.random.seed(seed)\n",
    "\n",
    "    # init ALS\n",
    "    user_features, item_features = init_MF_ALS(train, num_features)\n",
    "    \n",
    "    # ***************************************************\n",
    "    \n",
    "    nz_row, nz_col = train.nonzero()\n",
    "    nz_train = list(zip(nz_row, nz_col))    \n",
    "    \n",
    "    nz_row, nz_col = test.nonzero()\n",
    "    nz_test = list(zip(nz_row, nz_col))\n",
    "    \n",
    "    \n",
    "    nz_train, nz_row_colindices, nz_col_rowindices = build_index_groups(train)\n",
    "    _,nz_user_itemindices = map(list,zip(*nz_col_rowindices))\n",
    "    nnz_items_per_user = [len(i) for i in nz_user_itemindices]\n",
    "    _,nz_item_userindices = map(list,zip(*nz_row_colindices))\n",
    "    nnz_users_per_item = [len(i) for i in nz_item_userindices]\n",
    "\n",
    "    print(\"learn the matrix factorization using ALS...\")\n",
    "\n",
    "    for it in np.arange(max_it):\n",
    "        \n",
    "        item_features = update_item_feature(train, user_features, lambda_item, nnz_users_per_item, nz_item_userindices)\n",
    "\n",
    "        user_features = update_user_feature(train, item_features, lambda_user, nnz_items_per_user, nz_user_itemindices)\n",
    "        \n",
    "        prediction = prediction_non_biased(item_features, user_features)\n",
    "        \n",
    "        rmse = compute_error_prediction(train, prediction, nz_train)\n",
    "        print(\"iter: {}, RMSE on training set: {}.\".format(it, rmse))\n",
    "        \n",
    "        error_new = compute_error_prediction(test, prediction, nz_test)\n",
    "        error_list.append(rmse)\n",
    "        if abs(error_list[-1]-error_list[-2])<stop_criterion:\n",
    "            break\n",
    "        if error_new>error_old:\n",
    "            print(\"Best iter: {}, with RMSE on test data: {}. \".format(it-1,error_old))\n",
    "            break\n",
    "        error_old = error_new\n",
    "        \n",
    "    prediction = prediction_non_biased(item_features, user_features)\n",
    "    rmse = compute_error_prediction(test, prediction, nz_test)\n",
    "    #print(\"RMSE on test data: {}.\".format(rmse))\n",
    "    #print(\"done\")\n",
    "    return error_old\n",
    "    \n",
    "    # ***************************************************\n",
    "\n",
    "ALS(train, test)"
   ]
  },
  {
   "cell_type": "code",
   "execution_count": 14,
   "metadata": {
    "collapsed": false
   },
   "outputs": [
    {
     "name": "stdout",
     "output_type": "stream",
     "text": [
      "function 'compiled'\n"
     ]
    }
   ],
   "source": [
    "#need k be multiple of row*col\n",
    "def k_indices_set_generator(ratings, k=5, seed=48):\n",
    "    \n",
    "    # set seed\n",
    "    np.random.seed(seed)\n",
    "    \n",
    "    # generate random indices\n",
    "    row = ratings.shape[0]\n",
    "    col = ratings.shape[1]\n",
    "    num = row*col\n",
    "    \n",
    "    indices = np.random.permutation(num)\n",
    "    \n",
    "    index_split = int(num/k)\n",
    "    k_indices_set = np.zeros((k,index_split),dtype=np.int)   \n",
    "    \n",
    "    for i in range(k):    \n",
    "        id_start = index_split*i\n",
    "        id_end = index_split*(i+1)\n",
    "        k_indices_set[i] = indices[id_start:id_end]\n",
    "    \n",
    "    return k_indices_set\n",
    "print(\"function 'compiled'\")"
   ]
  },
  {
   "cell_type": "code",
   "execution_count": 15,
   "metadata": {
    "collapsed": false
   },
   "outputs": [
    {
     "name": "stdout",
     "output_type": "stream",
     "text": [
      "function 'compiled'\n"
     ]
    }
   ],
   "source": [
    "def split_data_k(ratings, k_indices_set, k):\n",
    "    \n",
    "    K, index_split = k_indices_set.shape\n",
    "    index_tr = k_indices_set[np.where(np.arange(K) != (k-1))].reshape(((K-1)*index_split,1))[:,0]\n",
    "    index_te = k_indices_set[k-1]\n",
    "    \n",
    "    row = ratings.shape[0]\n",
    "    col = ratings.shape[1]\n",
    "    num = row*col\n",
    "    \n",
    "    rat_arr = ratings.toarray()\n",
    "    \n",
    "    # reshaping\n",
    "    valid_array_te = np.copy(rat_arr).reshape((num,1))\n",
    "    valid_array_tr = np.copy(rat_arr).reshape((num,1))  \n",
    "    \n",
    "    # create split\n",
    "    train = valid_array_tr\n",
    "    train[index_te] = 0\n",
    "    train = train.reshape((row,col))\n",
    "    \n",
    "    test = valid_array_te\n",
    "    test[index_tr] = 0\n",
    "    test = test.reshape((row,col))\n",
    "    \n",
    "    # ***************************************************\n",
    "    \n",
    "    #print (valid_ratings, train, test)\n",
    "    return train, test\n",
    "print(\"function 'compiled'\")"
   ]
  },
  {
   "cell_type": "code",
   "execution_count": null,
   "metadata": {
    "collapsed": false
   },
   "outputs": [],
   "source": []
  },
  {
   "cell_type": "code",
   "execution_count": 16,
   "metadata": {
    "collapsed": false
   },
   "outputs": [
    {
     "name": "stdout",
     "output_type": "stream",
     "text": [
      "function 'compiled'\n"
     ]
    }
   ],
   "source": [
    "def cross_validation_minimalist(ratings, K, num_features=5, lambda_user=0.01, lambda_item=0.01):\n",
    "    \n",
    "    k_indices_set = k_indices_set_generator(ratings,10)    \n",
    "\n",
    "    train_rmse_arr=[]\n",
    "    validation_rmse_arr=[]\n",
    "        \n",
    "    for k in range(K):\n",
    "        print('Running {}th fold in {} folds'.format(k+1, K))\n",
    "        train_cross,test_cross = split_data_k(ratings, k_indices_set, k+1)\n",
    "        #train_rmse, validation_rmse = ALS_Biased(training, validation, num_features, lambda_user, lambda_item)\n",
    "        validation_rmse = ALS_biased(train_cross, test_cross, num_features, lambda_user, lambda_item)    \n",
    "        #train_rmse_arr.append(train_rmse)\n",
    "        validation_rmse_arr.append(validation_rmse)\n",
    "        \n",
    "    return validation_rmse_arr\n",
    "print(\"function 'compiled'\")"
   ]
  },
  {
   "cell_type": "code",
   "execution_count": 92,
   "metadata": {
    "collapsed": false
   },
   "outputs": [
    {
     "name": "stdout",
     "output_type": "stream",
     "text": [
      "function 'compiled'\n"
     ]
    }
   ],
   "source": [
    "## !!! Takes long time to run\n",
    "def best_lambda_user(lambda_user_arr = [0.001, 0.01, 0.1, 1]):\n",
    "    \n",
    "    K = 4        ## K-fold cross validation\n",
    "    num_features = 8   # K in the lecture notes\n",
    "    \n",
    "    lambda_item = 0.05\n",
    "\n",
    "    train_rmse_mean = np.zeros(len(lambda_user_arr))\n",
    "    train_rmse_std = np.zeros(len(lambda_user_arr))\n",
    "    validation_rmse_mean = np.zeros(len(lambda_user_arr))\n",
    "    validation_rmse_std = np.zeros(len(lambda_user_arr))\n",
    "\n",
    "    for i, lambda_user in enumerate(lambda_user_arr):\n",
    "        train_rmse_arr = []\n",
    "        validation_rmse_arr = []\n",
    "\n",
    "        print('Running lambda_user={n}'.format(n=lambda_user))\n",
    "        validation_rmse_arr = cross_validation_minimalist(ratings, K, num_features, lambda_user, lambda_item)\n",
    "\n",
    "        #train_rmse_mean[i] = np.mean(train_rmse_arr)\n",
    "        #train_rmse_std[i] = np.std(train_rmse_arr)\n",
    "        validation_rmse_mean[i] = np.mean(validation_rmse_arr)\n",
    "        validation_rmse_std[i] = np.std(validation_rmse_std)\n",
    "\n",
    "    ## Plotting results\n",
    "    #plt.fill_between(lambda_user_arr, train_rmse_mean - train_rmse_std,\n",
    "    #                     train_rmse_mean + train_rmse_std, alpha=0.1, color=\"r\")\n",
    "    plt.fill_between(lambda_user_arr, validation_rmse_mean - validation_rmse_std,\n",
    "                         validation_rmse_mean + validation_rmse_std, alpha=0.1, color=\"g\")\n",
    "    #plt.plot(lambda_user_arr, train_rmse_mean, 'o-', color=\"r\")\n",
    "    plt.plot(lambda_user_arr, validation_rmse_mean, 'o-', color=\"g\")\n",
    "    plt.legend(('Train', 'Validation'))\n",
    "    plt.xlabel('Lambda user'); plt.ylabel('RMSE');\n",
    "    plt.show()\n",
    "    return list(zip(lambda_user_arr, validation_rmse_mean)) \n",
    "print(\"function 'compiled'\")"
   ]
  },
  {
   "cell_type": "code",
   "execution_count": 98,
   "metadata": {
    "collapsed": false,
    "scrolled": true
   },
   "outputs": [
    {
     "name": "stdout",
     "output_type": "stream",
     "text": [
      "Running lambda_user=0.001\n",
      "Running 1th fold in 4 folds\n",
      "learn the matrix factorization using ALS...\n",
      "iter: 0, RMSE on training set: 0.9929769056420532.\n",
      "iter: 1, RMSE on training set: 0.9800142814275047.\n",
      "iter: 2, RMSE on training set: 0.9778031585836828.\n",
      "iter: 3, RMSE on training set: 0.9760414437807262.\n",
      "iter: 4, RMSE on training set: 0.9747376355936678.\n",
      "iter: 5, RMSE on training set: 0.9727227409024222.\n",
      "iter: 6, RMSE on training set: 0.914966508465358.\n",
      "Best iter: 5, with RMSE on test data: 0.9948228573310891. \n",
      "Running 2th fold in 4 folds\n",
      "learn the matrix factorization using ALS...\n",
      "iter: 0, RMSE on training set: 0.9928747129890845.\n",
      "iter: 1, RMSE on training set: 0.9797753201128424.\n",
      "iter: 2, RMSE on training set: 0.977563332740611.\n",
      "iter: 3, RMSE on training set: 0.9758970875471963.\n",
      "iter: 4, RMSE on training set: 0.9746938801399431.\n",
      "iter: 5, RMSE on training set: 0.973649757729912.\n",
      "iter: 6, RMSE on training set: 0.9147112132295677.\n",
      "Best iter: 5, with RMSE on test data: 0.9954410604502942. \n",
      "Running 3th fold in 4 folds\n",
      "learn the matrix factorization using ALS...\n",
      "iter: 0, RMSE on training set: 0.992975314616929.\n",
      "iter: 1, RMSE on training set: 0.9799309386929324.\n",
      "iter: 2, RMSE on training set: 0.9776458458770702.\n",
      "iter: 3, RMSE on training set: 0.9758951943999847.\n",
      "iter: 4, RMSE on training set: 0.9746304707820557.\n",
      "iter: 5, RMSE on training set: 0.9735321405854357.\n",
      "iter: 6, RMSE on training set: 0.916440708186796.\n",
      "Best iter: 5, with RMSE on test data: 0.9953350939487903. \n",
      "Running 4th fold in 4 folds\n",
      "learn the matrix factorization using ALS...\n",
      "iter: 0, RMSE on training set: 0.9931165173100802.\n",
      "iter: 1, RMSE on training set: 0.9800480087361507.\n",
      "iter: 2, RMSE on training set: 0.9778076147756585.\n",
      "iter: 3, RMSE on training set: 0.9760793361077812.\n",
      "iter: 4, RMSE on training set: 0.9748087172934248.\n",
      "iter: 5, RMSE on training set: 0.9731934433852072.\n",
      "iter: 6, RMSE on training set: 0.9129928009940433.\n",
      "Best iter: 5, with RMSE on test data: 0.9934641352933978. \n",
      "Running lambda_user=0.01\n",
      "Running 1th fold in 4 folds\n",
      "learn the matrix factorization using ALS...\n",
      "iter: 0, RMSE on training set: 0.9943210166711585.\n",
      "iter: 1, RMSE on training set: 0.9797990965536134.\n",
      "iter: 2, RMSE on training set: 0.9761176643541272.\n",
      "iter: 3, RMSE on training set: 0.9748253812995347.\n",
      "iter: 4, RMSE on training set: 0.974393396374742.\n",
      "iter: 5, RMSE on training set: 0.9742561509004279.\n",
      "iter: 6, RMSE on training set: 0.9742264489089772.\n",
      "iter: 7, RMSE on training set: 0.974241732184965.\n",
      "iter: 8, RMSE on training set: 0.974172882244886.\n",
      "iter: 9, RMSE on training set: 0.9585003434789755.\n",
      "Running 2th fold in 4 folds\n",
      "learn the matrix factorization using ALS...\n",
      "iter: 0, RMSE on training set: 0.994200489486206.\n",
      "iter: 1, RMSE on training set: 0.979547362149942.\n",
      "iter: 2, RMSE on training set: 0.9759653543982625.\n",
      "iter: 3, RMSE on training set: 0.9747539454018767.\n",
      "iter: 4, RMSE on training set: 0.9743555057321669.\n",
      "iter: 5, RMSE on training set: 0.9742350175049083.\n",
      "iter: 6, RMSE on training set: 0.9742153701060043.\n",
      "iter: 7, RMSE on training set: 0.9742373722069073.\n",
      "iter: 8, RMSE on training set: 0.9742508626745296.\n",
      "iter: 9, RMSE on training set: 0.9586548440314241.\n",
      "Running 3th fold in 4 folds\n",
      "learn the matrix factorization using ALS...\n",
      "iter: 0, RMSE on training set: 0.9942982683131368.\n",
      "iter: 1, RMSE on training set: 0.9796855079451856.\n",
      "iter: 2, RMSE on training set: 0.9759685105206689.\n",
      "iter: 3, RMSE on training set: 0.9747336196015226.\n",
      "iter: 4, RMSE on training set: 0.9743334725393248.\n",
      "iter: 5, RMSE on training set: 0.9742090154013942.\n",
      "iter: 6, RMSE on training set: 0.9741846780459739.\n",
      "iter: 7, RMSE on training set: 0.9742026860959139.\n",
      "iter: 8, RMSE on training set: 0.9741688659196696.\n",
      "iter: 9, RMSE on training set: 0.9582279710676633.\n",
      "Running 4th fold in 4 folds\n",
      "learn the matrix factorization using ALS...\n",
      "iter: 0, RMSE on training set: 0.9944438126597123.\n",
      "iter: 1, RMSE on training set: 0.979772178325982.\n",
      "iter: 2, RMSE on training set: 0.976147956465776.\n",
      "iter: 3, RMSE on training set: 0.9749321001772043.\n",
      "iter: 4, RMSE on training set: 0.9745262627844763.\n",
      "iter: 5, RMSE on training set: 0.9743938766993181.\n",
      "iter: 6, RMSE on training set: 0.9743640269733691.\n",
      "iter: 7, RMSE on training set: 0.9743784685650245.\n",
      "iter: 8, RMSE on training set: 0.9742856667110423.\n",
      "iter: 9, RMSE on training set: 0.957872355559635.\n",
      "Running lambda_user=0.1\n",
      "Running 1th fold in 4 folds\n",
      "learn the matrix factorization using ALS...\n",
      "iter: 0, RMSE on training set: 0.9989467018137866.\n",
      "iter: 1, RMSE on training set: 0.9835851361046138.\n",
      "iter: 2, RMSE on training set: 0.9820175488196572.\n",
      "iter: 3, RMSE on training set: 0.9820380227730152.\n",
      "iter: 4, RMSE on training set: 0.9822170197148622.\n",
      "iter: 5, RMSE on training set: 0.9824082654251184.\n",
      "Best iter: 4, with RMSE on test data: 0.9970262239147554. \n",
      "Running 2th fold in 4 folds\n",
      "learn the matrix factorization using ALS...\n",
      "iter: 0, RMSE on training set: 0.9988144287563311.\n",
      "iter: 1, RMSE on training set: 0.983516960601652.\n",
      "iter: 2, RMSE on training set: 0.9819415175291673.\n",
      "iter: 3, RMSE on training set: 0.9819575839677647.\n",
      "iter: 4, RMSE on training set: 0.9821357984155756.\n",
      "iter: 5, RMSE on training set: 0.9823272986618417.\n",
      "Best iter: 4, with RMSE on test data: 0.9977691492061559. \n",
      "Running 3th fold in 4 folds\n",
      "learn the matrix factorization using ALS...\n",
      "iter: 0, RMSE on training set: 0.9989130022447287.\n",
      "iter: 1, RMSE on training set: 0.9835739656401014.\n",
      "iter: 2, RMSE on training set: 0.9820040412331787.\n",
      "iter: 3, RMSE on training set: 0.9820217828387008.\n",
      "iter: 4, RMSE on training set: 0.9822008729603607.\n",
      "iter: 5, RMSE on training set: 0.9823928364096466.\n",
      "Best iter: 4, with RMSE on test data: 0.9971864547502399. \n",
      "Running 4th fold in 4 folds\n",
      "learn the matrix factorization using ALS...\n",
      "iter: 0, RMSE on training set: 0.9990600184495712.\n",
      "iter: 1, RMSE on training set: 0.9837418676893939.\n",
      "iter: 2, RMSE on training set: 0.9821606697763626.\n",
      "iter: 3, RMSE on training set: 0.9821774329675211.\n",
      "iter: 4, RMSE on training set: 0.982357338755093.\n",
      "iter: 5, RMSE on training set: 0.9825501295423122.\n",
      "Best iter: 4, with RMSE on test data: 0.9961807609735388. \n",
      "Running lambda_user=1\n",
      "Running 1th fold in 4 folds\n",
      "learn the matrix factorization using ALS...\n",
      "iter: 0, RMSE on training set: 1.139963915667709.\n",
      "iter: 1, RMSE on training set: 1.0391046649867712.\n",
      "iter: 2, RMSE on training set: 1.0203232408315512.\n",
      "iter: 3, RMSE on training set: 1.0144236437622187.\n",
      "iter: 4, RMSE on training set: 1.011479753476739.\n",
      "iter: 5, RMSE on training set: 1.0096985420107942.\n",
      "iter: 6, RMSE on training set: 1.0085462204272888.\n",
      "iter: 7, RMSE on training set: 1.0077878192632699.\n",
      "iter: 8, RMSE on training set: 1.007288867242128.\n",
      "iter: 9, RMSE on training set: 1.006962227504795.\n",
      "Running 2th fold in 4 folds\n",
      "learn the matrix factorization using ALS...\n",
      "iter: 0, RMSE on training set: 1.1398210706703822.\n",
      "iter: 1, RMSE on training set: 1.039031980361866.\n",
      "iter: 2, RMSE on training set: 1.020246757222622.\n",
      "iter: 3, RMSE on training set: 1.0143442350310983.\n",
      "iter: 4, RMSE on training set: 1.0113989713344758.\n",
      "iter: 5, RMSE on training set: 1.0096169408900433.\n",
      "iter: 6, RMSE on training set: 1.0084641187927834.\n",
      "iter: 7, RMSE on training set: 1.0077054470491191.\n",
      "iter: 8, RMSE on training set: 1.0072063843001244.\n",
      "iter: 9, RMSE on training set: 1.0068797338508622.\n",
      "Running 3th fold in 4 folds\n",
      "learn the matrix factorization using ALS...\n",
      "iter: 0, RMSE on training set: 1.139919782913605.\n",
      "iter: 1, RMSE on training set: 1.039085362480641.\n",
      "iter: 2, RMSE on training set: 1.020305481973404.\n",
      "iter: 3, RMSE on training set: 1.0144038466031142.\n",
      "iter: 4, RMSE on training set: 1.0114587274615827.\n",
      "iter: 5, RMSE on training set: 1.0096766846992196.\n",
      "iter: 6, RMSE on training set: 1.0085237195804353.\n",
      "iter: 7, RMSE on training set: 1.0077648062186293.\n",
      "iter: 8, RMSE on training set: 1.0072654507450456.\n",
      "iter: 9, RMSE on training set: 1.0069384981151148.\n",
      "Running 4th fold in 4 folds\n",
      "learn the matrix factorization using ALS...\n",
      "iter: 0, RMSE on training set: 1.1401003814193655.\n",
      "iter: 1, RMSE on training set: 1.039255302506086.\n",
      "iter: 2, RMSE on training set: 1.0204720371466207.\n",
      "iter: 3, RMSE on training set: 1.0145701350203122.\n",
      "iter: 4, RMSE on training set: 1.0116259073843241.\n",
      "iter: 5, RMSE on training set: 1.0098448065996783.\n",
      "iter: 6, RMSE on training set: 1.0086925955821735.\n",
      "iter: 7, RMSE on training set: 1.0079342228252628.\n",
      "iter: 8, RMSE on training set: 1.0074352249191394.\n",
      "iter: 9, RMSE on training set: 1.0071084908340298.\n"
     ]
    },
    {
     "data": {
      "image/png": "[encoded data removed]",
      "text/plain": [
       "<matplotlib.figure.Figure at 0x1de88ff1c88>"
      ]
     },
     "metadata": {},
     "output_type": "display_data"
    }
   ],
   "source": [
    "best_lambda_u = best_lambda_user()"
   ]
  },
  {
   "cell_type": "code",
   "execution_count": 99,
   "metadata": {
    "collapsed": false
   },
   "outputs": [
    {
     "data": {
      "text/plain": [
       "[(0.001, 0.99476578675589289),\n",
       " (0.01, 0.98815360195381285),\n",
       " (0.1, 0.99704064721117247),\n",
       " (1, 1.0200033806812665)]"
      ]
     },
     "execution_count": 99,
     "metadata": {},
     "output_type": "execute_result"
    }
   ],
   "source": [
    "best_lambda_u"
   ]
  },
  {
   "cell_type": "code",
   "execution_count": 94,
   "metadata": {
    "collapsed": false
   },
   "outputs": [
    {
     "name": "stdout",
     "output_type": "stream",
     "text": [
      "function 'compiled'\n"
     ]
    }
   ],
   "source": [
    "## !!! Takes long time to run\n",
    "def best_lambda_item(lambda_item_arr = [0.001, 0.01, 0.1, 1]):\n",
    "    \n",
    "    K = 4        ## K-fold cross validation\n",
    "    num_features = 8   # K in the lecture notes\n",
    "    \n",
    "    lambda_user = 0.05\n",
    "\n",
    "    train_rmse_mean = np.zeros(len(lambda_item_arr))\n",
    "    train_rmse_std = np.zeros(len(lambda_item_arr))\n",
    "    validation_rmse_mean = np.zeros(len(lambda_item_arr))\n",
    "    validation_rmse_std = np.zeros(len(lambda_item_arr))\n",
    "\n",
    "    for i, lambda_item in enumerate(lambda_item_arr):\n",
    "        train_rmse_arr = []\n",
    "        validation_rmse_arr = []\n",
    "\n",
    "        print('Running lambda_item={n}'.format(n=lambda_item))\n",
    "        validation_rmse_arr = cross_validation_minimalist(ratings, K, num_features, lambda_user, lambda_item)\n",
    "\n",
    "        #train_rmse_mean[i] = np.mean(train_rmse_arr)\n",
    "        #train_rmse_std[i] = np.std(train_rmse_arr)\n",
    "        validation_rmse_mean[i] = np.mean(validation_rmse_arr)\n",
    "        validation_rmse_std[i] = np.std(validation_rmse_std)\n",
    "\n",
    "    ## Plotting results\n",
    "    #plt.fill_between(lambda_user_arr, train_rmse_mean - train_rmse_std,\n",
    "    #                     train_rmse_mean + train_rmse_std, alpha=0.1, color=\"r\")\n",
    "    plt.fill_between(lambda_item_arr, validation_rmse_mean - validation_rmse_std,\n",
    "                         validation_rmse_mean + validation_rmse_std, alpha=0.1, color=\"g\")\n",
    "    #plt.plot(lambda_user_arr, train_rmse_mean, 'o-', color=\"r\")\n",
    "    plt.plot(lambda_item_arr, validation_rmse_mean, 'o-', color=\"g\")\n",
    "    plt.legend(('Train', 'Validation'))\n",
    "    plt.xlabel('Lambda item'); plt.ylabel('RMSE');\n",
    "    plt.show()\n",
    "    return list(zip(lambda_item_arr, validation_rmse_mean)) \n",
    "print(\"function 'compiled'\")"
   ]
  },
  {
   "cell_type": "code",
   "execution_count": 96,
   "metadata": {
    "collapsed": false
   },
   "outputs": [
    {
     "name": "stdout",
     "output_type": "stream",
     "text": [
      "Running lambda_item=0.001\n",
      "Running 1th fold in 4 folds\n",
      "learn the matrix factorization using ALS...\n",
      "iter: 0, RMSE on training set: 0.9960873357185817.\n",
      "iter: 1, RMSE on training set: 0.976612366897327.\n",
      "iter: 2, RMSE on training set: 0.9755615526330195.\n",
      "iter: 3, RMSE on training set: 0.9752286440620399.\n",
      "iter: 4, RMSE on training set: 0.9750605669518985.\n",
      "iter: 5, RMSE on training set: 0.9748829115354556.\n",
      "iter: 6, RMSE on training set: 0.9200355362361152.\n",
      "Best iter: 5, with RMSE on test data: 0.9973768914304485. \n",
      "Running 2th fold in 4 folds\n",
      "learn the matrix factorization using ALS...\n",
      "iter: 0, RMSE on training set: 0.9959573686539831.\n",
      "iter: 1, RMSE on training set: 0.9765698268606118.\n",
      "iter: 2, RMSE on training set: 0.975497949543537.\n",
      "iter: 3, RMSE on training set: 0.9751557762863479.\n",
      "iter: 4, RMSE on training set: 0.9749829979994818.\n",
      "iter: 5, RMSE on training set: 0.9746601479117892.\n",
      "iter: 6, RMSE on training set: 0.9201063005385897.\n",
      "Best iter: 5, with RMSE on test data: 0.9977742418776714. \n",
      "Running 3th fold in 4 folds\n",
      "learn the matrix factorization using ALS...\n",
      "iter: 0, RMSE on training set: 0.9960584523448576.\n",
      "iter: 1, RMSE on training set: 0.9766011307531289.\n",
      "iter: 2, RMSE on training set: 0.9755384534010002.\n",
      "iter: 3, RMSE on training set: 0.975200781396551.\n",
      "iter: 4, RMSE on training set: 0.9750281693242869.\n",
      "iter: 5, RMSE on training set: 0.9740730935544926.\n",
      "iter: 6, RMSE on training set: 0.9214248978900439.\n",
      "Best iter: 5, with RMSE on test data: 0.996918936446616. \n",
      "Running 4th fold in 4 folds\n",
      "learn the matrix factorization using ALS...\n",
      "iter: 0, RMSE on training set: 0.9961986855778507.\n",
      "iter: 1, RMSE on training set: 0.9767516344698101.\n",
      "iter: 2, RMSE on training set: 0.9756681743779949.\n",
      "iter: 3, RMSE on training set: 0.9753287552246782.\n",
      "iter: 4, RMSE on training set: 0.975162840762494.\n",
      "iter: 5, RMSE on training set: 0.9749148629501521.\n",
      "iter: 6, RMSE on training set: 0.9193802929541348.\n",
      "Best iter: 5, with RMSE on test data: 0.9967373411913261. \n",
      "Running lambda_item=0.01\n",
      "Running 1th fold in 4 folds\n",
      "learn the matrix factorization using ALS...\n",
      "iter: 0, RMSE on training set: 0.9960730007963843.\n",
      "iter: 1, RMSE on training set: 0.976979124425962.\n",
      "iter: 2, RMSE on training set: 0.97594816345237.\n",
      "iter: 3, RMSE on training set: 0.9757143525039755.\n",
      "iter: 4, RMSE on training set: 0.9756209733032651.\n",
      "iter: 5, RMSE on training set: 0.9755719079959561.\n",
      "iter: 6, RMSE on training set: 0.97554501355207.\n",
      "iter: 7, RMSE on training set: 0.9755315788262213.\n",
      "iter: 8, RMSE on training set: 0.975360362924979.\n",
      "iter: 9, RMSE on training set: 0.9590164578593355.\n",
      "Running 2th fold in 4 folds\n",
      "learn the matrix factorization using ALS...\n",
      "iter: 0, RMSE on training set: 0.9959429652292933.\n",
      "iter: 1, RMSE on training set: 0.9769299733292667.\n",
      "iter: 2, RMSE on training set: 0.9758816680840917.\n",
      "iter: 3, RMSE on training set: 0.9756406982335099.\n",
      "iter: 4, RMSE on training set: 0.9755441443257101.\n",
      "iter: 5, RMSE on training set: 0.9754937009052109.\n",
      "iter: 6, RMSE on training set: 0.975466355644449.\n",
      "iter: 7, RMSE on training set: 0.9754529963949405.\n",
      "iter: 8, RMSE on training set: 0.9753631439314058.\n",
      "iter: 9, RMSE on training set: 0.9596686737657821.\n",
      "Running 3th fold in 4 folds\n",
      "learn the matrix factorization using ALS...\n",
      "iter: 0, RMSE on training set: 0.9960435101408676.\n",
      "iter: 1, RMSE on training set: 0.9769717472540761.\n",
      "iter: 2, RMSE on training set: 0.9759217886649005.\n",
      "iter: 3, RMSE on training set: 0.9756827576104875.\n",
      "iter: 4, RMSE on training set: 0.9755860527606596.\n",
      "iter: 5, RMSE on training set: 0.9755341965100806.\n",
      "iter: 6, RMSE on training set: 0.9755050385434151.\n",
      "iter: 7, RMSE on training set: 0.975489886759309.\n",
      "iter: 8, RMSE on training set: 0.9754425013437233.\n",
      "iter: 9, RMSE on training set: 0.9601174611416609.\n",
      "Running 4th fold in 4 folds\n",
      "learn the matrix factorization using ALS...\n",
      "iter: 0, RMSE on training set: 0.9961848497050056.\n",
      "iter: 1, RMSE on training set: 0.9771160792772804.\n",
      "iter: 2, RMSE on training set: 0.976057658384175.\n",
      "iter: 3, RMSE on training set: 0.9758194678929908.\n",
      "iter: 4, RMSE on training set: 0.9757272493326669.\n",
      "iter: 5, RMSE on training set: 0.975680126013335.\n",
      "iter: 6, RMSE on training set: 0.9756551443679414.\n",
      "iter: 7, RMSE on training set: 0.9756434154626147.\n",
      "iter: 8, RMSE on training set: 0.9754524908914091.\n",
      "iter: 9, RMSE on training set: 0.9589651145763648.\n",
      "Running lambda_item=0.1\n",
      "Running 1th fold in 4 folds\n",
      "learn the matrix factorization using ALS...\n",
      "iter: 0, RMSE on training set: 0.9961177218312554.\n",
      "iter: 1, RMSE on training set: 0.9849389839282124.\n",
      "iter: 2, RMSE on training set: 0.9828036560704623.\n",
      "iter: 3, RMSE on training set: 0.9831438399391411.\n",
      "Best iter: 2, with RMSE on test data: 0.9966690729523255. \n",
      "Running 2th fold in 4 folds\n",
      "learn the matrix factorization using ALS...\n",
      "iter: 0, RMSE on training set: 0.9959872573017315.\n",
      "iter: 1, RMSE on training set: 0.9848421741101737.\n",
      "iter: 2, RMSE on training set: 0.9827079010572657.\n",
      "iter: 3, RMSE on training set: 0.9830412581754522.\n",
      "Best iter: 2, with RMSE on test data: 0.9975653928249989. \n",
      "Running 3th fold in 4 folds\n",
      "learn the matrix factorization using ALS...\n",
      "iter: 0, RMSE on training set: 0.9960829226346348.\n",
      "iter: 1, RMSE on training set: 0.9849079992056999.\n",
      "iter: 2, RMSE on training set: 0.9827815450937145.\n",
      "iter: 3, RMSE on training set: 0.9831180624283714.\n",
      "Best iter: 2, with RMSE on test data: 0.9968981429754232. \n",
      "Running 4th fold in 4 folds\n",
      "learn the matrix factorization using ALS...\n",
      "iter: 0, RMSE on training set: 0.9962347064848559.\n",
      "iter: 1, RMSE on training set: 0.9850674988934104.\n",
      "iter: 2, RMSE on training set: 0.9829382047398993.\n",
      "iter: 3, RMSE on training set: 0.9832756748967797.\n",
      "iter: 4, RMSE on training set: 0.9837757749735807.\n",
      "Best iter: 3, with RMSE on test data: 0.9957795300717036. \n",
      "Running lambda_item=1\n",
      "Running 1th fold in 4 folds\n",
      "learn the matrix factorization using ALS...\n",
      "iter: 0, RMSE on training set: 1.0051246341465705.\n",
      "iter: 1, RMSE on training set: 0.9978181748608232.\n",
      "iter: 2, RMSE on training set: 0.9990993068107717.\n",
      "Best iter: 1, with RMSE on test data: 1.006489771279814. \n",
      "Running 2th fold in 4 folds\n",
      "learn the matrix factorization using ALS...\n",
      "iter: 0, RMSE on training set: 1.0050044521910244.\n",
      "iter: 1, RMSE on training set: 0.9977214974387671.\n",
      "iter: 2, RMSE on training set: 0.9990064204268528.\n",
      "Best iter: 1, with RMSE on test data: 1.0071178812512975. \n",
      "Running 3th fold in 4 folds\n",
      "learn the matrix factorization using ALS...\n",
      "iter: 0, RMSE on training set: 1.0050853589111453.\n",
      "iter: 1, RMSE on training set: 0.997793138869334.\n",
      "iter: 2, RMSE on training set: 0.9990783362967482.\n",
      "Best iter: 1, with RMSE on test data: 1.0067258018196554. \n",
      "Running 4th fold in 4 folds\n",
      "learn the matrix factorization using ALS...\n",
      "iter: 0, RMSE on training set: 1.005290433362351.\n",
      "iter: 1, RMSE on training set: 0.9979534811429073.\n",
      "iter: 2, RMSE on training set: 0.9992353504364562.\n",
      "Best iter: 1, with RMSE on test data: 1.005678761658273. \n"
     ]
    },
    {
     "data": {
      "image/png": "[encoded data removed]",
      "text/plain": [
       "<matplotlib.figure.Figure at 0x1de88bf3080>"
      ]
     },
     "metadata": {},
     "output_type": "display_data"
    }
   ],
   "source": [
    "best_lambda_i = best_lambda_item()"
   ]
  },
  {
   "cell_type": "code",
   "execution_count": 97,
   "metadata": {
    "collapsed": false
   },
   "outputs": [
    {
     "data": {
      "text/plain": [
       "[(0.001, 0.99720185273651563),\n",
       " (0.01, 0.98931868962408664),\n",
       " (0.1, 0.99672803470611282),\n",
       " (1, 1.0065030540022599)]"
      ]
     },
     "execution_count": 97,
     "metadata": {},
     "output_type": "execute_result"
    }
   ],
   "source": [
    "best_lambda_i"
   ]
  },
  {
   "cell_type": "code",
   "execution_count": 103,
   "metadata": {
    "collapsed": false
   },
   "outputs": [
    {
     "name": "stdout",
     "output_type": "stream",
     "text": [
      "function 'compiled'\n"
     ]
    }
   ],
   "source": [
    "## !!! Takes long time to run\n",
    "def best_num_features(num_features_arr = [1, 4, 7, 10,13]):\n",
    "    \n",
    "    K = 4        ## K-fold cross validation\n",
    "    \n",
    "    lambda_item = 0.01\n",
    "    lambda_item = 0.01\n",
    "\n",
    "    #train_rmse_mean = np.zeros(len(lambda_user_arr))\n",
    "    #train_rmse_std = np.zeros(len(lambda_user_arr))\n",
    "    validation_rmse_mean = np.zeros(len(num_features_arr))\n",
    "    validation_rmse_std = np.zeros(len(num_features_arr))\n",
    "\n",
    "    for i, num_features in enumerate(num_features_arr):\n",
    "        #train_rmse_arr = []\n",
    "        validation_rmse_arr = []\n",
    "\n",
    "        print('Running num_features={n}'.format(n=num_features))\n",
    "        validation_rmse_arr = cross_validation_minimalist(ratings, K, num_features, lambda_user, lambda_item)\n",
    "\n",
    "        #train_rmse_mean[i] = np.mean(train_rmse_arr)\n",
    "        #train_rmse_std[i] = np.std(train_rmse_arr)\n",
    "        validation_rmse_mean[i] = np.mean(validation_rmse_arr)\n",
    "        validation_rmse_std[i] = np.std(validation_rmse_std)\n",
    "\n",
    "    ## Plotting results\n",
    "    #plt.fill_between(lambda_user_arr, train_rmse_mean - train_rmse_std,\n",
    "    #                     train_rmse_mean + train_rmse_std, alpha=0.1, color=\"r\")\n",
    "    plt.fill_between(num_features_arr, validation_rmse_mean - validation_rmse_std,\n",
    "                         validation_rmse_mean + validation_rmse_std, alpha=0.1, color=\"g\")\n",
    "    #plt.plot(lambda_user_arr, train_rmse_mean, 'o-', color=\"r\")\n",
    "    plt.plot(num_features_arr, validation_rmse_mean, 'o-', color=\"g\")\n",
    "    plt.legend(('Train', 'Validation'))\n",
    "    plt.xlabel('num_features'); plt.ylabel('RMSE');\n",
    "    plt.show()\n",
    "    return list(zip(num_features_arr, validation_rmse_mean)) \n",
    "print(\"function 'compiled'\")"
   ]
  },
  {
   "cell_type": "code",
   "execution_count": 104,
   "metadata": {
    "collapsed": false
   },
   "outputs": [
    {
     "name": "stdout",
     "output_type": "stream",
     "text": [
      "Running num_features=1\n",
      "Running 1th fold in 4 folds\n",
      "learn the matrix factorization using ALS...\n",
      "iter: 0, RMSE on training set: 1.1361536689012746.\n",
      "iter: 1, RMSE on training set: 1.0077795772000133.\n",
      "iter: 2, RMSE on training set: 0.9901997506708349.\n",
      "iter: 3, RMSE on training set: 0.9868550758734739.\n",
      "iter: 4, RMSE on training set: 0.9853504841674874.\n",
      "iter: 5, RMSE on training set: 0.9844845258313454.\n",
      "iter: 6, RMSE on training set: 0.9839283053799376.\n",
      "iter: 7, RMSE on training set: 0.9835499297048161.\n",
      "iter: 8, RMSE on training set: 0.9832846598463315.\n",
      "iter: 9, RMSE on training set: 0.9830956763324021.\n",
      "Running 2th fold in 4 folds\n",
      "learn the matrix factorization using ALS...\n",
      "iter: 0, RMSE on training set: 1.1360132050597316.\n",
      "iter: 1, RMSE on training set: 1.0077411118316377.\n",
      "iter: 2, RMSE on training set: 0.990139534944165.\n",
      "iter: 3, RMSE on training set: 0.9867932167007988.\n",
      "iter: 4, RMSE on training set: 0.9852887654598792.\n",
      "iter: 5, RMSE on training set: 0.9844230351658583.\n",
      "iter: 6, RMSE on training set: 0.9838670469287284.\n",
      "iter: 7, RMSE on training set: 0.9834889262220262.\n",
      "iter: 8, RMSE on training set: 0.9832239324672659.\n",
      "iter: 9, RMSE on training set: 0.9830352309004702.\n",
      "Running 3th fold in 4 folds\n",
      "learn the matrix factorization using ALS...\n",
      "iter: 0, RMSE on training set: 1.1361113575434632.\n",
      "iter: 1, RMSE on training set: 1.0077869217967808.\n",
      "iter: 2, RMSE on training set: 0.9901927068669049.\n",
      "iter: 3, RMSE on training set: 0.9868473956415085.\n",
      "iter: 4, RMSE on training set: 0.9853425826185781.\n",
      "iter: 5, RMSE on training set: 0.984476381622064.\n",
      "iter: 6, RMSE on training set: 0.9839199692677925.\n",
      "iter: 7, RMSE on training set: 0.9835414708603951.\n",
      "iter: 8, RMSE on training set: 0.9832761382495283.\n",
      "iter: 9, RMSE on training set: 0.9830871347377353.\n",
      "Running 4th fold in 4 folds\n",
      "learn the matrix factorization using ALS...\n",
      "iter: 0, RMSE on training set: 1.1362964761566272.\n",
      "iter: 1, RMSE on training set: 1.007944619809114.\n",
      "iter: 2, RMSE on training set: 0.9903478454345613.\n",
      "iter: 3, RMSE on training set: 0.9870036795420289.\n",
      "iter: 4, RMSE on training set: 0.9854999489408733.\n",
      "iter: 5, RMSE on training set: 0.9846344599151429.\n",
      "iter: 6, RMSE on training set: 0.9840784896715304.\n",
      "iter: 7, RMSE on training set: 0.9837002498077727.\n",
      "iter: 8, RMSE on training set: 0.9834350513633373.\n",
      "iter: 9, RMSE on training set: 0.9832461006889683.\n",
      "Running num_features=4\n",
      "Running 1th fold in 4 folds\n",
      "learn the matrix factorization using ALS...\n",
      "iter: 0, RMSE on training set: 1.1269852472811825.\n",
      "iter: 1, RMSE on training set: 1.0054860114295496.\n",
      "iter: 2, RMSE on training set: 0.9925945023354023.\n",
      "iter: 3, RMSE on training set: 0.9891030969008039.\n",
      "iter: 4, RMSE on training set: 0.9871467875117835.\n",
      "iter: 5, RMSE on training set: 0.9858674648763498.\n",
      "iter: 6, RMSE on training set: 0.9849733602686096.\n",
      "iter: 7, RMSE on training set: 0.9843297200575625.\n",
      "iter: 8, RMSE on training set: 0.9838611410354975.\n",
      "iter: 9, RMSE on training set: 0.98351908028381.\n",
      "Running 2th fold in 4 folds\n",
      "learn the matrix factorization using ALS...\n",
      "iter: 0, RMSE on training set: 1.1268418616043603.\n",
      "iter: 1, RMSE on training set: 1.0054463059805874.\n",
      "iter: 2, RMSE on training set: 0.9925375766914117.\n",
      "iter: 3, RMSE on training set: 0.9890428330452937.\n",
      "iter: 4, RMSE on training set: 0.9870853612207049.\n",
      "iter: 5, RMSE on training set: 0.9858054785751573.\n",
      "iter: 6, RMSE on training set: 0.9849111770993222.\n",
      "iter: 7, RMSE on training set: 0.9842676039363447.\n",
      "iter: 8, RMSE on training set: 0.9837992687327001.\n",
      "iter: 9, RMSE on training set: 0.9834575513126137.\n",
      "Running 3th fold in 4 folds\n",
      "learn the matrix factorization using ALS...\n",
      "iter: 0, RMSE on training set: 1.1269427744450615.\n",
      "iter: 1, RMSE on training set: 1.0054963174923395.\n",
      "iter: 2, RMSE on training set: 0.9925910477035979.\n",
      "iter: 3, RMSE on training set: 0.9890971347502558.\n",
      "iter: 4, RMSE on training set: 0.9871396206872831.\n",
      "iter: 5, RMSE on training set: 0.985859546091674.\n",
      "iter: 6, RMSE on training set: 0.9849649756774894.\n",
      "iter: 7, RMSE on training set: 0.9843210704880013.\n",
      "iter: 8, RMSE on training set: 0.9838523657402763.\n",
      "iter: 9, RMSE on training set: 0.9835102703052121.\n",
      "Running 4th fold in 4 folds\n",
      "learn the matrix factorization using ALS...\n",
      "iter: 0, RMSE on training set: 1.1271264393357396.\n",
      "iter: 1, RMSE on training set: 1.0056599752006967.\n",
      "iter: 2, RMSE on training set: 0.9927444027865773.\n",
      "iter: 3, RMSE on training set: 0.9892519830444588.\n",
      "iter: 4, RMSE on training set: 0.9872960138056839.\n",
      "iter: 5, RMSE on training set: 0.9860170730535811.\n",
      "iter: 6, RMSE on training set: 0.9851232770392077.\n",
      "iter: 7, RMSE on training set: 0.9844798630793944.\n",
      "iter: 8, RMSE on training set: 0.9840114370608977.\n",
      "iter: 9, RMSE on training set: 0.9836694703383043.\n",
      "Running num_features=7\n",
      "Running 1th fold in 4 folds\n",
      "learn the matrix factorization using ALS...\n",
      "iter: 0, RMSE on training set: 1.121232856554019.\n",
      "iter: 1, RMSE on training set: 1.0074811819274534.\n",
      "iter: 2, RMSE on training set: 0.995015905045128.\n",
      "iter: 3, RMSE on training set: 0.9908721403874234.\n",
      "iter: 4, RMSE on training set: 0.988464326388825.\n",
      "iter: 5, RMSE on training set: 0.9868582783427488.\n",
      "iter: 6, RMSE on training set: 0.9857182164223918.\n",
      "iter: 7, RMSE on training set: 0.9848868176142909.\n",
      "iter: 8, RMSE on training set: 0.9842749892625583.\n",
      "iter: 9, RMSE on training set: 0.983824467454371.\n",
      "Running 2th fold in 4 folds\n",
      "learn the matrix factorization using ALS...\n",
      "iter: 0, RMSE on training set: 1.1210876364732425.\n",
      "iter: 1, RMSE on training set: 1.0074409015597294.\n",
      "iter: 2, RMSE on training set: 0.9949597080449868.\n",
      "iter: 3, RMSE on training set: 0.9908121495214383.\n",
      "iter: 4, RMSE on training set: 0.9884027110676252.\n",
      "iter: 5, RMSE on training set: 0.9867957836163755.\n",
      "iter: 6, RMSE on training set: 0.9856553362678682.\n",
      "iter: 7, RMSE on training set: 0.9848239191501477.\n",
      "iter: 8, RMSE on training set: 0.984212325455134.\n",
      "iter: 9, RMSE on training set: 0.9837621895253353.\n",
      "Running 3th fold in 4 folds\n",
      "learn the matrix factorization using ALS...\n",
      "iter: 0, RMSE on training set: 1.1211903012980058.\n",
      "iter: 1, RMSE on training set: 1.0074924805173788.\n",
      "iter: 2, RMSE on training set: 0.9950136264035759.\n",
      "iter: 3, RMSE on training set: 0.9908665055950067.\n",
      "iter: 4, RMSE on training set: 0.9884571182039085.\n",
      "iter: 5, RMSE on training set: 0.9868501560776729.\n",
      "iter: 6, RMSE on training set: 0.9857095560625603.\n",
      "iter: 7, RMSE on training set: 0.9848778670054399.\n",
      "iter: 8, RMSE on training set: 0.9842659159895994.\n",
      "iter: 9, RMSE on training set: 0.9838153802151173.\n",
      "Running 4th fold in 4 folds\n",
      "learn the matrix factorization using ALS...\n",
      "iter: 0, RMSE on training set: 1.1213721421944867.\n",
      "iter: 1, RMSE on training set: 1.0076562498453894.\n",
      "iter: 2, RMSE on training set: 0.9951666340861719.\n",
      "iter: 3, RMSE on training set: 0.9910208989196788.\n",
      "iter: 4, RMSE on training set: 0.988613151950034.\n",
      "iter: 5, RMSE on training set: 0.9870074753025524.\n",
      "iter: 6, RMSE on training set: 0.9858677943619636.\n",
      "iter: 7, RMSE on training set: 0.985036710223515.\n",
      "iter: 8, RMSE on training set: 0.9844251148073331.\n",
      "iter: 9, RMSE on training set: 0.9839747507662651.\n",
      "Running num_features=10\n",
      "Running 1th fold in 4 folds\n",
      "learn the matrix factorization using ALS...\n",
      "iter: 0, RMSE on training set: 1.1176385325959686.\n",
      "iter: 1, RMSE on training set: 1.0096227922805647.\n",
      "iter: 2, RMSE on training set: 0.9970257697501684.\n",
      "iter: 3, RMSE on training set: 0.9923264047178764.\n",
      "iter: 4, RMSE on training set: 0.9895480962175512.\n",
      "iter: 5, RMSE on training set: 0.9876764454277113.\n",
      "iter: 6, RMSE on training set: 0.9863367181904462.\n",
      "iter: 7, RMSE on training set: 0.9853523136721347.\n",
      "iter: 8, RMSE on training set: 0.9846229163276093.\n",
      "iter: 9, RMSE on training set: 0.9840825958934502.\n",
      "Running 2th fold in 4 folds\n",
      "learn the matrix factorization using ALS...\n",
      "iter: 0, RMSE on training set: 1.1174920727514641.\n",
      "iter: 1, RMSE on training set: 1.0095828852537794.\n",
      "iter: 2, RMSE on training set: 0.9969700536742052.\n",
      "iter: 3, RMSE on training set: 0.992266561266695.\n",
      "iter: 4, RMSE on training set: 0.9894862992701502.\n",
      "iter: 5, RMSE on training set: 0.987613536178204.\n",
      "iter: 6, RMSE on training set: 0.98627328137406.\n",
      "iter: 7, RMSE on training set: 0.985288790257954.\n",
      "iter: 8, RMSE on training set: 0.9845596160757035.\n",
      "iter: 9, RMSE on training set: 0.9840197105670929.\n",
      "Running 3th fold in 4 folds\n",
      "learn the matrix factorization using ALS...\n",
      "iter: 0, RMSE on training set: 1.1175958969134296.\n",
      "iter: 1, RMSE on training set: 1.0096354672284629.\n",
      "iter: 2, RMSE on training set: 0.9970241123748682.\n",
      "iter: 3, RMSE on training set: 0.9923208438540102.\n",
      "iter: 4, RMSE on training set: 0.9895407465575893.\n",
      "iter: 5, RMSE on training set: 0.987668094682794.\n",
      "iter: 6, RMSE on training set: 0.9863277948854974.\n",
      "iter: 7, RMSE on training set: 0.985343092510514.\n",
      "iter: 8, RMSE on training set: 0.9846135816291723.\n",
      "iter: 9, RMSE on training set: 0.9840732674944754.\n",
      "Running 4th fold in 4 folds\n",
      "learn the matrix factorization using ALS...\n",
      "iter: 0, RMSE on training set: 1.1177760437280961.\n",
      "iter: 1, RMSE on training set: 1.0097986733285498.\n",
      "iter: 2, RMSE on training set: 0.9971768334631367.\n",
      "iter: 3, RMSE on training set: 0.9924748719211566.\n",
      "iter: 4, RMSE on training set: 0.9896964868195866.\n",
      "iter: 5, RMSE on training set: 0.9878252333814735.\n",
      "iter: 6, RMSE on training set: 0.9864859627032105.\n",
      "iter: 7, RMSE on training set: 0.9855019550446741.\n",
      "iter: 8, RMSE on training set: 0.9847728638326457.\n",
      "iter: 9, RMSE on training set: 0.9842327604059653.\n",
      "Running num_features=13\n",
      "Running 1th fold in 4 folds\n",
      "learn the matrix factorization using ALS...\n",
      "iter: 0, RMSE on training set: 1.1154904875874234.\n",
      "iter: 1, RMSE on training set: 1.0116500877671988.\n",
      "iter: 2, RMSE on training set: 0.998772399669736.\n",
      "iter: 3, RMSE on training set: 0.9936003465057721.\n",
      "iter: 4, RMSE on training set: 0.990503107696727.\n",
      "iter: 5, RMSE on training set: 0.9884009914968255.\n",
      "iter: 6, RMSE on training set: 0.9868871673970995.\n",
      "iter: 7, RMSE on training set: 0.9857686960058021.\n",
      "iter: 8, RMSE on training set: 0.9849356743795105.\n",
      "iter: 9, RMSE on training set: 0.9843156735687625.\n",
      "Running 2th fold in 4 folds\n",
      "learn the matrix factorization using ALS...\n",
      "iter: 0, RMSE on training set: 1.1153431422183224.\n",
      "iter: 1, RMSE on training set: 1.011610830601412.\n",
      "iter: 2, RMSE on training set: 0.9987171226534943.\n",
      "iter: 3, RMSE on training set: 0.9935406425304065.\n",
      "iter: 4, RMSE on training set: 0.9904411683272033.\n",
      "iter: 5, RMSE on training set: 0.9883377397365468.\n",
      "iter: 6, RMSE on training set: 0.9868232635341972.\n",
      "iter: 7, RMSE on training set: 0.9857046423547696.\n",
      "iter: 8, RMSE on training set: 0.9848718285528628.\n",
      "iter: 9, RMSE on training set: 0.9842522625088592.\n",
      "Running 3th fold in 4 folds\n",
      "learn the matrix factorization using ALS...\n",
      "iter: 0, RMSE on training set: 1.1154477480195384.\n",
      "iter: 1, RMSE on training set: 1.011664066614074.\n",
      "iter: 2, RMSE on training set: 0.9987711647822138.\n",
      "iter: 3, RMSE on training set: 0.9935947994267932.\n",
      "iter: 4, RMSE on training set: 0.9904956159009902.\n",
      "iter: 5, RMSE on training set: 0.9883924369479875.\n",
      "iter: 6, RMSE on training set: 0.9868780161676096.\n",
      "iter: 7, RMSE on training set: 0.9857592418154494.\n",
      "iter: 8, RMSE on training set: 0.9849261138653697.\n",
      "iter: 9, RMSE on training set: 0.9843061353912367.\n",
      "Running 4th fold in 4 folds\n",
      "learn the matrix factorization using ALS...\n",
      "iter: 0, RMSE on training set: 1.1156264687572237.\n",
      "iter: 1, RMSE on training set: 1.0118266666520928.\n",
      "iter: 2, RMSE on training set: 0.9989235786619306.\n",
      "iter: 3, RMSE on training set: 0.9937484834640365.\n",
      "iter: 4, RMSE on training set: 0.9906510840136373.\n",
      "iter: 5, RMSE on training set: 0.988549402178451.\n",
      "iter: 6, RMSE on training set: 0.9870361050619627.\n",
      "iter: 7, RMSE on training set: 0.9859181036921769.\n",
      "iter: 8, RMSE on training set: 0.9850854531263873.\n",
      "iter: 9, RMSE on training set: 0.9844657224742519.\n"
     ]
    },
    {
     "data": {
      "image/png": "[encoded data removed]",
      "text/plain": [
       "<matplotlib.figure.Figure at 0x1dece995048>"
      ]
     },
     "metadata": {},
     "output_type": "display_data"
    }
   ],
   "source": [
    "best_num_f = best_num_features()"
   ]
  },
  {
   "cell_type": "code",
   "execution_count": 105,
   "metadata": {
    "collapsed": false
   },
   "outputs": [
    {
     "data": {
      "text/plain": [
       "[(1, 1.0005820872169715),\n",
       " (4, 1.0009716084838933),\n",
       " (7, 1.0012537121532528),\n",
       " (10, 1.0014926039174503),\n",
       " (13, 1.0017085792314464)]"
      ]
     },
     "execution_count": 105,
     "metadata": {},
     "output_type": "execute_result"
    }
   ],
   "source": [
    "best_num_f"
   ]
  },
  {
   "cell_type": "code",
   "execution_count": null,
   "metadata": {
    "collapsed": true
   },
   "outputs": [],
   "source": []
  },
  {
   "cell_type": "code",
   "execution_count": 18,
   "metadata": {
    "collapsed": false
   },
   "outputs": [
    {
     "name": "stdout",
     "output_type": "stream",
     "text": [
      "function'compiled'\n"
     ]
    }
   ],
   "source": [
    "def ALS_biased_prediction(train, test, num_features = 1, lambda_user = 0.01, lambda_item = 0.01, seed=552):\n",
    "    \n",
    "    stop_criterion = 1e-7\n",
    "\n",
    "    error_list = [0, 0]\n",
    "    max_it = 50\n",
    "    \n",
    "    error_old = 10\n",
    "    error_new = 5\n",
    "    \n",
    "    # set seed\n",
    "    np.random.seed(seed)\n",
    "\n",
    "    # init ALS\n",
    "    user_features, item_features, user_biases, item_biases = init_MF_ALS_biased(train, num_features)\n",
    "    \n",
    "    # ***************************************************\n",
    "    \n",
    "    nz_row, nz_col = train.nonzero()\n",
    "    nz_train = list(zip(nz_row, nz_col))    \n",
    "    \n",
    "    nz_row, nz_col = test.nonzero()\n",
    "    nz_test = list(zip(nz_row, nz_col))\n",
    "    \n",
    "    nz_train, nz_row_colindices, nz_col_rowindices = build_index_groups(train)\n",
    "    _,nz_user_itemindices = map(list,zip(*nz_col_rowindices))\n",
    "    nnz_items_per_user = [len(i) for i in nz_user_itemindices]\n",
    "    _,nz_item_userindices = map(list,zip(*nz_row_colindices))\n",
    "    nnz_users_per_item = [len(i) for i in nz_item_userindices]\n",
    "\n",
    "    print(\"learn the matrix factorization using ALS...\")\n",
    "\n",
    "    for it in np.arange(max_it):\n",
    "        \n",
    "        \n",
    "        item_features, item_biases = update_item_biased_feature(train, user_features, user_biases, lambda_item, nnz_users_per_item, nz_item_userindices)\n",
    "        user_features, user_biases = update_user_biased_feature(train, item_features, item_biases, lambda_user, nnz_items_per_user, nz_user_itemindices)\n",
    "        \n",
    "        prediction = prediction_biased(item_features, item_biases, user_features, user_biases)        \n",
    "        rmse = compute_error_prediction(train, prediction, nz_train)        \n",
    "        print(\"iter: {}, RMSE on training set: {}.\".format(it, rmse))\n",
    "        \n",
    "        error_new = compute_error_prediction(test, prediction, nz_test)\n",
    "        \n",
    "        error_list.append(rmse)\n",
    "        if abs(error_list[-1]-error_list[-2])<stop_criterion:\n",
    "            break\n",
    "        if error_new>error_old:\n",
    "            print(\"Best iter: {}, with RMSE on test data: {}. \".format(it-1,error_old))\n",
    "            break\n",
    "        error_old = error_new\n",
    "\n",
    "    prediction = prediction_biased(item_features, item_biases, user_features, user_biases)\n",
    "    rmse = compute_error_prediction(test, prediction, nz_test)\n",
    "    print(\"RMSE on test data: {}.\".format(rmse))\n",
    "    #print(\"done\")\n",
    "    return prediction\n",
    "    \n",
    "    # ***************************************************\n",
    "\n",
    "print(\"function'compiled'\")"
   ]
  },
  {
   "cell_type": "code",
   "execution_count": null,
   "metadata": {
    "collapsed": true
   },
   "outputs": [],
   "source": []
  },
  {
   "cell_type": "code",
   "execution_count": 19,
   "metadata": {
    "collapsed": false
   },
   "outputs": [
    {
     "name": "stdout",
     "output_type": "stream",
     "text": [
      "learn the matrix factorization using ALS...\n",
      "iter: 0, RMSE on training set: 0.9943491028330717.\n",
      "iter: 1, RMSE on training set: 0.9777961864210896.\n",
      "iter: 2, RMSE on training set: 0.9747267256694103.\n",
      "iter: 3, RMSE on training set: 0.9734723885790351.\n",
      "iter: 4, RMSE on training set: 0.972975284893822.\n",
      "iter: 5, RMSE on training set: 0.9727492139381406.\n",
      "iter: 6, RMSE on training set: 0.9725910626493434.\n",
      "iter: 7, RMSE on training set: 0.9595437575809322.\n",
      "iter: 8, RMSE on training set: 0.957986669902135.\n",
      "iter: 9, RMSE on training set: 0.9577428772370213.\n",
      "iter: 10, RMSE on training set: 0.9576585901375495.\n",
      "iter: 11, RMSE on training set: 0.957629999725439.\n",
      "iter: 12, RMSE on training set: 0.9576226858930941.\n",
      "iter: 13, RMSE on training set: 0.9576237537261081.\n",
      "iter: 14, RMSE on training set: 0.9576280506531828.\n",
      "iter: 15, RMSE on training set: 0.9576334402750372.\n",
      "iter: 16, RMSE on training set: 0.9576390285926912.\n",
      "iter: 17, RMSE on training set: 0.9576444546699232.\n",
      "iter: 18, RMSE on training set: 0.9576495916832299.\n",
      "iter: 19, RMSE on training set: 0.9576544153794788.\n",
      "iter: 20, RMSE on training set: 0.9576589443661384.\n",
      "iter: 21, RMSE on training set: 0.9576632126209959.\n",
      "iter: 22, RMSE on training set: 0.9576672569786427.\n",
      "iter: 23, RMSE on training set: 0.9576711117433335.\n",
      "iter: 24, RMSE on training set: 0.9576748067122904.\n",
      "iter: 25, RMSE on training set: 0.9576783667972623.\n",
      "iter: 26, RMSE on training set: 0.9576818123455545.\n",
      "iter: 27, RMSE on training set: 0.9576851597156777.\n",
      "iter: 28, RMSE on training set: 0.957688421894318.\n",
      "iter: 29, RMSE on training set: 0.9576916090610238.\n",
      "iter: 30, RMSE on training set: 0.9576947290685541.\n",
      "iter: 31, RMSE on training set: 0.9576977878372352.\n",
      "iter: 32, RMSE on training set: 0.9577007896752437.\n",
      "iter: 33, RMSE on training set: 0.9577037375410596.\n",
      "iter: 34, RMSE on training set: 0.9577066332639238.\n",
      "iter: 35, RMSE on training set: 0.9577094777353041.\n",
      "iter: 36, RMSE on training set: 0.9577122710808341.\n",
      "iter: 37, RMSE on training set: 0.9577150128186337.\n",
      "iter: 38, RMSE on training set: 0.9577177020069173.\n",
      "iter: 39, RMSE on training set: 0.9577203373815502.\n",
      "iter: 40, RMSE on training set: 0.9577229174827591.\n",
      "iter: 41, RMSE on training set: 0.9577254407694801.\n",
      "iter: 42, RMSE on training set: 0.9577279057196744.\n",
      "iter: 43, RMSE on training set: 0.9577303109152774.\n",
      "iter: 44, RMSE on training set: 0.9577326551109527.\n",
      "iter: 45, RMSE on training set: 0.9577349372865307.\n",
      "iter: 46, RMSE on training set: 0.9577371566836681.\n",
      "iter: 47, RMSE on training set: 0.9577393128278754.\n",
      "iter: 48, RMSE on training set: 0.9577414055374591.\n",
      "iter: 49, RMSE on training set: 0.957743434921311.\n",
      "RMSE on test data: 0.9906057423109359.\n"
     ]
    }
   ],
   "source": [
    "prediction = ALS_biased_prediction( train, test, 2) "
   ]
  },
  {
   "cell_type": "code",
   "execution_count": 21,
   "metadata": {
    "collapsed": false
   },
   "outputs": [
    {
     "name": "stdout",
     "output_type": "stream",
     "text": [
      "copy done\n"
     ]
    }
   ],
   "source": [
    "pred = np.copy(prediction)\n",
    "print(\"copy done\")"
   ]
  },
  {
   "cell_type": "code",
   "execution_count": 22,
   "metadata": {
    "collapsed": false
   },
   "outputs": [
    {
     "name": "stdout",
     "output_type": "stream",
     "text": [
      "functions'compiled'\n"
     ]
    }
   ],
   "source": [
    "#least square\n",
    "def least_squares(y, tx):\n",
    "    \"\"\"\n",
    "    Least squares using normal equations.\n",
    "    \"\"\"\n",
    "    w = np.linalg.solve(tx.T.dot(tx), tx.T.dot(y))\n",
    "    return w\n",
    "\n",
    "def error_mse(y, tx, w):\n",
    "    rmse = np.sqrt((1/len(y))*calculate_mse(y,tx.dot(w)))\n",
    "    return rmse\n",
    "def ridge_regression(y, tx,lambda_ = 0.1):\n",
    "    \"\"\"\n",
    "    Least squares using normal equations (with L2 regularization)\n",
    "    \"\"\"\n",
    "    \n",
    "    reg = 2 * y.size * lambda_ * np.identity(tx.shape[1]) # L2 regularization term\n",
    "    w = np.linalg.solve(tx.T.dot(tx) + reg, tx.T.dot(y))\n",
    "    return w\n",
    "print(\"functions'compiled'\")"
   ]
  },
  {
   "cell_type": "code",
   "execution_count": 25,
   "metadata": {
    "collapsed": false
   },
   "outputs": [
    {
     "name": "stdout",
     "output_type": "stream",
     "text": [
      "function'compiled'\n"
     ]
    }
   ],
   "source": [
    "def feature_adding(train, test, pred):\n",
    "    \"\"\"\n",
    "    built y = real_labels  tx = (pred, #user ratings, #movie ratings, mean rate per user, mean rate per movie)\n",
    "    May be also add std deviation\n",
    "    \n",
    "    \"\"\"\n",
    "    \n",
    "    nz_row, nz_col = train.nonzero()\n",
    "    nz_train = list(zip(nz_row, nz_col))\n",
    "    nz_row, nz_col = test.nonzero()\n",
    "    nz_test = list(zip(nz_row, nz_col))\n",
    "    \n",
    "    \n",
    "    \n",
    "    nnz_u = np.copy(train)\n",
    "    nnz_u[np.where(train > 0)] = 1\n",
    "    \n",
    "    nnz_i = np.copy(train)\n",
    "    nnz_i[np.where(train > 1)] = 1\n",
    "    \n",
    "    num_u = nnz_u.sum(axis=0)\n",
    "    num_i = nnz_i.sum(axis=1)  \n",
    "    mean_u = train.sum(axis=0)/num_u\n",
    "    mean_i = train.sum(axis=1)/num_i\n",
    "    \n",
    "    \n",
    "    std_u = np.std(train, axis=0)\n",
    "    std_i = np.std(train, axis=1)\n",
    "    \n",
    "    y = np.array([train[d,n] for (d,n) in nz_train])\n",
    "    y_test = np.array([test[d,n] for (d,n) in nz_test])\n",
    "    \n",
    "    \n",
    "    tX = np.array([[pred[d,n],num_u[n],num_i[d],mean_u[n],mean_i[d],std_u[n],std_i[d]] for (d,n) in nz_train])\n",
    "    tX_test = np.array([[pred[d,n],num_u[n],num_i[d],mean_u[n],mean_i[d],std_u[n],std_i[d]] for (d,n) in nz_test])\n",
    "   \n",
    "    return y, y_test, tX, tX_test\n",
    "print(\"function'compiled'\")"
   ]
  },
  {
   "cell_type": "code",
   "execution_count": null,
   "metadata": {
    "collapsed": true
   },
   "outputs": [],
   "source": []
  },
  {
   "cell_type": "code",
   "execution_count": 26,
   "metadata": {
    "collapsed": false
   },
   "outputs": [],
   "source": [
    "y, y_test, tX, tX_test = feature_adding(train, test, pred)"
   ]
  },
  {
   "cell_type": "code",
   "execution_count": 32,
   "metadata": {
    "collapsed": false
   },
   "outputs": [
    {
     "name": "stdout",
     "output_type": "stream",
     "text": [
      "0.959089393068\n",
      "0.988555750743\n"
     ]
    }
   ],
   "source": [
    "w = ridge_regression(y, tX, 0.01)\n",
    "print(error_mse(y, tX, w))\n",
    "print(error_mse(y_test, tX_test, w))"
   ]
  },
  {
   "cell_type": "code",
   "execution_count": 33,
   "metadata": {
    "collapsed": false
   },
   "outputs": [
    {
     "name": "stdout",
     "output_type": "stream",
     "text": [
      "function'compiled'\n"
     ]
    }
   ],
   "source": [
    "import itertools\n",
    "def feature_adding_all(train, test, pred):\n",
    "    \n",
    "    nz_row, nz_col = train.nonzero()\n",
    "    nz_train = list(zip(nz_row, nz_col))\n",
    "    nz_row, nz_col = test.nonzero()\n",
    "    nz_test = list(zip(nz_row, nz_col))\n",
    "    \n",
    "    \n",
    "    \n",
    "    nnz_u = np.copy(train)\n",
    "    nnz_u[np.where(train > 0)] = 1\n",
    "    \n",
    "    nnz_i = np.copy(train)\n",
    "    nnz_i[np.where(train > 1)] = 1\n",
    "    \n",
    "    num_u = nnz_u.sum(axis=0)\n",
    "    num_i = nnz_i.sum(axis=1)  \n",
    "    mean_u = train.sum(axis=0)/num_u\n",
    "    mean_i = train.sum(axis=1)/num_i\n",
    "    \n",
    "    \n",
    "    std_u = np.std(train, axis=0)\n",
    "    std_i = np.std(train, axis=1)\n",
    "    \n",
    "    ind =  itertools.product(np.arange(train.shape[0]), np.arange(train.shape[1]))\n",
    "    \n",
    "    tX = np.array([[pred[d,n],num_u[n],num_i[d],mean_u[n],mean_i[d],std_u[n],std_i[d]] for (d,n) in ind])\n",
    "   \n",
    "    return tX\n",
    "print(\"function'compiled'\")"
   ]
  },
  {
   "cell_type": "code",
   "execution_count": 36,
   "metadata": {
    "collapsed": false
   },
   "outputs": [
    {
     "name": "stdout",
     "output_type": "stream",
     "text": [
      "done\n"
     ]
    }
   ],
   "source": [
    "tX_all = feature_adding_all(train, test, pred)\n",
    "print(\"done\")\n"
   ]
  },
  {
   "cell_type": "code",
   "execution_count": 37,
   "metadata": {
    "collapsed": false
   },
   "outputs": [
    {
     "name": "stdout",
     "output_type": "stream",
     "text": [
      "done\n"
     ]
    }
   ],
   "source": [
    "def pred_all(tX_all, w):\n",
    "    return tX_all.dot(w)\n",
    "\n",
    "w_nth = np.array([1,0,0,0,0,0,0])\n",
    "pred_all = pred_all(tX_all, w)\n",
    "print(\"done\")"
   ]
  },
  {
   "cell_type": "code",
   "execution_count": 38,
   "metadata": {
    "collapsed": false
   },
   "outputs": [
    {
     "name": "stdout",
     "output_type": "stream",
     "text": [
      "(10000, 1000)\n"
     ]
    }
   ],
   "source": [
    "pred_ready = pred_all.reshape((pred.shape[0], pred.shape[1]))\n",
    "print(pred_ready.shape)"
   ]
  },
  {
   "cell_type": "code",
   "execution_count": null,
   "metadata": {
    "collapsed": true
   },
   "outputs": [],
   "source": []
  },
  {
   "cell_type": "code",
   "execution_count": 39,
   "metadata": {
    "collapsed": false
   },
   "outputs": [
    {
     "name": "stdout",
     "output_type": "stream",
     "text": [
      "function 'compiled'\n"
     ]
    }
   ],
   "source": [
    "def submit_predictions(prediction, outputFilename, sampleSubmissionFilename):\n",
    "    import csv\n",
    "    \n",
    "    ## Read the indices \n",
    "    with open('../data/sampleSubmission.csv','r') as csvinput:\n",
    "        reader = csvinput.read().splitlines()\n",
    "        i=-1\n",
    "        ind = []\n",
    "        pred_rating = []\n",
    "        for row in reader:\n",
    "            if i != -1:\n",
    "                pos, default_rating = row.split(',')\n",
    "                row, col = pos.split(\"_\")\n",
    "                row = int(row.replace(\"r\", \"\"))\n",
    "                col = int(col.replace(\"c\", \"\"))       \n",
    "                pred_rating.append(prediction[row-1, col-1])\n",
    "                ind.append(pos)\n",
    "            i+=1\n",
    "    ## Create rows to be written\n",
    "    rows = zip(ind, pred_rating)\n",
    "\n",
    "    ## Write prediction with indices\n",
    "    import csv\n",
    "    with open(outputFilename, 'w', newline='\\n') as f:\n",
    "        writer = csv.writer(f)\n",
    "        writer.writerow(['Id','Prediction'])\n",
    "        for row in rows:\n",
    "            writer.writerow(row)\n",
    "print(\"function 'compiled'\")"
   ]
  },
  {
   "cell_type": "code",
   "execution_count": 40,
   "metadata": {
    "collapsed": false
   },
   "outputs": [
    {
     "name": "stdout",
     "output_type": "stream",
     "text": [
      "Loading test data\n",
      "number of items: 10000, number of users: 1000\n"
     ]
    }
   ],
   "source": [
    "\n",
    "##===Load test data====##\n",
    "print(\"Loading test data\")\n",
    "path_dataset = \"../data/sampleSubmission.csv\"\n",
    "submission_ratings = load_data(path_dataset)\n",
    "\n",
    "\n",
    "\n",
    "\n"
   ]
  },
  {
   "cell_type": "code",
   "execution_count": 41,
   "metadata": {
    "collapsed": false
   },
   "outputs": [
    {
     "name": "stdout",
     "output_type": "stream",
     "text": [
      "Generate predictions\n",
      "done\n"
     ]
    }
   ],
   "source": [
    "##====Generate predictions for test data====##\n",
    "print(\"Generate predictions\")\n",
    "prediction = sp.lil_matrix(submission_ratings.get_shape())\n",
    "nz_row, nz_col = submission_ratings.nonzero()\n",
    "nz = list(zip(nz_row, nz_col))\n",
    "\n",
    "for i in range(len(nz_row)):\n",
    "    prediction[nz_row[i], nz_col[i]] = pred_ready[nz_row[i],nz_col[i]]\n",
    "print(\"done\")"
   ]
  },
  {
   "cell_type": "code",
   "execution_count": 39,
   "metadata": {
    "collapsed": false
   },
   "outputs": [
    {
     "data": {
      "text/plain": [
       "<10000x1000 sparse matrix of type '<class 'numpy.float64'>'\n",
       "\twith 1176952 stored elements in LInked List format>"
      ]
     },
     "execution_count": 39,
     "metadata": {},
     "output_type": "execute_result"
    }
   ],
   "source": [
    "prediction"
   ]
  },
  {
   "cell_type": "code",
   "execution_count": 42,
   "metadata": {
    "collapsed": false
   },
   "outputs": [
    {
     "name": "stdout",
     "output_type": "stream",
     "text": [
      "Creating submission file\n"
     ]
    }
   ],
   "source": [
    "\n",
    "##==== Create submission file=====##\n",
    "print(\"Creating submission file\")\n",
    "sampleSubmissionFilename = '../data/sampleSubmission.csv'\n",
    "outputFilename = 'submit_alsb_rr.csv'\n",
    "submit_predictions(prediction, outputFilename, sampleSubmissionFilename)\n"
   ]
  },
  {
   "cell_type": "code",
   "execution_count": 43,
   "metadata": {
    "collapsed": false
   },
   "outputs": [
    {
     "name": "stdout",
     "output_type": "stream",
     "text": [
      "done\n"
     ]
    }
   ],
   "source": [
    "print(\"done\")"
   ]
  },
  {
   "cell_type": "code",
   "execution_count": null,
   "metadata": {
    "collapsed": false
   },
   "outputs": [],
   "source": [
    "#OLD CODE USELESS (KIND OF BAK FILE)\n"
   ]
  },
  {
   "cell_type": "code",
   "execution_count": 79,
   "metadata": {
    "collapsed": false
   },
   "outputs": [
    {
     "name": "stdout",
     "output_type": "stream",
     "text": [
      "Running 1th fold in 5 folds\n",
      "(array([1, 2, 3, 4, 5, 6, 7, 8, 9], dtype=int64),)\n",
      "4085649.0\n",
      "454185.0\n",
      "learn the matrix factorization using ALS...\n",
      "iter: 0, RMSE on training set: 0.994436648379999.\n",
      "iter: 1, RMSE on training set: 0.9780539219597553.\n",
      "iter: 2, RMSE on training set: 0.9749630432082467.\n",
      "iter: 3, RMSE on training set: 0.9736811634570222.\n",
      "iter: 4, RMSE on training set: 0.9731903804996971.\n",
      "iter: 5, RMSE on training set: 0.9729702893672093.\n",
      "iter: 6, RMSE on training set: 0.9592527448533232.\n",
      "iter: 7, RMSE on training set: 0.934516671008093.\n",
      "Best iter: 6, with RMSE on test data: 0.9910630756394261. \n",
      "Running 2th fold in 5 folds\n",
      "(array([0, 2, 3, 4, 5, 6, 7, 8, 9], dtype=int64),)\n",
      "4086506.0\n",
      "453328.0\n",
      "learn the matrix factorization using ALS...\n",
      "iter: 0, RMSE on training set: 0.9943163298750455.\n",
      "iter: 1, RMSE on training set: 0.9778340878540819.\n",
      "iter: 2, RMSE on training set: 0.974837111564989.\n",
      "iter: 3, RMSE on training set: 0.9736391743828038.\n",
      "iter: 4, RMSE on training set: 0.9731824462527062.\n",
      "iter: 5, RMSE on training set: 0.9729787033600806.\n",
      "iter: 6, RMSE on training set: 0.9594101083125279.\n",
      "iter: 7, RMSE on training set: 0.9325373778895896.\n",
      "Best iter: 6, with RMSE on test data: 0.9909003258237896. \n",
      "Running 3th fold in 5 folds\n",
      "(array([0, 1, 3, 4, 5, 6, 7, 8, 9], dtype=int64),)\n",
      "4085493.0\n",
      "454341.0\n",
      "learn the matrix factorization using ALS...\n",
      "iter: 0, RMSE on training set: 0.9944139159380767.\n",
      "iter: 1, RMSE on training set: 0.9779193911010876.\n",
      "iter: 2, RMSE on training set: 0.9748168927261401.\n",
      "iter: 3, RMSE on training set: 0.973593996451031.\n",
      "iter: 4, RMSE on training set: 0.9731372224004994.\n",
      "iter: 5, RMSE on training set: 0.9729322097925156.\n",
      "iter: 6, RMSE on training set: 0.9594058132963751.\n",
      "iter: 7, RMSE on training set: 0.9335787884230332.\n",
      "Best iter: 6, with RMSE on test data: 0.9911508490441202. \n",
      "Running 4th fold in 5 folds\n",
      "(array([0, 1, 2, 4, 5, 6, 7, 8, 9], dtype=int64),)\n",
      "4085311.0\n",
      "454523.0\n",
      "learn the matrix factorization using ALS...\n",
      "iter: 0, RMSE on training set: 0.9945589093967091.\n",
      "iter: 1, RMSE on training set: 0.9780511704069855.\n",
      "iter: 2, RMSE on training set: 0.9750088044042223.\n",
      "iter: 3, RMSE on training set: 0.9738053586823118.\n",
      "iter: 4, RMSE on training set: 0.9733402426622576.\n",
      "iter: 5, RMSE on training set: 0.9731249262459737.\n",
      "iter: 6, RMSE on training set: 0.9595242261073145.\n",
      "iter: 7, RMSE on training set: 0.9325872290054923.\n",
      "Best iter: 6, with RMSE on test data: 0.9906908555334449. \n",
      "Running 5th fold in 5 folds\n",
      "(array([0, 1, 2, 3, 5, 6, 7, 8, 9], dtype=int64),)\n",
      "4085793.0\n",
      "454041.0\n",
      "learn the matrix factorization using ALS...\n",
      "iter: 0, RMSE on training set: 0.994222439690036.\n",
      "iter: 1, RMSE on training set: 0.9777613096559465.\n",
      "iter: 2, RMSE on training set: 0.9748346436603967.\n",
      "iter: 3, RMSE on training set: 0.9736445430904216.\n",
      "iter: 4, RMSE on training set: 0.9731642311068888.\n",
      "iter: 5, RMSE on training set: 0.9729380279474397.\n",
      "iter: 6, RMSE on training set: 0.9594794470396075.\n",
      "iter: 7, RMSE on training set: 0.9315951886046513.\n",
      "Best iter: 6, with RMSE on test data: 0.9923988648366828. \n"
     ]
    },
    {
     "data": {
      "text/plain": [
       "[0.99106307563942608,\n",
       " 0.99090032582378962,\n",
       " 0.99115084904412021,\n",
       " 0.99069085553344494,\n",
       " 0.99239886483668283]"
      ]
     },
     "execution_count": 79,
     "metadata": {},
     "output_type": "execute_result"
    }
   ],
   "source": [
    "cross_validation_minimalist(ratings, 5)"
   ]
  },
  {
   "cell_type": "code",
   "execution_count": 57,
   "metadata": {
    "collapsed": false
   },
   "outputs": [],
   "source": [
    "k_indices_set = k_indices_set_generator(ratings,10)"
   ]
  },
  {
   "cell_type": "code",
   "execution_count": 59,
   "metadata": {
    "collapsed": false
   },
   "outputs": [
    {
     "name": "stdout",
     "output_type": "stream",
     "text": [
      "(9000000,)\n",
      "(1000000,)\n"
     ]
    }
   ],
   "source": [
    "train_cross,test_cross = split_data_k(ratings, k_indices_set, 2)"
   ]
  },
  {
   "cell_type": "code",
   "execution_count": 84,
   "metadata": {
    "collapsed": false
   },
   "outputs": [
    {
     "name": "stdout",
     "output_type": "stream",
     "text": [
      "(10000, 1000)\n",
      "(10000, 1000)\n"
     ]
    }
   ],
   "source": [
    "train_user_biased, train_item_biased = data_user_biased(train, user_biases),data_item_biased(train, item_biases)\n",
    "print(train_user_biased.shape)\n",
    "print(train_item_biased.shape)\n"
   ]
  },
  {
   "cell_type": "code",
   "execution_count": 79,
   "metadata": {
    "collapsed": false
   },
   "outputs": [
    {
     "name": "stdout",
     "output_type": "stream",
     "text": [
      "(1000,)\n",
      "(10000,)\n"
     ]
    }
   ],
   "source": [
    "u_mean = user_mean(train)\n",
    "i_mean = item_mean(train)\n",
    "\n",
    "print(u_mean.shape)\n",
    "print(i_mean.shape)"
   ]
  },
  {
   "cell_type": "code",
   "execution_count": null,
   "metadata": {
    "collapsed": false
   },
   "outputs": [],
   "source": [
    "user_features, item_features, user_biases, item_biases = init_MF_ALS_biased(train, 15)\n",
    "\n",
    "print(user_features.shape)\n",
    "print(item_features.shape)\n",
    "print(user_biases.shape)\n",
    "print(item_biases.shape)"
   ]
  },
  {
   "cell_type": "code",
   "execution_count": 250,
   "metadata": {
    "collapsed": false
   },
   "outputs": [
    {
     "name": "stdout",
     "output_type": "stream",
     "text": [
      "learn the matrix factorization using SGD...\n"
     ]
    },
    {
     "ename": "KeyboardInterrupt",
     "evalue": "",
     "output_type": "error",
     "traceback": [
      "\u001b[1;31m---------------------------------------------------------------------------\u001b[0m",
      "\u001b[1;31mKeyboardInterrupt\u001b[0m                         Traceback (most recent call last)",
      "\u001b[1;32m<ipython-input-250-f0ad8b18e8ed>\u001b[0m in \u001b[0;36m<module>\u001b[1;34m()\u001b[0m\n\u001b[0;32m     63\u001b[0m     \u001b[0mprint\u001b[0m\u001b[1;33m(\u001b[0m\u001b[1;34m\"RMSE on test data: {}.\"\u001b[0m\u001b[1;33m.\u001b[0m\u001b[0mformat\u001b[0m\u001b[1;33m(\u001b[0m\u001b[0mrmse\u001b[0m\u001b[1;33m)\u001b[0m\u001b[1;33m)\u001b[0m\u001b[1;33m\u001b[0m\u001b[0m\n\u001b[0;32m     64\u001b[0m \u001b[1;33m\u001b[0m\u001b[0m\n\u001b[1;32m---> 65\u001b[1;33m \u001b[0mmatrix_factorization_SGD\u001b[0m\u001b[1;33m(\u001b[0m\u001b[0mtrain\u001b[0m\u001b[1;33m,\u001b[0m \u001b[0mtest\u001b[0m\u001b[1;33m)\u001b[0m\u001b[1;33m\u001b[0m\u001b[0m\n\u001b[0m\u001b[0;32m     66\u001b[0m \u001b[1;33m\u001b[0m\u001b[0m\n\u001b[0;32m     67\u001b[0m \u001b[1;33m\u001b[0m\u001b[0m\n",
      "\u001b[1;32m<ipython-input-250-f0ad8b18e8ed>\u001b[0m in \u001b[0;36mmatrix_factorization_SGD\u001b[1;34m(train, test)\u001b[0m\n\u001b[0;32m     35\u001b[0m         \u001b[1;32mfor\u001b[0m \u001b[0md\u001b[0m\u001b[1;33m,\u001b[0m \u001b[0mn\u001b[0m \u001b[1;32min\u001b[0m \u001b[0mnz_train\u001b[0m\u001b[1;33m:\u001b[0m\u001b[1;33m\u001b[0m\u001b[0m\n\u001b[0;32m     36\u001b[0m         \u001b[1;31m# ***************************************************\u001b[0m\u001b[1;33m\u001b[0m\u001b[1;33m\u001b[0m\u001b[0m\n\u001b[1;32m---> 37\u001b[1;33m             \u001b[0mprediction\u001b[0m \u001b[1;33m=\u001b[0m \u001b[0mprediction_non_biased\u001b[0m\u001b[1;33m(\u001b[0m\u001b[0mitem_features\u001b[0m\u001b[1;33m,\u001b[0m \u001b[0muser_features\u001b[0m\u001b[1;33m)\u001b[0m\u001b[1;33m\u001b[0m\u001b[0m\n\u001b[0m\u001b[0;32m     38\u001b[0m             \u001b[0mgradient\u001b[0m \u001b[1;33m=\u001b[0m \u001b[0mnp\u001b[0m\u001b[1;33m.\u001b[0m\u001b[0mzeros\u001b[0m\u001b[1;33m(\u001b[0m\u001b[1;33m(\u001b[0m\u001b[1;33m(\u001b[0m\u001b[0mnum_items\u001b[0m \u001b[1;33m+\u001b[0m \u001b[0mnum_users\u001b[0m\u001b[1;33m)\u001b[0m\u001b[1;33m,\u001b[0m\u001b[0mnum_features\u001b[0m\u001b[1;33m)\u001b[0m\u001b[1;33m)\u001b[0m\u001b[1;33m\u001b[0m\u001b[0m\n\u001b[0;32m     39\u001b[0m             \u001b[0mprediction_error\u001b[0m \u001b[1;33m=\u001b[0m \u001b[1;33m(\u001b[0m\u001b[0mtrain\u001b[0m\u001b[1;33m[\u001b[0m\u001b[0md\u001b[0m\u001b[1;33m,\u001b[0m\u001b[0mn\u001b[0m\u001b[1;33m]\u001b[0m \u001b[1;33m-\u001b[0m \u001b[0mprediction\u001b[0m\u001b[1;33m[\u001b[0m\u001b[0md\u001b[0m\u001b[1;33m,\u001b[0m\u001b[0mn\u001b[0m\u001b[1;33m]\u001b[0m\u001b[1;33m)\u001b[0m\u001b[1;33m\u001b[0m\u001b[0m\n",
      "\u001b[1;32m<ipython-input-236-9ce04f7b878f>\u001b[0m in \u001b[0;36mprediction_non_biased\u001b[1;34m(item_features, user_features)\u001b[0m\n\u001b[0;32m      1\u001b[0m \u001b[1;32mdef\u001b[0m \u001b[0mprediction_non_biased\u001b[0m\u001b[1;33m(\u001b[0m\u001b[0mitem_features\u001b[0m\u001b[1;33m,\u001b[0m \u001b[0muser_features\u001b[0m\u001b[1;33m)\u001b[0m\u001b[1;33m:\u001b[0m\u001b[1;33m\u001b[0m\u001b[0m\n\u001b[1;32m----> 2\u001b[1;33m     \u001b[0mprediction\u001b[0m \u001b[1;33m=\u001b[0m \u001b[0muser_features\u001b[0m\u001b[1;33m.\u001b[0m\u001b[0mdot\u001b[0m\u001b[1;33m(\u001b[0m\u001b[0mitem_features\u001b[0m\u001b[1;33m.\u001b[0m\u001b[0mT\u001b[0m\u001b[1;33m)\u001b[0m\u001b[1;33m.\u001b[0m\u001b[0mT\u001b[0m\u001b[1;33m\u001b[0m\u001b[0m\n\u001b[0m\u001b[0;32m      3\u001b[0m     \u001b[1;32mreturn\u001b[0m \u001b[0mprediction\u001b[0m\u001b[1;33m\u001b[0m\u001b[0m\n\u001b[0;32m      4\u001b[0m \u001b[0mprint\u001b[0m\u001b[1;33m(\u001b[0m\u001b[1;34m\"function 'compiled'\"\u001b[0m\u001b[1;33m)\u001b[0m\u001b[1;33m\u001b[0m\u001b[0m\n",
      "\u001b[1;31mKeyboardInterrupt\u001b[0m: "
     ]
    }
   ],
   "source": [
    "def matrix_factorization_SGD(train, test): #rly bad\n",
    "    \"\"\"matrix factorization by SGD.\"\"\"\n",
    "    # define parameters\n",
    "    gamma = 0.01\n",
    "    num_features = 10   # K in the lecture notes\n",
    "    lambda_user = 0.1\n",
    "    lambda_item = 0.7\n",
    "    num_epochs = 20     # number of full passes through the train set\n",
    "    errors = [0]\n",
    "    \n",
    "    # set seed\n",
    "    np.random.seed(988)\n",
    "\n",
    "    # init matrix\n",
    "    user_features, item_features = init_MF(train, num_features)\n",
    "    \n",
    "    # find the non-zero ratings indices \n",
    "    nz_row, nz_col = train.nonzero()\n",
    "    nz_train = list(zip(nz_row, nz_col))\n",
    "    nz_row, nz_col = test.nonzero()\n",
    "    nz_test = list(zip(nz_row, nz_col))\n",
    "\n",
    "    num_items, num_users = train.shape\n",
    "    \n",
    "    print(\"learn the matrix factorization using SGD...\")\n",
    "    for it in range(num_epochs):        \n",
    "        # shuffle the training rating indices\n",
    "        np.random.shuffle(nz_train)\n",
    "        \n",
    "        # decrease step size\n",
    "        #gamma /= 1.2\n",
    "        \n",
    "        \n",
    "        \n",
    "        for d, n in nz_train:\n",
    "        # ***************************************************\n",
    "            prediction = prediction_non_biased(item_features, user_features)\n",
    "            gradient = np.zeros(((num_items + num_users),num_features))\n",
    "            prediction_error = (train[d,n] - prediction[d,n])\n",
    "            #print(prediction_error)\n",
    "            #gradient entries for W\n",
    "            gradient[d,:] = -(prediction_error)*(user_features[n,:].T) + lambda_item*item_features[d,:]\n",
    "            #gradient entries for Z\n",
    "            gradient[num_items+n,:] = -(prediction_error)*(item_features[d,:]) + lambda_user*user_features[n,:]\n",
    "            \n",
    "            #update\n",
    "            item_features = item_features - gamma*(gradient[:num_items,:])\n",
    "            user_features = user_features - gamma*(gradient[num_items:,:])\n",
    "            \n",
    "        rmse = compute_error_biased(train, prediction, nz_train)\n",
    "\n",
    "        print(\"iter: {}, RMSE on training set: {}.\".format(it, rmse))\n",
    "        \n",
    "        errors.append(rmse)\n",
    "\n",
    "        # decrease step size\n",
    "        gamma /= 1.2\n",
    "    # ***************************************************\n",
    "    # TODO\n",
    "    # evaluate the test error.\n",
    "    # ***************************************************\n",
    "    rmse = 0#compute_error_biased(test, user_features, item_features, nz_test)\n",
    "    print(\"RMSE on test data: {}.\".format(rmse))\n",
    "\n",
    "matrix_factorization_SGD(train, test)\n",
    "\n",
    "\n"
   ]
  },
  {
   "cell_type": "code",
   "execution_count": null,
   "metadata": {
    "collapsed": true
   },
   "outputs": [],
   "source": [
    "item_features, item_biases = update_item_biased_feature(train, user_features, user_biases, 0.01)\n",
    "\n",
    "print(item_features.shape)\n",
    "print(item_biases.shape)\n",
    "\n",
    "user_features, user_biases = update_user_biased_feature(train, item_features, item_biases, 0.01)\n",
    "\n",
    "print(user_features.shape)\n",
    "print(user_biases.shape)"
   ]
  },
  {
   "cell_type": "code",
   "execution_count": 110,
   "metadata": {
    "collapsed": false
   },
   "outputs": [
    {
     "name": "stdout",
     "output_type": "stream",
     "text": [
      "(10000, 1000)\n"
     ]
    }
   ],
   "source": [
    "    nz_row, nz_col = test.nonzero()\n",
    "    nz_test = list(zip(nz_row, nz_col))\n",
    "    nz_train, nz_row_colindices, nz_col_rowindices = build_index_groups(train)\n",
    "    _,nz_user_itemindices = map(list,zip(*nz_col_rowindices))\n",
    "    nnz_items_per_user = [len(i) for i in nz_user_itemindices]\n",
    "    _,nz_item_userindices = map(list,zip(*nz_row_colindices))\n",
    "    nnz_users_per_item = [len(i) for i in nz_item_userindices]\n",
    "    max_it = 20\n",
    "    "
   ]
  },
  {
   "cell_type": "code",
   "execution_count": 97,
   "metadata": {
    "collapsed": false
   },
   "outputs": [
    {
     "name": "stdout",
     "output_type": "stream",
     "text": [
      "(1000, 8)\n",
      "(10000, 8)\n"
     ]
    }
   ],
   "source": [
    "print(i_feat.dot(u_feat.T).shape)\n",
    "\n",
    "def update_item_feature(train, user_features, lambda_item):\n",
    "    num_users, num_features = user_features.shape\n",
    "    \n",
    "    Xt = user_features.T\n",
    "    A = Xt.dot(Xt.T) + lambda_item*np.eye(num_features)  \n",
    "    b = Xt.dot(train.T) \n",
    "\n",
    "    Yt = np.linalg.solve(A,b)\n",
    "    item_features = Yt.T\n",
    "\n",
    "    return item_features\n",
    "\n",
    "print(\"function 'compiled'\")\n",
    "\n",
    "def update_user_feature(train, item_features, lambda_user):\n",
    "    num_items, num_features = item_features.shape\n",
    "    \n",
    "    Yt = item_features.T\n",
    "    A = Yt.dot(Yt.T) + lambda_user*np.eye(num_features)  \n",
    "    b = Yt.dot(train) \n",
    "\n",
    "    Xt = np.linalg.solve(A,b)\n",
    "    user_features = Xt.T\n",
    "\n",
    "    return user_features\n",
    "\n",
    "print(\"function 'compiled'\")"
   ]
  },
  {
   "cell_type": "markdown",
   "metadata": {
    "collapsed": true
   },
   "source": [
    "## Matrix factorisation using SGD"
   ]
  },
  {
   "cell_type": "code",
   "execution_count": null,
   "metadata": {
    "collapsed": false
   },
   "outputs": [],
   "source": [
    "%run run.py 0"
   ]
  },
  {
   "cell_type": "markdown",
   "metadata": {},
   "source": [
    "## ALS"
   ]
  },
  {
   "cell_type": "code",
   "execution_count": null,
   "metadata": {
    "collapsed": true
   },
   "outputs": [],
   "source": [
    "%run run.py 1"
   ]
  },
  {
   "cell_type": "markdown",
   "metadata": {},
   "source": [
    "## Other Methods\n",
    "### CCD"
   ]
  },
  {
   "cell_type": "code",
   "execution_count": 26,
   "metadata": {
    "collapsed": false
   },
   "outputs": [
    {
     "name": "stdout",
     "output_type": "stream",
     "text": [
      "Loading training data\n",
      "number of items: 10000, number of users: 1000\n",
      "Preprocessing data\n",
      "Splitting data into train and test sets\n",
      "Training model\n",
      "learn the matrix factorization using CCD...\n",
      "iter: 0, RMSE on training set: 0.9960226377334059.\n",
      "iter: 1, RMSE on training set: 0.9960226376398212.\n",
      "RMSE on test data: 1.0065024878485005.\n",
      "RMSE on train data: 0.9960226376398212.\n",
      "RMSE on test data: 1.0065024878485005.\n"
     ]
    }
   ],
   "source": [
    "%run run.py 2"
   ]
  },
  {
   "cell_type": "code",
   "execution_count": null,
   "metadata": {
    "collapsed": true
   },
   "outputs": [],
   "source": []
  },
  {
   "cell_type": "code",
   "execution_count": null,
   "metadata": {
    "collapsed": true
   },
   "outputs": [],
   "source": [
    "valid_ratings, train_arr, test_arr = split_data(\n",
    "    ratings, num_items_per_user, num_users_per_item, min_num_ratings=10, p_test=0.1)\n",
    "#plot_train_test_data(train_validation, test)"
   ]
  },
  {
   "cell_type": "code",
   "execution_count": null,
   "metadata": {
    "collapsed": true
   },
   "outputs": [],
   "source": []
  },
  {
   "cell_type": "code",
   "execution_count": null,
   "metadata": {
    "collapsed": true
   },
   "outputs": [],
   "source": [
    "from helpers import build_index_groups\n",
    "np.seterr(all='raise') "
   ]
  },
  {
   "cell_type": "markdown",
   "metadata": {},
   "source": [
    "## Cross validation"
   ]
  },
  {
   "cell_type": "markdown",
   "metadata": {},
   "source": [
    "### Number of features"
   ]
  },
  {
   "cell_type": "code",
   "execution_count": 21,
   "metadata": {
    "collapsed": false
   },
   "outputs": [
    {
     "name": "stdout",
     "output_type": "stream",
     "text": [
      "Running num_features=1\n",
      "Running 1th fold in 5 folds\n",
      "learn the matrix factorization using CCD...\n",
      "iter: 0, RMSE on training set: 0.9964503244960371.\n",
      "iter: 1, RMSE on training set: 0.9964503242477375.\n",
      "RMSE on test data: 0.9964587238475606.\n",
      "Running 2th fold in 5 folds\n",
      "learn the matrix factorization using CCD...\n",
      "iter: 0, RMSE on training set: 0.9964503244960371.\n",
      "iter: 1, RMSE on training set: 0.9964503242477375.\n",
      "RMSE on test data: 0.9964584304313565.\n",
      "Running 3th fold in 5 folds\n",
      "learn the matrix factorization using CCD...\n",
      "iter: 0, RMSE on training set: 0.9964503244960371.\n",
      "iter: 1, RMSE on training set: 0.9964503242477375.\n",
      "RMSE on test data: 0.9964523313834746.\n",
      "Running 4th fold in 5 folds\n",
      "learn the matrix factorization using CCD...\n",
      "iter: 0, RMSE on training set: 0.9964503244960371.\n",
      "iter: 1, RMSE on training set: 0.9964503242477375.\n",
      "RMSE on test data: 0.9964418033298583.\n",
      "Running 5th fold in 5 folds\n",
      "learn the matrix factorization using CCD...\n",
      "iter: 0, RMSE on training set: 0.9964503244960371.\n",
      "iter: 1, RMSE on training set: 0.9964503242477375.\n",
      "RMSE on test data: 0.9964463963413265.\n",
      "Running num_features=3\n",
      "Running 1th fold in 5 folds\n",
      "learn the matrix factorization using CCD...\n",
      "iter: 0, RMSE on training set: 0.9968016355945376.\n",
      "iter: 1, RMSE on training set: 0.9955862627139658.\n",
      "iter: 2, RMSE on training set: 0.9955849744421196.\n",
      "RMSE on test data: 0.9955935180106164.\n",
      "Running 2th fold in 5 folds\n"
     ]
    },
    {
     "ename": "KeyboardInterrupt",
     "evalue": "",
     "output_type": "error",
     "traceback": [
      "\u001b[0;31m---------------------------------------------------------------------------\u001b[0m",
      "\u001b[0;31mKeyboardInterrupt\u001b[0m                         Traceback (most recent call last)",
      "\u001b[0;32m<ipython-input-21-286ac0b41682>\u001b[0m in \u001b[0;36m<module>\u001b[0;34m()\u001b[0m\n\u001b[1;32m     20\u001b[0m     \u001b[0mprint\u001b[0m\u001b[0;34m(\u001b[0m\u001b[0;34m'Running num_features={n}'\u001b[0m\u001b[0;34m.\u001b[0m\u001b[0mformat\u001b[0m\u001b[0;34m(\u001b[0m\u001b[0mn\u001b[0m\u001b[0;34m=\u001b[0m\u001b[0mnum_features\u001b[0m\u001b[0;34m)\u001b[0m\u001b[0;34m)\u001b[0m\u001b[0;34m\u001b[0m\u001b[0m\n\u001b[1;32m     21\u001b[0m     [train_rmse_arr, validation_rmse_arr] = cross_validation(ratings, K, method, num_items_per_user, \n\u001b[0;32m---> 22\u001b[0;31m                                                              num_users_per_item, min_num_ratings, num_features, lambda_user, lambda_item)\n\u001b[0m\u001b[1;32m     23\u001b[0m \u001b[0;34m\u001b[0m\u001b[0m\n\u001b[1;32m     24\u001b[0m     \u001b[0;31m## Calculate mean and standard deviation\u001b[0m\u001b[0;34m\u001b[0m\u001b[0;34m\u001b[0m\u001b[0m\n",
      "\u001b[0;32m/Users/asmaetounsi/Documents/Etudes/EPFL/pattern/PCML_project2/code/cross_validation.py\u001b[0m in \u001b[0;36mcross_validation\u001b[0;34m(ratings, K, method, num_items_per_user, num_users_per_item, min_num_ratings, num_features, lambda_user, lambda_item, gamma)\u001b[0m\n\u001b[1;32m     62\u001b[0m         \u001b[0mprint\u001b[0m\u001b[0;34m(\u001b[0m\u001b[0;34m'Running {}th fold in {} folds'\u001b[0m\u001b[0;34m.\u001b[0m\u001b[0mformat\u001b[0m\u001b[0;34m(\u001b[0m\u001b[0mk\u001b[0m\u001b[0;34m+\u001b[0m\u001b[0;36m1\u001b[0m\u001b[0;34m,\u001b[0m \u001b[0mK\u001b[0m\u001b[0;34m)\u001b[0m\u001b[0;34m)\u001b[0m\u001b[0;34m\u001b[0m\u001b[0m\n\u001b[1;32m     63\u001b[0m         \u001b[0;31m### Split data in kth fold\u001b[0m\u001b[0;34m\u001b[0m\u001b[0;34m\u001b[0m\u001b[0m\n\u001b[0;32m---> 64\u001b[0;31m         \u001b[0;34m[\u001b[0m\u001b[0mtraining\u001b[0m\u001b[0;34m,\u001b[0m \u001b[0mvalidation\u001b[0m\u001b[0;34m]\u001b[0m \u001b[0;34m=\u001b[0m \u001b[0mk_fold_generator\u001b[0m\u001b[0;34m(\u001b[0m\u001b[0mvalid_ratings\u001b[0m\u001b[0;34m,\u001b[0m \u001b[0mK\u001b[0m\u001b[0;34m,\u001b[0m \u001b[0mk\u001b[0m\u001b[0;34m,\u001b[0m \u001b[0mbatch_size\u001b[0m\u001b[0;34m,\u001b[0m \u001b[0mdata_size\u001b[0m\u001b[0;34m,\u001b[0m \u001b[0mshuffled_index\u001b[0m\u001b[0;34m)\u001b[0m\u001b[0;34m\u001b[0m\u001b[0m\n\u001b[0m\u001b[1;32m     65\u001b[0m \u001b[0;34m\u001b[0m\u001b[0m\n\u001b[1;32m     66\u001b[0m         \u001b[0;31m### Matrix factorization using SGD/ALS/CCD\u001b[0m\u001b[0;34m\u001b[0m\u001b[0;34m\u001b[0m\u001b[0m\n",
      "\u001b[0;32m/Users/asmaetounsi/Documents/Etudes/EPFL/pattern/PCML_project2/code/cross_validation.py\u001b[0m in \u001b[0;36mk_fold_generator\u001b[0;34m(X, K, kth_fold, batch_size, data_size, shuffled_index)\u001b[0m\n\u001b[1;32m     18\u001b[0m     \u001b[0mvalidation\u001b[0m\u001b[0;34m[\u001b[0m\u001b[0mval_ind\u001b[0m\u001b[0;34m]\u001b[0m \u001b[0;34m=\u001b[0m \u001b[0mXdense\u001b[0m\u001b[0;34m[\u001b[0m\u001b[0mval_ind\u001b[0m\u001b[0;34m]\u001b[0m\u001b[0;34m\u001b[0m\u001b[0m\n\u001b[1;32m     19\u001b[0m     \u001b[0mtrain_ind\u001b[0m \u001b[0;34m=\u001b[0m \u001b[0mshuffled_index\u001b[0m\u001b[0;34m[\u001b[0m\u001b[0mnp\u001b[0m\u001b[0;34m.\u001b[0m\u001b[0msetxor1d\u001b[0m\u001b[0;34m(\u001b[0m\u001b[0mrange\u001b[0m\u001b[0;34m(\u001b[0m\u001b[0;36m0\u001b[0m\u001b[0;34m,\u001b[0m\u001b[0mdata_size\u001b[0m\u001b[0;34m)\u001b[0m\u001b[0;34m,\u001b[0m\u001b[0mrange\u001b[0m\u001b[0;34m(\u001b[0m\u001b[0mstart_val_ind\u001b[0m\u001b[0;34m,\u001b[0m\u001b[0mend_val_ind\u001b[0m\u001b[0;34m)\u001b[0m\u001b[0;34m)\u001b[0m\u001b[0;34m]\u001b[0m\u001b[0;34m\u001b[0m\u001b[0m\n\u001b[0;32m---> 20\u001b[0;31m     \u001b[0mtrain\u001b[0m\u001b[0;34m[\u001b[0m\u001b[0mtrain_ind\u001b[0m\u001b[0;34m]\u001b[0m \u001b[0;34m=\u001b[0m \u001b[0mXdense\u001b[0m\u001b[0;34m[\u001b[0m\u001b[0mtrain_ind\u001b[0m\u001b[0;34m]\u001b[0m                  \u001b[0;31m## Training data indices\u001b[0m\u001b[0;34m\u001b[0m\u001b[0m\n\u001b[0m\u001b[1;32m     21\u001b[0m     \u001b[0;32mreturn\u001b[0m \u001b[0msp\u001b[0m\u001b[0;34m.\u001b[0m\u001b[0mlil_matrix\u001b[0m\u001b[0;34m(\u001b[0m\u001b[0mtrain\u001b[0m\u001b[0;34m)\u001b[0m\u001b[0;34m,\u001b[0m \u001b[0msp\u001b[0m\u001b[0;34m.\u001b[0m\u001b[0mlil_matrix\u001b[0m\u001b[0;34m(\u001b[0m\u001b[0mvalidation\u001b[0m\u001b[0;34m)\u001b[0m\u001b[0;31m## Return sparse matrices\u001b[0m\u001b[0;34m\u001b[0m\u001b[0m\n\u001b[1;32m     22\u001b[0m \u001b[0;34m\u001b[0m\u001b[0m\n",
      "\u001b[0;32m/Users/asmaetounsi/anaconda3/lib/python3.5/site-packages/numpy/matrixlib/defmatrix.py\u001b[0m in \u001b[0;36m__getitem__\u001b[0;34m(self, index)\u001b[0m\n\u001b[1;32m    316\u001b[0m \u001b[0;34m\u001b[0m\u001b[0m\n\u001b[1;32m    317\u001b[0m         \u001b[0;32mtry\u001b[0m\u001b[0;34m:\u001b[0m\u001b[0;34m\u001b[0m\u001b[0m\n\u001b[0;32m--> 318\u001b[0;31m             \u001b[0mout\u001b[0m \u001b[0;34m=\u001b[0m \u001b[0mN\u001b[0m\u001b[0;34m.\u001b[0m\u001b[0mndarray\u001b[0m\u001b[0;34m.\u001b[0m\u001b[0m__getitem__\u001b[0m\u001b[0;34m(\u001b[0m\u001b[0mself\u001b[0m\u001b[0;34m,\u001b[0m \u001b[0mindex\u001b[0m\u001b[0;34m)\u001b[0m\u001b[0;34m\u001b[0m\u001b[0m\n\u001b[0m\u001b[1;32m    319\u001b[0m         \u001b[0;32mfinally\u001b[0m\u001b[0;34m:\u001b[0m\u001b[0;34m\u001b[0m\u001b[0m\n\u001b[1;32m    320\u001b[0m             \u001b[0mself\u001b[0m\u001b[0;34m.\u001b[0m\u001b[0m_getitem\u001b[0m \u001b[0;34m=\u001b[0m \u001b[0;32mFalse\u001b[0m\u001b[0;34m\u001b[0m\u001b[0m\n",
      "\u001b[0;32m/Users/asmaetounsi/anaconda3/lib/python3.5/site-packages/numpy/matrixlib/defmatrix.py\u001b[0m in \u001b[0;36m__array_finalize__\u001b[0;34m(self, obj)\u001b[0m\n\u001b[1;32m    290\u001b[0m         \u001b[0;32mreturn\u001b[0m \u001b[0mret\u001b[0m\u001b[0;34m\u001b[0m\u001b[0m\n\u001b[1;32m    291\u001b[0m \u001b[0;34m\u001b[0m\u001b[0m\n\u001b[0;32m--> 292\u001b[0;31m     \u001b[0;32mdef\u001b[0m \u001b[0m__array_finalize__\u001b[0m\u001b[0;34m(\u001b[0m\u001b[0mself\u001b[0m\u001b[0;34m,\u001b[0m \u001b[0mobj\u001b[0m\u001b[0;34m)\u001b[0m\u001b[0;34m:\u001b[0m\u001b[0;34m\u001b[0m\u001b[0m\n\u001b[0m\u001b[1;32m    293\u001b[0m         \u001b[0mself\u001b[0m\u001b[0;34m.\u001b[0m\u001b[0m_getitem\u001b[0m \u001b[0;34m=\u001b[0m \u001b[0;32mFalse\u001b[0m\u001b[0;34m\u001b[0m\u001b[0m\n\u001b[1;32m    294\u001b[0m         \u001b[0;32mif\u001b[0m \u001b[0;34m(\u001b[0m\u001b[0misinstance\u001b[0m\u001b[0;34m(\u001b[0m\u001b[0mobj\u001b[0m\u001b[0;34m,\u001b[0m \u001b[0mmatrix\u001b[0m\u001b[0;34m)\u001b[0m \u001b[0;32mand\u001b[0m \u001b[0mobj\u001b[0m\u001b[0;34m.\u001b[0m\u001b[0m_getitem\u001b[0m\u001b[0;34m)\u001b[0m\u001b[0;34m:\u001b[0m \u001b[0;32mreturn\u001b[0m\u001b[0;34m\u001b[0m\u001b[0m\n",
      "\u001b[0;31mKeyboardInterrupt\u001b[0m: "
     ]
    }
   ],
   "source": [
    "## !!! Takes long time to run\n",
    "\n",
    "method = 2     # 0-SGD 1-ALS\n",
    "K = 5         ## K-fold cross validation\n",
    "gamma = 0.01\n",
    "num_features_arr = [1, 3, 5, 7, 10, 13, 15]   # K in the lecture notes\n",
    "lambda_user = 0.1\n",
    "lambda_item = 0.7\n",
    "min_num_ratings=10\n",
    "\n",
    "train_rmse_mean = np.zeros(len(num_features_arr))\n",
    "train_rmse_std = np.zeros(len(num_features_arr))\n",
    "validation_rmse_mean = np.zeros(len(num_features_arr))\n",
    "validation_rmse_std = np.zeros(len(num_features_arr))\n",
    "\n",
    "for i, num_features in enumerate(num_features_arr):\n",
    "    train_rmse_arr = []\n",
    "    validation_rmse_arr = []\n",
    "    \n",
    "    print('Running num_features={n}'.format(n=num_features))\n",
    "    [train_rmse_arr, validation_rmse_arr] = cross_validation(ratings, K, method, num_items_per_user, \n",
    "                                                             num_users_per_item, min_num_ratings, num_features, lambda_user, lambda_item)\n",
    "        \n",
    "    ## Calculate mean and standard deviation    \n",
    "    train_rmse_mean[i] = np.mean(train_rmse_arr)\n",
    "    train_rmse_std[i] = np.std(train_rmse_arr)\n",
    "    validation_rmse_mean[i] = np.mean(validation_rmse_arr)\n",
    "    validation_rmse_std[i] = np.std(validation_rmse_std)\n",
    "    \n",
    "## Plotting results\n",
    "plt.fill_between(num_features_arr, train_rmse_mean - train_rmse_std,\n",
    "                     train_rmse_mean + train_rmse_std, alpha=0.1, color=\"r\")\n",
    "plt.fill_between(num_features_arr, validation_rmse_mean - validation_rmse_std,\n",
    "                     validation_rmse_mean + validation_rmse_std, alpha=0.1, color=\"g\")\n",
    "plt.plot(num_features_arr, train_rmse_mean, 'o-', color=\"r\")\n",
    "plt.plot(num_features_arr, validation_rmse_mean, 'o-', color=\"g\")\n",
    "plt.legend(('Train', 'Validation'))\n",
    "plt.xlabel('Number of features (K)'); plt.ylabel('RMSE');\n",
    "plt.show()"
   ]
  },
  {
   "cell_type": "code",
   "execution_count": 14,
   "metadata": {
    "collapsed": false
   },
   "outputs": [
    {
     "name": "stdout",
     "output_type": "stream",
     "text": [
      "[ 0.99236697]\n",
      "[  1.11022302e-16]\n",
      "[ 0.99235064]\n",
      "[ 0.]\n"
     ]
    }
   ],
   "source": [
    "print(train_rmse_mean)\n",
    "print(train_rmse_std)\n",
    "print(validation_rmse_mean)\n",
    "print(validation_rmse_std)"
   ]
  },
  {
   "cell_type": "markdown",
   "metadata": {},
   "source": [
    "### lambda_user"
   ]
  },
  {
   "cell_type": "code",
   "execution_count": null,
   "metadata": {
    "collapsed": false
   },
   "outputs": [
    {
     "name": "stdout",
     "output_type": "stream",
     "text": [
      "Running lambda_user=0.01\n",
      "Running 1th fold in 10 folds\n"
     ]
    }
   ],
   "source": [
    "## !!! Takes long time to run\n",
    "\n",
    "method = 2     # 0-SGD 1-ALS\n",
    "K = 10        ## K-fold cross validation\n",
    "gamma = 0.01\n",
    "num_features = 20   # K in the lecture notes\n",
    "lambda_user_arr = [0.01, 0.1, 1, 10]\n",
    "lambda_item = 0.7\n",
    "\n",
    "train_rmse_mean = np.zeros(len(lambda_user_arr))\n",
    "train_rmse_std = np.zeros(len(lambda_user_arr))\n",
    "validation_rmse_mean = np.zeros(len(lambda_user_arr))\n",
    "validation_rmse_std = np.zeros(len(lambda_user_arr))\n",
    "\n",
    "for i, lambda_user in enumerate(lambda_user_arr):\n",
    "    train_rmse_arr = []\n",
    "    validation_rmse_arr = []\n",
    "    \n",
    "    print('Running lambda_user={n}'.format(n=lambda_user))\n",
    "    [train_rmse_arr, validation_rmse_arr] = cross_validation(ratings, K, method, num_items_per_user, \n",
    "                                                             num_users_per_item, min_num_ratings=10)\n",
    "        \n",
    "    train_rmse_mean[i] = np.mean(train_rmse_arr)\n",
    "    train_rmse_std[i] = np.std(train_rmse_arr)\n",
    "    validation_rmse_mean[i] = np.mean(validation_rmse_arr)\n",
    "    validation_rmse_std[i] = np.std(validation_rmse_std)\n",
    "    \n",
    "## Plotting results\n",
    "plt.fill_between(lambda_user_arr, train_rmse_mean - train_rmse_std,\n",
    "                     train_rmse_mean + train_rmse_std, alpha=0.1, color=\"r\")\n",
    "plt.fill_between(lambda_user_arr, validation_rmse_mean - validation_rmse_std,\n",
    "                     validation_rmse_mean + validation_rmse_std, alpha=0.1, color=\"g\")\n",
    "plt.plot(lambda_user_arr, train_rmse_mean, 'o-', color=\"r\")\n",
    "plt.plot(lambda_user_arr, validation_rmse_mean, 'o-', color=\"g\")\n",
    "plt.legend(('Train', 'Validation'))\n",
    "plt.xlabel('Lambda user'); plt.ylabel('RMSE');\n",
    "plt.show()"
   ]
  },
  {
   "cell_type": "markdown",
   "metadata": {},
   "source": [
    "### Lambda item"
   ]
  },
  {
   "cell_type": "code",
   "execution_count": null,
   "metadata": {
    "collapsed": true
   },
   "outputs": [],
   "source": [
    "## !!! Takes long time to run\n",
    "\n",
    "method = 0     # 0-SGD 1-ALS\n",
    "K = 10        ## K-fold cross validation\n",
    "gamma = 0.01\n",
    "num_features = 20   # K in the lecture notes\n",
    "lambda_user = 0.1\n",
    "lambda_item_arr = [0.01, 0.1, 0.5, 1]\n",
    "\n",
    "train_rmse_mean = np.zeros(len(lambda_item_arr))\n",
    "train_rmse_std = np.zeros(len(lambda_item_arr))\n",
    "validation_rmse_mean = np.zeros(len(lambda_item_arr))\n",
    "validation_rmse_std = np.zeros(len(lambda_item_arr))\n",
    "\n",
    "for i, lambda_item in enumerate(lambda_item_arr):\n",
    "    train_rmse_arr = []\n",
    "    validation_rmse_arr = []\n",
    "    \n",
    "    print('Running lambda_item={n}'.format(n=lambda_item))\n",
    "    [train_rmse_arr, validation_rmse_arr] = cross_validation(ratings, K, method, num_items_per_user, \n",
    "                                                             num_users_per_item, min_num_ratings=10)\n",
    "        \n",
    "    train_rmse_mean[i] = np.mean(train_rmse_arr)\n",
    "    train_rmse_std[i] = np.std(train_rmse_arr)\n",
    "    validation_rmse_mean[i] = np.mean(validation_rmse_arr)\n",
    "    validation_rmse_std[i] = np.std(validation_rmse_std)\n",
    "    \n",
    "## Plotting results\n",
    "plt.fill_between(lambda_item_arr, train_rmse_mean - train_rmse_std,\n",
    "                     train_rmse_mean + train_rmse_std, alpha=0.1, color=\"r\")\n",
    "plt.fill_between(lambda_item_arr, validation_rmse_mean - validation_rmse_std,\n",
    "                     validation_rmse_mean + validation_rmse_std, alpha=0.1, color=\"g\")\n",
    "plt.plot(lambda_item_arr, train_rmse_mean, 'o-', color=\"r\")\n",
    "plt.plot(lambda_item_arr, validation_rmse_mean, 'o-', color=\"g\")\n",
    "plt.legend(('Train', 'Validation'))\n",
    "plt.xlabel('Lambda item'); plt.ylabel('RMSE');\n",
    "plt.show()"
   ]
  },
  {
   "cell_type": "markdown",
   "metadata": {},
   "source": [
    "### Learning rate"
   ]
  },
  {
   "cell_type": "code",
   "execution_count": null,
   "metadata": {
    "collapsed": true
   },
   "outputs": [],
   "source": [
    "## !!! Takes long time to run\n",
    "\n",
    "method = 0     # 0-SGD\n",
    "K = 10        ## K-fold cross validation\n",
    "gamma_arr = [0.01, 0.1, 1]\n",
    "num_features = 20   # K in the lecture notes\n",
    "lambda_user = 0.1\n",
    "lambda_item = 0.5\n",
    "\n",
    "train_rmse_mean = np.zeros(len(gamma_arr))\n",
    "train_rmse_std = np.zeros(len(gamma_arr))\n",
    "validation_rmse_mean = np.zeros(len(gamma_arr))\n",
    "validation_rmse_std = np.zeros(len(gamma_arr))\n",
    "\n",
    "for i, gamma in enumerate(gamma_arr):\n",
    "    train_rmse_arr = []\n",
    "    validation_rmse_arr = []\n",
    "    \n",
    "    print('Running gamma={n}'.format(n=gamma))\n",
    "    [train_rmse_arr, validation_rmse_arr] = cross_validation(ratings, K, method, num_items_per_user, \n",
    "                                                             num_users_per_item, min_num_ratings=10)\n",
    "        \n",
    "    train_rmse_mean[i] = np.mean(train_rmse_arr)\n",
    "    train_rmse_std[i] = np.std(train_rmse_arr)\n",
    "    validation_rmse_mean[i] = np.mean(validation_rmse_arr)\n",
    "    validation_rmse_std[i] = np.std(validation_rmse_std)\n",
    "    \n",
    "## Plotting results\n",
    "plt.fill_between(gamma_arr, train_rmse_mean - train_rmse_std,\n",
    "                     train_rmse_mean + train_rmse_std, alpha=0.1, color=\"r\")\n",
    "plt.fill_between(gamma_arr, validation_rmse_mean - validation_rmse_std,\n",
    "                     validation_rmse_mean + validation_rmse_std, alpha=0.1, color=\"g\")\n",
    "plt.plot(gamma_arr, train_rmse_mean, 'o-', color=\"r\")\n",
    "plt.plot(gamma_arr, validation_rmse_mean, 'o-', color=\"g\")\n",
    "plt.legend(('Train', 'Validation'))\n",
    "plt.xlabel('Learning Rate'); plt.ylabel('RMSE');\n",
    "plt.show()"
   ]
  },
  {
   "cell_type": "markdown",
   "metadata": {},
   "source": [
    "### TODO\n",
    "#### 1. Compare SGD, ALS with the best set of parameters (based on above results)"
   ]
  },
  {
   "cell_type": "code",
   "execution_count": null,
   "metadata": {
    "collapsed": true
   },
   "outputs": [],
   "source": []
  }
 ],
 "metadata": {
  "anaconda-cloud": {},
  "kernelspec": {
   "display_name": "Python [Root]",
   "language": "python",
   "name": "Python [Root]"
  },
  "language_info": {
   "codemirror_mode": {
    "name": "ipython",
    "version": 3
   },
   "file_extension": ".py",
   "mimetype": "text/x-python",
   "name": "python",
   "nbconvert_exporter": "python",
   "pygments_lexer": "ipython3",
   "version": "3.5.2"
  }
 },
 "nbformat": 4,
 "nbformat_minor": 0
}
