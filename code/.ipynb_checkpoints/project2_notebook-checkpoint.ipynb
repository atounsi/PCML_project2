{
 "cells": [
  {
   "cell_type": "code",
   "execution_count": 1,
   "metadata": {
    "collapsed": false
   },
   "outputs": [],
   "source": [
    "# Useful starting lines\n",
    "%matplotlib inline\n",
    "\n",
    "import numpy as np\n",
    "import scipy\n",
    "import scipy.io\n",
    "import scipy.sparse as sp\n",
    "import matplotlib.pyplot as plt\n",
    "from helpers import *\n",
    "from helpers import *\n",
    "from plots import *\n",
    "from plots import *\n",
    "from split_data import *\n",
    "from recommender import *\n",
    "from cross_validation import *\n",
    "%load_ext autoreload\n",
    "%autoreload 2\u001c"
   ]
  },
  {
   "cell_type": "markdown",
   "metadata": {},
   "source": [
    "## Load Data"
   ]
  },
  {
   "cell_type": "code",
   "execution_count": 2,
   "metadata": {
    "collapsed": false
   },
   "outputs": [
    {
     "name": "stdout",
     "output_type": "stream",
     "text": [
      "number of items: 10000, number of users: 1000\n"
     ]
    }
   ],
   "source": [
    "path_dataset = \"../data/data_train.csv\"\n",
    "ratings = load_data(path_dataset)"
   ]
  },
  {
   "cell_type": "code",
   "execution_count": 3,
   "metadata": {
    "collapsed": false
   },
   "outputs": [
    {
     "data": {
      "image/png": "[encoded data removed]",
      "text/plain": [
       "<matplotlib.figure.Figure at 0x103f6f7f0>"
      ]
     },
     "metadata": {},
     "output_type": "display_data"
    },
    {
     "name": "stdout",
     "output_type": "stream",
     "text": [
      "min # of items per user = 8, min # of users per item = 3.\n"
     ]
    }
   ],
   "source": [
    "num_items_per_user, num_users_per_item = plot_raw_data(ratings)\n",
    "\n",
    "print(\"min # of items per user = {}, min # of users per item = {}.\".format(\n",
    "        min(num_items_per_user), min(num_users_per_item)))"
   ]
  },
  {
   "cell_type": "markdown",
   "metadata": {},
   "source": [
    "## Split data into training and test set"
   ]
  },
  {
   "cell_type": "code",
   "execution_count": 4,
   "metadata": {
    "collapsed": false
   },
   "outputs": [],
   "source": [
    "valid_ratings, train_validation, test = split_data(\n",
    "    ratings, num_items_per_user, num_users_per_item, min_num_ratings=10, p_test=0.1)\n",
    "#plot_train_test_data(train_validation, test)"
   ]
  },
  {
   "cell_type": "markdown",
   "metadata": {
    "collapsed": true
   },
   "source": [
    "## Matrix factorisation using SGD"
   ]
  },
  {
   "cell_type": "code",
   "execution_count": null,
   "metadata": {
    "collapsed": false
   },
   "outputs": [],
   "source": [
    "%run run.py 0"
   ]
  },
  {
   "cell_type": "markdown",
   "metadata": {},
   "source": [
    "## ALS"
   ]
  },
  {
   "cell_type": "code",
   "execution_count": null,
   "metadata": {
    "collapsed": true
   },
   "outputs": [],
   "source": [
    "%run run.py 1"
   ]
  },
  {
   "cell_type": "markdown",
   "metadata": {},
   "source": [
    "## Other Methods\n",
    "### CCD"
   ]
  },
  {
   "cell_type": "code",
   "execution_count": 10,
   "metadata": {
    "collapsed": false
   },
   "outputs": [
    {
     "name": "stdout",
     "output_type": "stream",
     "text": [
      "Loading training data\n",
      "number of items: 10000, number of users: 1000\n",
      "Preprocessing data\n",
      "Splitting data into train and test sets\n",
      "Training model\n",
      "learn the matrix factorization using CCD...\n",
      "iter: 0.0, RMSE on training set: 2.9950929124619052.\n",
      "iter: 1.0, RMSE on training set: 2.8375133312177385.\n",
      "iter: 2.0, RMSE on training set: 2.698924358850894.\n",
      "iter: 3.0, RMSE on training set: 2.5769580418708635.\n",
      "iter: 4.0, RMSE on training set: 2.4695058435338724.\n",
      "iter: 5.0, RMSE on training set: 2.3747001823458365.\n",
      "iter: 6.0, RMSE on training set: 2.2908928062854743.\n",
      "iter: 7.0, RMSE on training set: 2.2166350497167655.\n",
      "iter: 8.0, RMSE on training set: 2.1506589227177604.\n",
      "iter: 9.0, RMSE on training set: 2.0918589698662795.\n",
      "iter: 10.0, RMSE on training set: 2.0392749650854327.\n",
      "iter: 11.0, RMSE on training set: 1.9920755622374824.\n",
      "iter: 12.0, RMSE on training set: 1.949543027272273.\n",
      "iter: 13.0, RMSE on training set: 1.9110591555029883.\n",
      "iter: 14.0, RMSE on training set: 1.8760924395755691.\n",
      "iter: 15.0, RMSE on training set: 1.8441865107720288.\n",
      "iter: 16.0, RMSE on training set: 1.8149498360746452.\n",
      "iter: 17.0, RMSE on training set: 1.7880466202723584.\n",
      "iter: 18.0, RMSE on training set: 1.763188838006205.\n",
      "iter: 19.0, RMSE on training set: 1.740129304928859.\n",
      "iter: 20.0, RMSE on training set: 1.7186556889934048.\n",
      "iter: 21.0, RMSE on training set: 1.6985853607671593.\n",
      "iter: 22.0, RMSE on training set: 1.6797609840183791.\n",
      "iter: 23.0, RMSE on training set: 1.6620467532315155.\n",
      "iter: 24.0, RMSE on training set: 1.6453251919953749.\n",
      "iter: 25.0, RMSE on training set: 1.6294944344610105.\n",
      "iter: 26.0, RMSE on training set: 1.6144659206067447.\n",
      "iter: 27.0, RMSE on training set: 1.6001624444076923.\n",
      "iter: 28.0, RMSE on training set: 1.5865165018872058.\n",
      "iter: 29.0, RMSE on training set: 1.5734688932574752.\n",
      "iter: 30.0, RMSE on training set: 1.5609675398599663.\n",
      "iter: 31.0, RMSE on training set: 1.5489664823792688.\n",
      "iter: 32.0, RMSE on training set: 1.5374250318510028.\n",
      "iter: 33.0, RMSE on training set: 1.5263070493615978.\n",
      "iter: 34.0, RMSE on training set: 1.515580334102754.\n",
      "iter: 35.0, RMSE on training set: 1.5052161026589794.\n",
      "iter: 36.0, RMSE on training set: 1.4951885451373188.\n",
      "iter: 37.0, RMSE on training set: 1.4854744460575666.\n",
      "iter: 38.0, RMSE on training set: 1.4760528598679963.\n",
      "iter: 39.0, RMSE on training set: 1.4669048325894816.\n",
      "iter: 40.0, RMSE on training set: 1.4580131624664743.\n",
      "iter: 41.0, RMSE on training set: 1.4493621936568162.\n",
      "iter: 42.0, RMSE on training set: 1.440937637958127.\n",
      "iter: 43.0, RMSE on training set: 1.4327264203760235.\n",
      "iter: 44.0, RMSE on training set: 1.4247165450141406.\n",
      "iter: 45.0, RMSE on training set: 1.4168969783293368.\n",
      "iter: 46.0, RMSE on training set: 1.4092575472660198.\n",
      "iter: 47.0, RMSE on training set: 1.4017888501762632.\n",
      "iter: 48.0, RMSE on training set: 1.3944821787603745.\n",
      "iter: 49.0, RMSE on training set: 1.3873294495360375.\n",
      "iter: 50.0, RMSE on training set: 1.3803231435725267.\n",
      "iter: 51.0, RMSE on training set: 1.3734562534168318.\n",
      "iter: 52.0, RMSE on training set: 1.3667222362974638.\n",
      "iter: 53.0, RMSE on training set: 1.3601149728243156.\n",
      "iter: 54.0, RMSE on training set: 1.3536287305136576.\n",
      "iter: 55.0, RMSE on training set: 1.3472581315596857.\n",
      "iter: 56.0, RMSE on training set: 1.3409981243513214.\n",
      "iter: 57.0, RMSE on training set: 1.334843958297346.\n",
      "iter: 58.0, RMSE on training set: 1.3287911615771115.\n",
      "iter: 59.0, RMSE on training set: 1.3228355214794054.\n",
      "iter: 60.0, RMSE on training set: 1.3169730670305941.\n",
      "iter: 61.0, RMSE on training set: 1.3112000536458304.\n",
      "iter: 62.0, RMSE on training set: 1.3055129495654407.\n",
      "iter: 63.0, RMSE on training set: 1.2999084238630858.\n",
      "iter: 64.0, RMSE on training set: 1.29438333583392.\n",
      "iter: 65.0, RMSE on training set: 1.2889347255900612.\n",
      "iter: 66.0, RMSE on training set: 1.2835598057077426.\n",
      "iter: 67.0, RMSE on training set: 1.278255953785729.\n",
      "iter: 68.0, RMSE on training set: 1.2730207057882998.\n",
      "iter: 69.0, RMSE on training set: 1.267851750058399.\n",
      "iter: 70.0, RMSE on training set: 1.2627469218977694.\n",
      "iter: 71.0, RMSE on training set: 1.2577041986210435.\n",
      "iter: 72.0, RMSE on training set: 1.2527216950001052.\n",
      "iter: 73.0, RMSE on training set: 1.2477976590236646.\n",
      "iter: 74.0, RMSE on training set: 1.242930467904914.\n",
      "iter: 75.0, RMSE on training set: 1.238118624277597.\n",
      "iter: 76.0, RMSE on training set: 1.2333607525276744.\n",
      "iter: 77.0, RMSE on training set: 1.2286555952142264.\n",
      "iter: 78.0, RMSE on training set: 1.2240020095392434.\n",
      "iter: 79.0, RMSE on training set: 1.219398963831547.\n",
      "iter: 80.0, RMSE on training set: 1.214845534015374.\n",
      "iter: 81.0, RMSE on training set: 1.2103409000390697.\n",
      "iter: 82.0, RMSE on training set: 1.2058843422439653.\n",
      "iter: 83.0, RMSE on training set: 1.2014752376578703.\n",
      "iter: 84.0, RMSE on training set: 1.1971130562016397.\n",
      "iter: 85.0, RMSE on training set: 1.1927973568010817.\n",
      "iter: 86.0, RMSE on training set: 1.1885277833999905.\n",
      "iter: 87.0, RMSE on training set: 1.184304060873265.\n",
      "iter: 88.0, RMSE on training set: 1.1801259908420894.\n",
      "iter: 89.0, RMSE on training set: 1.1759934473957403.\n",
      "iter: 90.0, RMSE on training set: 1.1719063727270331.\n",
      "iter: 91.0, RMSE on training set: 1.167864772690451.\n",
      "iter: 92.0, RMSE on training set: 1.1638687122939024.\n",
      "iter: 93.0, RMSE on training set: 1.1599183111364988.\n",
      "iter: 94.0, RMSE on training set: 1.1560137388061325.\n",
      "iter: 95.0, RMSE on training set: 1.152155210251541.\n",
      "iter: 96.0, RMSE on training set: 1.1483429811443606.\n",
      "iter: 97.0, RMSE on training set: 1.144577343247124.\n",
      "iter: 98.0, RMSE on training set: 1.1408586198034265.\n",
      "iter: 99.0, RMSE on training set: 1.137187160966526.\n",
      "iter: 100.0, RMSE on training set: 1.133563339282457.\n",
      "iter: 101.0, RMSE on training set: 1.1299875452434098.\n",
      "iter: 102.0, RMSE on training set: 1.1264601829266339.\n",
      "iter: 103.0, RMSE on training set: 1.1229816657334972.\n",
      "iter: 104.0, RMSE on training set: 1.1195524122426386.\n",
      "iter: 105.0, RMSE on training set: 1.1161728421903083.\n",
      "iter: 106.0, RMSE on training set: 1.1128433725901763.\n",
      "iter: 107.0, RMSE on training set: 1.1095644140039398.\n",
      "iter: 108.0, RMSE on training set: 1.1063363669731185.\n",
      "iter: 109.0, RMSE on training set: 1.1031596186214798.\n",
      "iter: 110.0, RMSE on training set: 1.1000345394364839.\n",
      "iter: 111.0, RMSE on training set: 1.0969614802371752.\n",
      "iter: 112.0, RMSE on training set: 1.0939407693348857.\n",
      "iter: 113.0, RMSE on training set: 1.0909727098921183.\n",
      "iter: 114.0, RMSE on training set: 1.088057577483889.\n",
      "iter: 115.0, RMSE on training set: 1.0851956178648468.\n",
      "iter: 116.0, RMSE on training set: 1.0823870449443806.\n",
      "iter: 117.0, RMSE on training set: 1.079632038970979.\n",
      "iter: 118.0, RMSE on training set: 1.076930744926076.\n",
      "iter: 119.0, RMSE on training set: 1.0742832711266361.\n",
      "iter: 120.0, RMSE on training set: 1.0716896880348525.\n",
      "iter: 121.0, RMSE on training set: 1.0691500272723484.\n",
      "iter: 122.0, RMSE on training set: 1.0666642808354825.\n",
      "iter: 123.0, RMSE on training set: 1.064232400507507.\n",
      "iter: 124.0, RMSE on training set: 1.061854297462582.\n",
      "iter: 125.0, RMSE on training set: 1.0595298420559118.\n",
      "iter: 126.0, RMSE on training set: 1.0572588637936327.\n",
      "iter: 127.0, RMSE on training set: 1.0550411514754612.\n",
      "iter: 128.0, RMSE on training set: 1.0528764535025639.\n",
      "iter: 129.0, RMSE on training set: 1.0507644783426207.\n",
      "iter: 130.0, RMSE on training set: 1.0487048951436038.\n",
      "iter: 131.0, RMSE on training set: 1.046697334487469.\n",
      "iter: 132.0, RMSE on training set: 1.044741389274569.\n",
      "iter: 133.0, RMSE on training set: 1.0428366157294342.\n",
      "iter: 134.0, RMSE on training set: 1.0409825345183268.\n",
      "iter: 135.0, RMSE on training set: 1.0391786319688625.\n",
      "iter: 136.0, RMSE on training set: 1.037424361381951.\n",
      "iter: 137.0, RMSE on training set: 1.0357191444262908.\n",
      "iter: 138.0, RMSE on training set: 1.0340623726057043.\n",
      "iter: 139.0, RMSE on training set: 1.032453408789732.\n",
      "iter: 140.0, RMSE on training set: 1.0308915887980297.\n",
      "iter: 141.0, RMSE on training set: 1.0293762230293635.\n",
      "iter: 142.0, RMSE on training set: 1.0279065981261855.\n",
      "iter: 143.0, RMSE on training set: 1.0264819786661297.\n",
      "iter: 144.0, RMSE on training set: 1.0251016088720142.\n",
      "iter: 145.0, RMSE on training set: 1.0237647143323487.\n",
      "iter: 146.0, RMSE on training set: 1.0224705037246753.\n",
      "iter: 147.0, RMSE on training set: 1.0212181705344958.\n",
      "iter: 148.0, RMSE on training set: 1.020006894762938.\n",
      "iter: 149.0, RMSE on training set: 1.0188358446167638.\n",
      "iter: 150.0, RMSE on training set: 1.0177041781747411.\n",
      "iter: 151.0, RMSE on training set: 1.016611045024874.\n",
      "iter: 152.0, RMSE on training set: 1.0155555878674312.\n",
      "iter: 153.0, RMSE on training set: 1.014536944079172.\n",
      "iter: 154.0, RMSE on training set: 1.0135542472346215.\n",
      "iter: 155.0, RMSE on training set: 1.0126066285807058.\n",
      "iter: 156.0, RMSE on training set: 1.011693218461488.\n",
      "iter: 157.0, RMSE on training set: 1.0108131476901934.\n",
      "iter: 158.0, RMSE on training set: 1.0099655488661057.\n",
      "iter: 159.0, RMSE on training set: 1.0091495576343674.\n",
      "iter: 160.0, RMSE on training set: 1.0083643138870448.\n",
      "iter: 161.0, RMSE on training set: 1.007608962904249.\n",
      "iter: 162.0, RMSE on training set: 1.0068826564344022.\n",
      "iter: 163.0, RMSE on training set: 1.006184553713112.\n",
      "iter: 164.0, RMSE on training set: 1.0055138224204048.\n",
      "iter: 165.0, RMSE on training set: 1.0048696395763415.\n",
      "iter: 166.0, RMSE on training set: 1.0042511923753539.\n",
      "iter: 167.0, RMSE on training set: 1.0036576789598155.\n",
      "iter: 168.0, RMSE on training set: 1.0030883091336416.\n",
      "iter: 169.0, RMSE on training set: 1.0025423050168702.\n",
      "iter: 170.0, RMSE on training set: 1.0020189016423795.\n",
      "iter: 171.0, RMSE on training set: 1.0015173474960257.\n",
      "iter: 172.0, RMSE on training set: 1.0010369050016446.\n",
      "iter: 173.0, RMSE on training set: 1.00057685095247.\n",
      "iter: 174.0, RMSE on training set: 1.0001364768906074.\n",
      "iter: 175.0, RMSE on training set: 0.9997150894362942.\n",
      "iter: 176.0, RMSE on training set: 0.9993120105687514.\n",
      "iter: 177.0, RMSE on training set: 0.9989265778604557.\n",
      "iter: 178.0, RMSE on training set: 0.9985581446667368.\n",
      "iter: 179.0, RMSE on training set: 0.9982060802725955.\n",
      "iter: 180.0, RMSE on training set: 0.9978697699986987.\n",
      "iter: 181.0, RMSE on training set: 0.9975486152684686.\n",
      "iter: 182.0, RMSE on training set: 0.997242033638235.\n",
      "iter: 183.0, RMSE on training set: 0.9969494587923851.\n",
      "iter: 184.0, RMSE on training set: 0.9966703405054541.\n",
      "iter: 185.0, RMSE on training set: 0.9964041445730819.\n",
      "iter: 186.0, RMSE on training set: 0.9961503527137577.\n",
      "iter: 187.0, RMSE on training set: 0.995908462443239.\n",
      "iter: 188.0, RMSE on training set: 0.9956779869235384.\n",
      "iter: 189.0, RMSE on training set: 0.9954584547883318.\n",
      "iter: 190.0, RMSE on training set: 0.9952494099466169.\n",
      "iter: 191.0, RMSE on training set: 0.995050411366437.\n",
      "iter: 192.0, RMSE on training set: 0.9948610328404519.\n",
      "iter: 193.0, RMSE on training set: 0.9946808627350946.\n",
      "iter: 194.0, RMSE on training set: 0.994509503725018.\n",
      "iter: 195.0, RMSE on training set: 0.9943465725145186.\n",
      "iter: 196.0, RMSE on training set: 0.9941916995475322.\n",
      "iter: 197.0, RMSE on training set: 0.9940445287077938.\n",
      "iter: 198.0, RMSE on training set: 0.9939047170106623.\n",
      "iter: 199.0, RMSE on training set: 0.9937719342880723.\n",
      "iter: 200.0, RMSE on training set: 0.9936458628679986.\n",
      "iter: 201.0, RMSE on training set: 0.9935261972497534.\n",
      "iter: 202.0, RMSE on training set: 0.993412643776371.\n",
      "iter: 203.0, RMSE on training set: 0.9933049203052366.\n",
      "iter: 204.0, RMSE on training set: 0.9932027558780667.\n",
      "iter: 205.0, RMSE on training set: 0.993105890391254.\n",
      "RMSE on test data: 1.0128703895487268.\n",
      "RMSE on train data: 0.993105890391254.\n",
      "RMSE on test data: 1.0128703895487268.\n"
     ]
    }
   ],
   "source": [
    "%run run.py 2"
   ]
  },
  {
   "cell_type": "markdown",
   "metadata": {},
   "source": [
    "## Cross validation"
   ]
  },
  {
   "cell_type": "markdown",
   "metadata": {},
   "source": [
    "### Number of features"
   ]
  },
  {
   "cell_type": "code",
   "execution_count": 7,
   "metadata": {
    "collapsed": false
   },
   "outputs": [
    {
     "name": "stdout",
     "output_type": "stream",
     "text": [
      "Running num_features=1\n",
      "Running 1th fold in 5 folds\n",
      "learn the matrix factorization using CCD...\n",
      "iter: 0.0, RMSE on training set: 0.9964503244960371.\n",
      "iter: 1.0, RMSE on training set: 0.9964503242477375.\n",
      "RMSE on test data: 0.9964587238475606.\n",
      "Running 2th fold in 5 folds\n"
     ]
    },
    {
     "ename": "KeyboardInterrupt",
     "evalue": "",
     "output_type": "error",
     "traceback": [
      "\u001b[0;31m---------------------------------------------------------------------------\u001b[0m",
      "\u001b[0;31mKeyboardInterrupt\u001b[0m                         Traceback (most recent call last)",
      "\u001b[0;32m<ipython-input-7-286ac0b41682>\u001b[0m in \u001b[0;36m<module>\u001b[0;34m()\u001b[0m\n\u001b[1;32m     20\u001b[0m     \u001b[0mprint\u001b[0m\u001b[0;34m(\u001b[0m\u001b[0;34m'Running num_features={n}'\u001b[0m\u001b[0;34m.\u001b[0m\u001b[0mformat\u001b[0m\u001b[0;34m(\u001b[0m\u001b[0mn\u001b[0m\u001b[0;34m=\u001b[0m\u001b[0mnum_features\u001b[0m\u001b[0;34m)\u001b[0m\u001b[0;34m)\u001b[0m\u001b[0;34m\u001b[0m\u001b[0m\n\u001b[1;32m     21\u001b[0m     [train_rmse_arr, validation_rmse_arr] = cross_validation(ratings, K, method, num_items_per_user, \n\u001b[0;32m---> 22\u001b[0;31m                                                              num_users_per_item, min_num_ratings, num_features, lambda_user, lambda_item)\n\u001b[0m\u001b[1;32m     23\u001b[0m \u001b[0;34m\u001b[0m\u001b[0m\n\u001b[1;32m     24\u001b[0m     \u001b[0;31m## Calculate mean and standard deviation\u001b[0m\u001b[0;34m\u001b[0m\u001b[0;34m\u001b[0m\u001b[0m\n",
      "\u001b[0;32m/Users/asmaetounsi/Documents/Etudes/EPFL/pattern/PCML_project2/code/cross_validation.py\u001b[0m in \u001b[0;36mcross_validation\u001b[0;34m(ratings, K, method, num_items_per_user, num_users_per_item, min_num_ratings, num_features, lambda_user, lambda_item, gamma)\u001b[0m\n\u001b[1;32m     62\u001b[0m         \u001b[0mprint\u001b[0m\u001b[0;34m(\u001b[0m\u001b[0;34m'Running {}th fold in {} folds'\u001b[0m\u001b[0;34m.\u001b[0m\u001b[0mformat\u001b[0m\u001b[0;34m(\u001b[0m\u001b[0mk\u001b[0m\u001b[0;34m+\u001b[0m\u001b[0;36m1\u001b[0m\u001b[0;34m,\u001b[0m \u001b[0mK\u001b[0m\u001b[0;34m)\u001b[0m\u001b[0;34m)\u001b[0m\u001b[0;34m\u001b[0m\u001b[0m\n\u001b[1;32m     63\u001b[0m         \u001b[0;31m### Split data in kth fold\u001b[0m\u001b[0;34m\u001b[0m\u001b[0;34m\u001b[0m\u001b[0m\n\u001b[0;32m---> 64\u001b[0;31m         \u001b[0;34m[\u001b[0m\u001b[0mtraining\u001b[0m\u001b[0;34m,\u001b[0m \u001b[0mvalidation\u001b[0m\u001b[0;34m]\u001b[0m \u001b[0;34m=\u001b[0m \u001b[0mk_fold_generator\u001b[0m\u001b[0;34m(\u001b[0m\u001b[0mvalid_ratings\u001b[0m\u001b[0;34m,\u001b[0m \u001b[0mK\u001b[0m\u001b[0;34m,\u001b[0m \u001b[0mk\u001b[0m\u001b[0;34m,\u001b[0m \u001b[0mbatch_size\u001b[0m\u001b[0;34m,\u001b[0m \u001b[0mdata_size\u001b[0m\u001b[0;34m,\u001b[0m \u001b[0mshuffled_index\u001b[0m\u001b[0;34m)\u001b[0m\u001b[0;34m\u001b[0m\u001b[0m\n\u001b[0m\u001b[1;32m     65\u001b[0m \u001b[0;34m\u001b[0m\u001b[0m\n\u001b[1;32m     66\u001b[0m         \u001b[0;31m### Matrix factorization using SGD/ALS/CCD\u001b[0m\u001b[0;34m\u001b[0m\u001b[0;34m\u001b[0m\u001b[0m\n",
      "\u001b[0;32m/Users/asmaetounsi/Documents/Etudes/EPFL/pattern/PCML_project2/code/cross_validation.py\u001b[0m in \u001b[0;36mk_fold_generator\u001b[0;34m(X, K, kth_fold, batch_size, data_size, shuffled_index)\u001b[0m\n\u001b[1;32m     19\u001b[0m     \u001b[0mtrain_ind\u001b[0m \u001b[0;34m=\u001b[0m \u001b[0mshuffled_index\u001b[0m\u001b[0;34m[\u001b[0m\u001b[0mnp\u001b[0m\u001b[0;34m.\u001b[0m\u001b[0msetxor1d\u001b[0m\u001b[0;34m(\u001b[0m\u001b[0mrange\u001b[0m\u001b[0;34m(\u001b[0m\u001b[0;36m0\u001b[0m\u001b[0;34m,\u001b[0m\u001b[0mdata_size\u001b[0m\u001b[0;34m)\u001b[0m\u001b[0;34m,\u001b[0m\u001b[0mrange\u001b[0m\u001b[0;34m(\u001b[0m\u001b[0mstart_val_ind\u001b[0m\u001b[0;34m,\u001b[0m\u001b[0mend_val_ind\u001b[0m\u001b[0;34m)\u001b[0m\u001b[0;34m)\u001b[0m\u001b[0;34m]\u001b[0m\u001b[0;34m\u001b[0m\u001b[0m\n\u001b[1;32m     20\u001b[0m     \u001b[0mtrain\u001b[0m\u001b[0;34m[\u001b[0m\u001b[0mtrain_ind\u001b[0m\u001b[0;34m]\u001b[0m \u001b[0;34m=\u001b[0m \u001b[0mXdense\u001b[0m\u001b[0;34m[\u001b[0m\u001b[0mtrain_ind\u001b[0m\u001b[0;34m]\u001b[0m                  \u001b[0;31m## Training data indices\u001b[0m\u001b[0;34m\u001b[0m\u001b[0m\n\u001b[0;32m---> 21\u001b[0;31m     \u001b[0;32mreturn\u001b[0m \u001b[0msp\u001b[0m\u001b[0;34m.\u001b[0m\u001b[0mlil_matrix\u001b[0m\u001b[0;34m(\u001b[0m\u001b[0mtrain\u001b[0m\u001b[0;34m)\u001b[0m\u001b[0;34m,\u001b[0m \u001b[0msp\u001b[0m\u001b[0;34m.\u001b[0m\u001b[0mlil_matrix\u001b[0m\u001b[0;34m(\u001b[0m\u001b[0mvalidation\u001b[0m\u001b[0;34m)\u001b[0m\u001b[0;31m## Return sparse matrices\u001b[0m\u001b[0;34m\u001b[0m\u001b[0m\n\u001b[0m\u001b[1;32m     22\u001b[0m \u001b[0;34m\u001b[0m\u001b[0m\n\u001b[1;32m     23\u001b[0m     \"\"\"\n",
      "\u001b[0;32m/Users/asmaetounsi/anaconda3/lib/python3.5/site-packages/scipy/sparse/lil.py\u001b[0m in \u001b[0;36m__init__\u001b[0;34m(self, arg1, shape, dtype, copy)\u001b[0m\n\u001b[1;32m    120\u001b[0m             \u001b[0;32melse\u001b[0m\u001b[0;34m:\u001b[0m\u001b[0;34m\u001b[0m\u001b[0m\n\u001b[1;32m    121\u001b[0m                 \u001b[0;32mfrom\u001b[0m \u001b[0;34m.\u001b[0m\u001b[0mcsr\u001b[0m \u001b[0;32mimport\u001b[0m \u001b[0mcsr_matrix\u001b[0m\u001b[0;34m\u001b[0m\u001b[0m\n\u001b[0;32m--> 122\u001b[0;31m                 \u001b[0mA\u001b[0m \u001b[0;34m=\u001b[0m \u001b[0mcsr_matrix\u001b[0m\u001b[0;34m(\u001b[0m\u001b[0mA\u001b[0m\u001b[0;34m,\u001b[0m \u001b[0mdtype\u001b[0m\u001b[0;34m=\u001b[0m\u001b[0mdtype\u001b[0m\u001b[0;34m)\u001b[0m\u001b[0;34m.\u001b[0m\u001b[0mtolil\u001b[0m\u001b[0;34m(\u001b[0m\u001b[0;34m)\u001b[0m\u001b[0;34m\u001b[0m\u001b[0m\n\u001b[0m\u001b[1;32m    123\u001b[0m \u001b[0;34m\u001b[0m\u001b[0m\n\u001b[1;32m    124\u001b[0m                 \u001b[0mself\u001b[0m\u001b[0;34m.\u001b[0m\u001b[0mshape\u001b[0m \u001b[0;34m=\u001b[0m \u001b[0mA\u001b[0m\u001b[0;34m.\u001b[0m\u001b[0mshape\u001b[0m\u001b[0;34m\u001b[0m\u001b[0m\n",
      "\u001b[0;32m/Users/asmaetounsi/anaconda3/lib/python3.5/site-packages/scipy/sparse/csr.py\u001b[0m in \u001b[0;36mtolil\u001b[0;34m(self)\u001b[0m\n\u001b[1;32m    133\u001b[0m     \u001b[0;32mdef\u001b[0m \u001b[0mtolil\u001b[0m\u001b[0;34m(\u001b[0m\u001b[0mself\u001b[0m\u001b[0;34m)\u001b[0m\u001b[0;34m:\u001b[0m\u001b[0;34m\u001b[0m\u001b[0m\n\u001b[1;32m    134\u001b[0m         \u001b[0;32mfrom\u001b[0m \u001b[0;34m.\u001b[0m\u001b[0mlil\u001b[0m \u001b[0;32mimport\u001b[0m \u001b[0mlil_matrix\u001b[0m\u001b[0;34m\u001b[0m\u001b[0m\n\u001b[0;32m--> 135\u001b[0;31m         \u001b[0mlil\u001b[0m \u001b[0;34m=\u001b[0m \u001b[0mlil_matrix\u001b[0m\u001b[0;34m(\u001b[0m\u001b[0mself\u001b[0m\u001b[0;34m.\u001b[0m\u001b[0mshape\u001b[0m\u001b[0;34m,\u001b[0m\u001b[0mdtype\u001b[0m\u001b[0;34m=\u001b[0m\u001b[0mself\u001b[0m\u001b[0;34m.\u001b[0m\u001b[0mdtype\u001b[0m\u001b[0;34m)\u001b[0m\u001b[0;34m\u001b[0m\u001b[0m\n\u001b[0m\u001b[1;32m    136\u001b[0m \u001b[0;34m\u001b[0m\u001b[0m\n\u001b[1;32m    137\u001b[0m         \u001b[0mself\u001b[0m\u001b[0;34m.\u001b[0m\u001b[0msort_indices\u001b[0m\u001b[0;34m(\u001b[0m\u001b[0;34m)\u001b[0m  \u001b[0;31m# lil_matrix needs sorted column indices\u001b[0m\u001b[0;34m\u001b[0m\u001b[0m\n",
      "\u001b[0;32m/Users/asmaetounsi/anaconda3/lib/python3.5/site-packages/scipy/sparse/lil.py\u001b[0m in \u001b[0;36m__init__\u001b[0;34m(self, arg1, shape, dtype, copy)\u001b[0m\n\u001b[1;32m    109\u001b[0m                 \u001b[0;32mfor\u001b[0m \u001b[0mi\u001b[0m \u001b[0;32min\u001b[0m \u001b[0mrange\u001b[0m\u001b[0;34m(\u001b[0m\u001b[0mM\u001b[0m\u001b[0;34m)\u001b[0m\u001b[0;34m:\u001b[0m\u001b[0;34m\u001b[0m\u001b[0m\n\u001b[1;32m    110\u001b[0m                     \u001b[0mself\u001b[0m\u001b[0;34m.\u001b[0m\u001b[0mrows\u001b[0m\u001b[0;34m[\u001b[0m\u001b[0mi\u001b[0m\u001b[0;34m]\u001b[0m \u001b[0;34m=\u001b[0m \u001b[0;34m[\u001b[0m\u001b[0;34m]\u001b[0m\u001b[0;34m\u001b[0m\u001b[0m\n\u001b[0;32m--> 111\u001b[0;31m                     \u001b[0mself\u001b[0m\u001b[0;34m.\u001b[0m\u001b[0mdata\u001b[0m\u001b[0;34m[\u001b[0m\u001b[0mi\u001b[0m\u001b[0;34m]\u001b[0m \u001b[0;34m=\u001b[0m \u001b[0;34m[\u001b[0m\u001b[0;34m]\u001b[0m\u001b[0;34m\u001b[0m\u001b[0m\n\u001b[0m\u001b[1;32m    112\u001b[0m             \u001b[0;32melse\u001b[0m\u001b[0;34m:\u001b[0m\u001b[0;34m\u001b[0m\u001b[0m\n\u001b[1;32m    113\u001b[0m                 \u001b[0;32mraise\u001b[0m \u001b[0mTypeError\u001b[0m\u001b[0;34m(\u001b[0m\u001b[0;34m'unrecognized lil_matrix constructor usage'\u001b[0m\u001b[0;34m)\u001b[0m\u001b[0;34m\u001b[0m\u001b[0m\n",
      "\u001b[0;31mKeyboardInterrupt\u001b[0m: "
     ]
    }
   ],
   "source": [
    "## !!! Takes long time to run\n",
    "\n",
    "method = 2     # 0-SGD 1-ALS\n",
    "K = 5         ## K-fold cross validation\n",
    "gamma = 0.01\n",
    "num_features_arr = [1, 3, 5, 7, 10, 13, 15]   # K in the lecture notes\n",
    "lambda_user = 0.1\n",
    "lambda_item = 0.7\n",
    "min_num_ratings=10\n",
    "\n",
    "train_rmse_mean = np.zeros(len(num_features_arr))\n",
    "train_rmse_std = np.zeros(len(num_features_arr))\n",
    "validation_rmse_mean = np.zeros(len(num_features_arr))\n",
    "validation_rmse_std = np.zeros(len(num_features_arr))\n",
    "\n",
    "for i, num_features in enumerate(num_features_arr):\n",
    "    train_rmse_arr = []\n",
    "    validation_rmse_arr = []\n",
    "    \n",
    "    print('Running num_features={n}'.format(n=num_features))\n",
    "    [train_rmse_arr, validation_rmse_arr] = cross_validation(ratings, K, method, num_items_per_user, \n",
    "                                                             num_users_per_item, min_num_ratings, num_features, lambda_user, lambda_item)\n",
    "        \n",
    "    ## Calculate mean and standard deviation    \n",
    "    train_rmse_mean[i] = np.mean(train_rmse_arr)\n",
    "    train_rmse_std[i] = np.std(train_rmse_arr)\n",
    "    validation_rmse_mean[i] = np.mean(validation_rmse_arr)\n",
    "    validation_rmse_std[i] = np.std(validation_rmse_std)\n",
    "    \n",
    "## Plotting results\n",
    "plt.fill_between(num_features_arr, train_rmse_mean - train_rmse_std,\n",
    "                     train_rmse_mean + train_rmse_std, alpha=0.1, color=\"r\")\n",
    "plt.fill_between(num_features_arr, validation_rmse_mean - validation_rmse_std,\n",
    "                     validation_rmse_mean + validation_rmse_std, alpha=0.1, color=\"g\")\n",
    "plt.plot(num_features_arr, train_rmse_mean, 'o-', color=\"r\")\n",
    "plt.plot(num_features_arr, validation_rmse_mean, 'o-', color=\"g\")\n",
    "plt.legend(('Train', 'Validation'))\n",
    "plt.xlabel('Number of features (K)'); plt.ylabel('RMSE');\n",
    "plt.show()"
   ]
  },
  {
   "cell_type": "code",
   "execution_count": 6,
   "metadata": {
    "collapsed": false
   },
   "outputs": [
    {
     "name": "stdout",
     "output_type": "stream",
     "text": [
      "[ 0.99645032  0.99644168  0.          0.          0.          0.          0.        ]\n",
      "[  1.11022302e-16   1.11022302e-16   0.00000000e+00   0.00000000e+00\n",
      "   0.00000000e+00   0.00000000e+00   0.00000000e+00]\n",
      "[ 0.99645154  0.99644258  0.          0.          0.          0.          0.        ]\n",
      "[ 0.  0.  0.  0.  0.  0.  0.]\n"
     ]
    }
   ],
   "source": [
    "print(train_rmse_mean)\n",
    "print(train_rmse_std)\n",
    "print(validation_rmse_mean)\n",
    "print(validation_rmse_std)"
   ]
  },
  {
   "cell_type": "markdown",
   "metadata": {},
   "source": [
    "### lambda_user"
   ]
  },
  {
   "cell_type": "code",
   "execution_count": 6,
   "metadata": {
    "collapsed": false
   },
   "outputs": [
    {
     "name": "stdout",
     "output_type": "stream",
     "text": [
      "Running lambda_user=0.01\n",
      "Running 1th fold in 5 folds\n",
      "learn the matrix factorization using CCD...\n",
      "iter: 0.0, RMSE on training set: 0.9964503244960371.\n",
      "iter: 1.0, RMSE on training set: 0.9964503242477375.\n",
      "RMSE on test data: 0.9964587238475606.\n",
      "Running 2th fold in 5 folds\n",
      "learn the matrix factorization using CCD...\n",
      "iter: 0.0, RMSE on training set: 0.9964503244960371.\n",
      "iter: 1.0, RMSE on training set: 0.9964503242477375.\n",
      "RMSE on test data: 0.9964584304313565.\n",
      "Running 3th fold in 5 folds\n",
      "learn the matrix factorization using CCD...\n",
      "iter: 0.0, RMSE on training set: 0.9964503244960371.\n",
      "iter: 1.0, RMSE on training set: 0.9964503242477375.\n",
      "RMSE on test data: 0.9964523313834746.\n",
      "Running 4th fold in 5 folds\n",
      "learn the matrix factorization using CCD...\n",
      "iter: 0.0, RMSE on training set: 0.9964503244960371.\n",
      "iter: 1.0, RMSE on training set: 0.9964503242477375.\n",
      "RMSE on test data: 0.9964418033298583.\n",
      "Running 5th fold in 5 folds\n",
      "learn the matrix factorization using CCD...\n",
      "iter: 0.0, RMSE on training set: 0.9964503244960371.\n",
      "iter: 1.0, RMSE on training set: 0.9964503242477375.\n",
      "RMSE on test data: 0.9964463963413265.\n",
      "Running lambda_user=0.1\n",
      "Running 1th fold in 5 folds\n",
      "learn the matrix factorization using CCD...\n",
      "iter: 0.0, RMSE on training set: 0.9964503244960371.\n",
      "iter: 1.0, RMSE on training set: 0.9964503242477375.\n",
      "RMSE on test data: 0.9964587238475606.\n",
      "Running 2th fold in 5 folds\n",
      "learn the matrix factorization using CCD...\n",
      "iter: 0.0, RMSE on training set: 0.9964503244960371.\n",
      "iter: 1.0, RMSE on training set: 0.9964503242477375.\n",
      "RMSE on test data: 0.9964584304313565.\n",
      "Running 3th fold in 5 folds\n",
      "learn the matrix factorization using CCD...\n",
      "iter: 0.0, RMSE on training set: 0.9964503244960371.\n",
      "iter: 1.0, RMSE on training set: 0.9964503242477375.\n",
      "RMSE on test data: 0.9964523313834746.\n",
      "Running 4th fold in 5 folds\n",
      "learn the matrix factorization using CCD...\n",
      "iter: 0.0, RMSE on training set: 0.9964503244960371.\n",
      "iter: 1.0, RMSE on training set: 0.9964503242477375.\n",
      "RMSE on test data: 0.9964418033298583.\n",
      "Running 5th fold in 5 folds\n",
      "learn the matrix factorization using CCD...\n",
      "iter: 0.0, RMSE on training set: 0.9964503244960371.\n",
      "iter: 1.0, RMSE on training set: 0.9964503242477375.\n",
      "RMSE on test data: 0.9964463963413265.\n",
      "Running lambda_user=1\n",
      "Running 1th fold in 5 folds\n",
      "learn the matrix factorization using CCD...\n",
      "iter: 0.0, RMSE on training set: 0.9964503244960371.\n",
      "iter: 1.0, RMSE on training set: 0.9964503242477375.\n",
      "RMSE on test data: 0.9964587238475606.\n",
      "Running 2th fold in 5 folds\n",
      "learn the matrix factorization using CCD...\n",
      "iter: 0.0, RMSE on training set: 0.9964503244960371.\n",
      "iter: 1.0, RMSE on training set: 0.9964503242477375.\n",
      "RMSE on test data: 0.9964584304313565.\n",
      "Running 3th fold in 5 folds\n",
      "learn the matrix factorization using CCD...\n",
      "iter: 0.0, RMSE on training set: 0.9964503244960371.\n",
      "iter: 1.0, RMSE on training set: 0.9964503242477375.\n",
      "RMSE on test data: 0.9964523313834746.\n",
      "Running 4th fold in 5 folds\n",
      "learn the matrix factorization using CCD...\n",
      "iter: 0.0, RMSE on training set: 0.9964503244960371.\n",
      "iter: 1.0, RMSE on training set: 0.9964503242477375.\n",
      "RMSE on test data: 0.9964418033298583.\n",
      "Running 5th fold in 5 folds\n",
      "learn the matrix factorization using CCD...\n",
      "iter: 0.0, RMSE on training set: 0.9964503244960371.\n",
      "iter: 1.0, RMSE on training set: 0.9964503242477375.\n",
      "RMSE on test data: 0.9964463963413265.\n",
      "Running lambda_user=10\n",
      "Running 1th fold in 5 folds\n",
      "learn the matrix factorization using CCD...\n",
      "iter: 0.0, RMSE on training set: 0.9964503244960371.\n",
      "iter: 1.0, RMSE on training set: 0.9964503242477375.\n",
      "RMSE on test data: 0.9964587238475606.\n",
      "Running 2th fold in 5 folds\n",
      "learn the matrix factorization using CCD...\n",
      "iter: 0.0, RMSE on training set: 0.9964503244960371.\n",
      "iter: 1.0, RMSE on training set: 0.9964503242477375.\n",
      "RMSE on test data: 0.9964584304313565.\n",
      "Running 3th fold in 5 folds\n",
      "learn the matrix factorization using CCD...\n",
      "iter: 0.0, RMSE on training set: 0.9964503244960371.\n",
      "iter: 1.0, RMSE on training set: 0.9964503242477375.\n",
      "RMSE on test data: 0.9964523313834746.\n",
      "Running 4th fold in 5 folds\n",
      "learn the matrix factorization using CCD...\n",
      "iter: 0.0, RMSE on training set: 0.9964503244960371.\n",
      "iter: 1.0, RMSE on training set: 0.9964503242477375.\n",
      "RMSE on test data: 0.9964418033298583.\n",
      "Running 5th fold in 5 folds\n",
      "learn the matrix factorization using CCD...\n",
      "iter: 0.0, RMSE on training set: 0.9964503244960371.\n",
      "iter: 1.0, RMSE on training set: 0.9964503242477375.\n",
      "RMSE on test data: 0.9964463963413265.\n"
     ]
    },
    {
     "data": {
      "image/png": "[encoded data removed]",
      "text/plain": [
       "<matplotlib.figure.Figure at 0x10b400e10>"
      ]
     },
     "metadata": {},
     "output_type": "display_data"
    }
   ],
   "source": [
    "## !!! Takes long time to run\n",
    "\n",
    "method = 2     # 0-SGD 1-ALS\n",
    "K = 5        ## K-fold cross validation\n",
    "gamma = 0.01\n",
    "num_features = 10   # K in the lecture notes\n",
    "lambda_user_arr = [0.01, 0.1, 1, 10]\n",
    "lambda_item = 0.7\n",
    "\n",
    "train_rmse_mean = np.zeros(len(lambda_user_arr))\n",
    "train_rmse_std = np.zeros(len(lambda_user_arr))\n",
    "validation_rmse_mean = np.zeros(len(lambda_user_arr))\n",
    "validation_rmse_std = np.zeros(len(lambda_user_arr))\n",
    "\n",
    "for i, lambda_user in enumerate(lambda_user_arr):\n",
    "    train_rmse_arr = []\n",
    "    validation_rmse_arr = []\n",
    "    \n",
    "    print('Running lambda_user={n}'.format(n=lambda_user))\n",
    "    [train_rmse_arr, validation_rmse_arr] = cross_validation(ratings, K, method, num_items_per_user, \n",
    "                                                             num_users_per_item, min_num_ratings,  num_features, lambda_user, lambda_item)\n",
    "        \n",
    "    train_rmse_mean[i] = np.mean(train_rmse_arr)\n",
    "    train_rmse_std[i] = np.std(train_rmse_arr)\n",
    "    validation_rmse_mean[i] = np.mean(validation_rmse_arr)\n",
    "    validation_rmse_std[i] = np.std(validation_rmse_std)\n",
    "    \n",
    "## Plotting results\n",
    "plt.fill_between(lambda_user_arr, train_rmse_mean - train_rmse_std,\n",
    "                     train_rmse_mean + train_rmse_std, alpha=0.1, color=\"r\")\n",
    "plt.fill_between(lambda_user_arr, validation_rmse_mean - validation_rmse_std,\n",
    "                     validation_rmse_mean + validation_rmse_std, alpha=0.1, color=\"g\")\n",
    "plt.plot(lambda_user_arr, train_rmse_mean, 'o-', color=\"r\")\n",
    "plt.plot(lambda_user_arr, validation_rmse_mean, 'o-', color=\"g\")\n",
    "plt.legend(('Train', 'Validation'))\n",
    "plt.xlabel('Lambda user'); plt.ylabel('RMSE');\n",
    "plt.show()"
   ]
  },
  {
   "cell_type": "markdown",
   "metadata": {},
   "source": [
    "### Lambda item"
   ]
  },
  {
   "cell_type": "code",
   "execution_count": null,
   "metadata": {
    "collapsed": true
   },
   "outputs": [],
   "source": [
    "## !!! Takes long time to run\n",
    "\n",
    "method = 0     # 0-SGD 1-ALS\n",
    "K = 10        ## K-fold cross validation\n",
    "gamma = 0.01\n",
    "num_features = 20   # K in the lecture notes\n",
    "lambda_user = 0.1\n",
    "lambda_item_arr = [0.01, 0.1, 0.5, 1]\n",
    "\n",
    "train_rmse_mean = np.zeros(len(lambda_item_arr))\n",
    "train_rmse_std = np.zeros(len(lambda_item_arr))\n",
    "validation_rmse_mean = np.zeros(len(lambda_item_arr))\n",
    "validation_rmse_std = np.zeros(len(lambda_item_arr))\n",
    "\n",
    "for i, lambda_item in enumerate(lambda_item_arr):\n",
    "    train_rmse_arr = []\n",
    "    validation_rmse_arr = []\n",
    "    \n",
    "    print('Running lambda_item={n}'.format(n=lambda_item))\n",
    "    [train_rmse_arr, validation_rmse_arr] = cross_validation(ratings, K, method, num_items_per_user, \n",
    "                                                             num_users_per_item, min_num_ratings=10)\n",
    "        \n",
    "    train_rmse_mean[i] = np.mean(train_rmse_arr)\n",
    "    train_rmse_std[i] = np.std(train_rmse_arr)\n",
    "    validation_rmse_mean[i] = np.mean(validation_rmse_arr)\n",
    "    validation_rmse_std[i] = np.std(validation_rmse_std)\n",
    "    \n",
    "## Plotting results\n",
    "plt.fill_between(lambda_item_arr, train_rmse_mean - train_rmse_std,\n",
    "                     train_rmse_mean + train_rmse_std, alpha=0.1, color=\"r\")\n",
    "plt.fill_between(lambda_item_arr, validation_rmse_mean - validation_rmse_std,\n",
    "                     validation_rmse_mean + validation_rmse_std, alpha=0.1, color=\"g\")\n",
    "plt.plot(lambda_item_arr, train_rmse_mean, 'o-', color=\"r\")\n",
    "plt.plot(lambda_item_arr, validation_rmse_mean, 'o-', color=\"g\")\n",
    "plt.legend(('Train', 'Validation'))\n",
    "plt.xlabel('Lambda item'); plt.ylabel('RMSE');\n",
    "plt.show()"
   ]
  },
  {
   "cell_type": "markdown",
   "metadata": {},
   "source": [
    "### Learning rate"
   ]
  },
  {
   "cell_type": "code",
   "execution_count": null,
   "metadata": {
    "collapsed": true
   },
   "outputs": [],
   "source": [
    "## !!! Takes long time to run\n",
    "\n",
    "method = 0     # 0-SGD\n",
    "K = 10        ## K-fold cross validation\n",
    "gamma_arr = [0.01, 0.1, 1]\n",
    "num_features = 20   # K in the lecture notes\n",
    "lambda_user = 0.1\n",
    "lambda_item = 0.5\n",
    "\n",
    "train_rmse_mean = np.zeros(len(gamma_arr))\n",
    "train_rmse_std = np.zeros(len(gamma_arr))\n",
    "validation_rmse_mean = np.zeros(len(gamma_arr))\n",
    "validation_rmse_std = np.zeros(len(gamma_arr))\n",
    "\n",
    "for i, gamma in enumerate(gamma_arr):\n",
    "    train_rmse_arr = []\n",
    "    validation_rmse_arr = []\n",
    "    \n",
    "    print('Running gamma={n}'.format(n=gamma))\n",
    "    [train_rmse_arr, validation_rmse_arr] = cross_validation(ratings, K, method, num_items_per_user, \n",
    "                                                             num_users_per_item, min_num_ratings=10)\n",
    "        \n",
    "    train_rmse_mean[i] = np.mean(train_rmse_arr)\n",
    "    train_rmse_std[i] = np.std(train_rmse_arr)\n",
    "    validation_rmse_mean[i] = np.mean(validation_rmse_arr)\n",
    "    validation_rmse_std[i] = np.std(validation_rmse_std)\n",
    "    \n",
    "## Plotting results\n",
    "plt.fill_between(gamma_arr, train_rmse_mean - train_rmse_std,\n",
    "                     train_rmse_mean + train_rmse_std, alpha=0.1, color=\"r\")\n",
    "plt.fill_between(gamma_arr, validation_rmse_mean - validation_rmse_std,\n",
    "                     validation_rmse_mean + validation_rmse_std, alpha=0.1, color=\"g\")\n",
    "plt.plot(gamma_arr, train_rmse_mean, 'o-', color=\"r\")\n",
    "plt.plot(gamma_arr, validation_rmse_mean, 'o-', color=\"g\")\n",
    "plt.legend(('Train', 'Validation'))\n",
    "plt.xlabel('Learning Rate'); plt.ylabel('RMSE');\n",
    "plt.show()"
   ]
  },
  {
   "cell_type": "markdown",
   "metadata": {},
   "source": [
    "### TODO\n",
    "#### 1. Compare SGD, ALS with the best set of parameters (based on above results)"
   ]
  },
  {
   "cell_type": "code",
   "execution_count": null,
   "metadata": {
    "collapsed": true
   },
   "outputs": [],
   "source": []
  }
 ],
 "metadata": {
  "anaconda-cloud": {},
  "kernelspec": {
   "display_name": "Python [Root]",
   "language": "python",
   "name": "Python [Root]"
  },
  "language_info": {
   "codemirror_mode": {
    "name": "ipython",
    "version": 3
   },
   "file_extension": ".py",
   "mimetype": "text/x-python",
   "name": "python",
   "nbconvert_exporter": "python",
   "pygments_lexer": "ipython3",
   "version": "3.5.2"
  }
 },
 "nbformat": 4,
 "nbformat_minor": 0
}
